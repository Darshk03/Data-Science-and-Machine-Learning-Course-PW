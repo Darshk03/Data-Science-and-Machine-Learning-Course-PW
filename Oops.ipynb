{
  "nbformat": 4,
  "nbformat_minor": 0,
  "metadata": {
    "colab": {
      "provenance": []
    },
    "kernelspec": {
      "name": "python3",
      "display_name": "Python 3"
    },
    "language_info": {
      "name": "python"
    }
  },
  "cells": [
    {
      "cell_type": "markdown",
      "source": [
        "#Python OOPs Questions"
      ],
      "metadata": {
        "id": "WAWofSaEs38r"
      }
    },
    {
      "cell_type": "markdown",
      "source": [
        "#1)What is Object-Oriented Programming (OOP)?\n"
      ],
      "metadata": {
        "id": "FzH_Mzsspbqd"
      }
    },
    {
      "cell_type": "markdown",
      "source": [
        "- OOP is a way of writing code where we organize programs using objects."
      ],
      "metadata": {
        "id": "M-8ZgWqkpbjD"
      }
    },
    {
      "cell_type": "markdown",
      "source": [
        "#2)What is a class in OOP?"
      ],
      "metadata": {
        "id": "iwOVGpmppbek"
      }
    },
    {
      "cell_type": "markdown",
      "source": [
        "- A class is a blueprint or template used to create objects in Object-Oriented Programming.\n",
        "- In class there will be a class attribtes and methods."
      ],
      "metadata": {
        "id": "mcGD5GIQpbbY"
      }
    },
    {
      "cell_type": "markdown",
      "source": [
        "#3)What is an object in OOP?"
      ],
      "metadata": {
        "id": "o82aN0lbpbXT"
      }
    },
    {
      "cell_type": "markdown",
      "source": [
        "- An Object is an instance of a class.\n",
        "- A class is just a blueprint(like a design of a class)\n",
        "- An object is the real things created from a blueprint of car (like actual car like BMW X60 or Audi A8)"
      ],
      "metadata": {
        "id": "vUSMmSrQpbUk"
      }
    },
    {
      "cell_type": "markdown",
      "source": [
        "#4)What is the difference between abstraction and encapsulation?"
      ],
      "metadata": {
        "id": "ZnECePiYpbOy"
      }
    },
    {
      "cell_type": "markdown",
      "source": [
        "- **Abstraction** : Hiding a implementation details and showing only essential features.\n",
        "- **Encapsulation** : Wrapping (binding) data + methods together inside a class and controlling access.\n"
      ],
      "metadata": {
        "id": "uihi6ejwqnMv"
      }
    },
    {
      "cell_type": "markdown",
      "source": [
        "#5)What are dunder methods in Python?\n",
        ""
      ],
      "metadata": {
        "id": "U70yDOkNqnJm"
      }
    },
    {
      "cell_type": "markdown",
      "source": [
        "- Dunder method (short form of Double UNDERscore method)\n",
        "are special methods in python that start and end with double underscore.\n",
        "- ex: __init__  __str__ , __len__ ,__name__\n",
        "- It is also called as magic method because python calls them automatically in certain situations."
      ],
      "metadata": {
        "id": "WpyeYgHsqnFu"
      }
    },
    {
      "cell_type": "markdown",
      "source": [
        "#6)Explain the concept of inheritance in OOPs?"
      ],
      "metadata": {
        "id": "neRGYozSqnDl"
      }
    },
    {
      "cell_type": "markdown",
      "source": [
        "- Inheritance means one class (child class) can use the properties and methods of another class (parent class)."
      ],
      "metadata": {
        "id": "clv_3gDRqnA5"
      }
    },
    {
      "cell_type": "markdown",
      "source": [
        "#7) What is polymorphism in OOP?"
      ],
      "metadata": {
        "id": "rmFQDnUgqm-a"
      }
    },
    {
      "cell_type": "markdown",
      "source": [
        "- Polymorphism means many forms.\n",
        "- It allows the same operation or function(methods) to behave differently depending on the object that is calling it.\n",
        "- We can use the same function name, but it works differently for different objects."
      ],
      "metadata": {
        "id": "KGsKHAzJqm7Y"
      }
    },
    {
      "cell_type": "markdown",
      "source": [
        "#8)How is encapsulation achieved in Python?"
      ],
      "metadata": {
        "id": "nK3rnzAvqm4E"
      }
    },
    {
      "cell_type": "markdown",
      "source": [
        "-It is a concept of hiding the internal details of an object and restricting direct access to some of its components.\n",
        "- The developer only expose what is necessary through methods.\n",
        "- It helps protect data from being changed accidentally.\n",
        "- It is Achieved in Python by using Access Modifiers ,\n",
        "Python uses naming conventions to indicate how “private” a variable or method\n",
        "* Public : any one can access no underscore  \n",
        "* Protected : _(Single underscore)\n",
        "* Private : __(double underscore)\n",
        "\n"
      ],
      "metadata": {
        "id": "VvsJsZjqqm0c"
      }
    },
    {
      "cell_type": "markdown",
      "source": [
        "#9)What is a constructor in Python?"
      ],
      "metadata": {
        "id": "81NEWffEvQCw"
      }
    },
    {
      "cell_type": "markdown",
      "source": [
        "- A constructor is a special method in a class that is automatically called when an object of that class is created.\n",
        "- Its main purpose is to initialize the object’s attributes (variables).\n",
        "- The constructor method is always named: __init__()"
      ],
      "metadata": {
        "id": "JbPOSh5bvRpG"
      }
    },
    {
      "cell_type": "markdown",
      "source": [
        "#10)What are class and static methods in Python?"
      ],
      "metadata": {
        "id": "lGKhD_XcvS5D"
      }
    },
    {
      "cell_type": "markdown",
      "source": [
        "- **Class Method-** The class method is a method that belongs to the class rather than an instance (object).\n",
        "- It can access class variables, but not instance variables.\n",
        "- It can be defined using the decorator @classmethod.\n",
        "- first parameter is usually named cls (refers to the class).\n",
        "\n",
        "- **Static Method-** A static method is a method that does not access the class or instance variables.\n",
        "-It’s like a regular function inside a class.\n",
        "- Defined using the decorator @staticmethod"
      ],
      "metadata": {
        "id": "AzgU_JJOvS0k"
      }
    },
    {
      "cell_type": "markdown",
      "source": [
        "#11)What is method overloading in Python?"
      ],
      "metadata": {
        "id": "gAdPYiyUvSx-"
      }
    },
    {
      "cell_type": "markdown",
      "source": [
        "- Method Overloading means having multiple methods with the same name but different parameters.\n",
        "- But in Python, true method overloading does not exist.\n",
        "- We can define the same method name multiple times in a class, the latest definition overwrites the previous ones."
      ],
      "metadata": {
        "id": "eMs0NU1evSvK"
      }
    },
    {
      "cell_type": "markdown",
      "source": [
        "#12)What is method overriding in OOP?"
      ],
      "metadata": {
        "id": "7iVqcqqOvSra"
      }
    },
    {
      "cell_type": "markdown",
      "source": [
        "- Method overriding happens when a child class (subclass) provides a new implementation for a method that is already defined in its parent class (superclass).\n",
        "- The method in the child class has the same name, same parameters, and same return type as the one in the parent class.\n",
        "- When you call the method on the child class object, the child’s version is executed, not the parent’s."
      ],
      "metadata": {
        "id": "Jp3PwAoDkYu5"
      }
    },
    {
      "cell_type": "markdown",
      "source": [
        "#13)What is a property decorator in Python?"
      ],
      "metadata": {
        "id": "5BR4n1_TkYsw"
      }
    },
    {
      "cell_type": "markdown",
      "source": [
        "- The @property decorator is used to turn a method into an attribute (read-only by default).\n",
        "- It allows to access methods like attributes, without explicitly calling them with ().\n",
        "- This is part of encapsulation, because it lets you control getter, setter, and deleter for class attributes"
      ],
      "metadata": {
        "id": "ATG240v5kYpx"
      }
    },
    {
      "cell_type": "markdown",
      "source": [
        "#14)Why is polymorphism important in OOP?"
      ],
      "metadata": {
        "id": "Cx5R6mGDkYnI"
      }
    },
    {
      "cell_type": "markdown",
      "source": [
        "- Polymorphism allows the same function or method name to work in different ways depending on the object.\n",
        "- It improves code reusability and flexibility, since one interface can handle multiple data types.\n",
        "- It supports extensibility, making programs easier to maintain and scale."
      ],
      "metadata": {
        "id": "fo51vQGXkYjK"
      }
    },
    {
      "cell_type": "markdown",
      "source": [
        "#15)What is an abstract class in Python?"
      ],
      "metadata": {
        "id": "vpKhdi2YkYgu"
      }
    },
    {
      "cell_type": "markdown",
      "source": [
        "- An abstract class is a class that cannot be instantiated directly (you can’t create objects from it).\n",
        "- It is used as a blueprint for other classes.\n",
        "- Abstract classes can have abstract methods (methods declared but not implemented) that must be implemented by child classes."
      ],
      "metadata": {
        "id": "3YHiIrYakYd1"
      }
    },
    {
      "cell_type": "markdown",
      "source": [],
      "metadata": {
        "id": "9mzSBvZtkYbF"
      }
    },
    {
      "cell_type": "markdown",
      "source": [
        "#16)What are the advantages of OOP?"
      ],
      "metadata": {
        "id": "YTmYF94lmgm9"
      }
    },
    {
      "cell_type": "markdown",
      "source": [
        "- **Reusability:** Code can be reused through inheritance, reducing duplication.\n",
        "- **Modularity:** Large programs are divided into classes/objects, making them easier to manage.\n",
        "- **Maintainability & Flexibility:** Code is easier to modify and extend without affecting other parts."
      ],
      "metadata": {
        "id": "UJJGAgffmgjd"
      }
    },
    {
      "cell_type": "markdown",
      "source": [
        "#17) What is the difference between a class variable and an instance variable?"
      ],
      "metadata": {
        "id": "5WrBDuslmgf-"
      }
    },
    {
      "cell_type": "markdown",
      "source": [
        "- **Class Variable:** A variable that is shared by all objects of a class.\n",
        "- **Instance Variable:** A variable that is unique to each object of a class."
      ],
      "metadata": {
        "id": "5FpQs9BUmgcc"
      }
    },
    {
      "cell_type": "markdown",
      "source": [
        "#18)What is multiple inheritance in Python?"
      ],
      "metadata": {
        "id": "LJW9N2mpmgYB"
      }
    },
    {
      "cell_type": "markdown",
      "source": [
        "- Multiple inheritance is a feature where a child class inherits from more than one parent class.\n",
        "- The child class gets the properties and methods of all parent classes."
      ],
      "metadata": {
        "id": "c9nSjO1WkYYS"
      }
    },
    {
      "cell_type": "markdown",
      "source": [],
      "metadata": {
        "id": "68jpObtAvSor"
      }
    },
    {
      "cell_type": "markdown",
      "source": [
        "#19) Explain the purpose of ‘’__str__’ and ‘__repr__’ ‘ methods in Python."
      ],
      "metadata": {
        "id": "sWYFKHkooVnA"
      }
    },
    {
      "cell_type": "markdown",
      "source": [
        "1) `__str__` **Method:** Returns a user-friendly string representation of an object.\n",
        "- Called when you use print(object) or str(object).\n",
        "2) `__repr__` **Method:** Returns an unambiguous string representation of the object.\n",
        "- Should ideally be a string that could be used to recreate the object.\n",
        "- Called when you use repr(object) or just type the object in interactive mode."
      ],
      "metadata": {
        "id": "YB8OJHxPoVkR"
      }
    },
    {
      "cell_type": "markdown",
      "source": [
        "#20)What is the significance of the ‘super()’ function in Python?"
      ],
      "metadata": {
        "id": "igH0EurYoVfH"
      }
    },
    {
      "cell_type": "markdown",
      "source": [
        "- `super()` is a built-in function that allows a child class to access methods and attributes of its parent class.\n",
        "- It is commonly used in inheritance to call the parent class constructor or methods without explicitly naming the parent."
      ],
      "metadata": {
        "id": "NQqb6052oVax"
      }
    },
    {
      "cell_type": "markdown",
      "source": [
        "#21)What is the significance of the __del__ method in Python?"
      ],
      "metadata": {
        "id": "C-jw7eqioVXi"
      }
    },
    {
      "cell_type": "markdown",
      "source": [
        "- The __del__ method is called a destructor in Python.\n",
        "- It is automatically called when an object is about to be destroyed (i.e., when it is no longer referenced).\n",
        "- Its purpose is to clean up resources or perform final actions before the object is deleted."
      ],
      "metadata": {
        "id": "tnLbcRU2oVUO"
      }
    },
    {
      "cell_type": "markdown",
      "source": [
        "#22) What is the difference between @staticmethod and @classmethod in Python?"
      ],
      "metadata": {
        "id": "NgseD-lBvSJ8"
      }
    },
    {
      "cell_type": "markdown",
      "source": [
        "- `@staticmethod`: Cannot access instance (self) or class (cls) variables.\n",
        "- `@classmethod`: Can access class variables (cls) but not instance variables (self).\n"
      ],
      "metadata": {
        "id": "n0VVVvf8qDjk"
      }
    },
    {
      "cell_type": "markdown",
      "source": [
        "#23)How does polymorphism work in Python with inheritance?"
      ],
      "metadata": {
        "id": "d96AF8m6qDgI"
      }
    },
    {
      "cell_type": "markdown",
      "source": [
        "- Polymorphism means “many forms”.\n",
        "- In OOP, it allows the same method or operator to behave differently depending on the object.\n",
        "- Polymorphism + Inheritance: When a child class overrides a method from the parent class, the same method name behaves differently for different objects.\n",
        "- This is called runtime polymorphism or dynamic polymorphism."
      ],
      "metadata": {
        "id": "rqg-lg-rqDLe"
      }
    },
    {
      "cell_type": "markdown",
      "source": [
        "#24)What is method chaining in Python OOP?"
      ],
      "metadata": {
        "id": "f05lVC7FqDIB"
      }
    },
    {
      "cell_type": "markdown",
      "source": [
        "- Method chaining is a technique where multiple methods are called in a single statement, one after another, on the same object.\n",
        "- Each method returns the object itself (self), so the next method can be called immediately.\n",
        "- It makes code more readable and concise."
      ],
      "metadata": {
        "id": "1RKh-L6nqDEP"
      }
    },
    {
      "cell_type": "markdown",
      "source": [
        "#25) What is the purpose of the __call__ method in Python?"
      ],
      "metadata": {
        "id": "oCi_sUF3sRtP"
      }
    },
    {
      "cell_type": "markdown",
      "source": [
        "- The `__call__` method allows an object of a class to be called like a function.\n",
        "- If a class defines `__call__`, you can use parentheses () directly on the object.\n",
        "- This is useful for making callable objects or function-like behavior in classes."
      ],
      "metadata": {
        "id": "R4Nj7uwpsRZ-"
      }
    },
    {
      "cell_type": "markdown",
      "source": [
        "#Practical Questions"
      ],
      "metadata": {
        "id": "qJcgR20nsRWQ"
      }
    },
    {
      "cell_type": "markdown",
      "source": [
        "#1)Create a parent class Animal with a method speak() that prints a generic message. Create a child class Dog that overrides the speak() method to print \"Bark!\"."
      ],
      "metadata": {
        "id": "rlMCs0AOtyW2"
      }
    },
    {
      "cell_type": "code",
      "source": [
        "class Animal():\n",
        "  def __init__(self,name):\n",
        "    self.name = name\n",
        "\n",
        "  def speak(self):\n",
        "    print(f\"The Name of Animal is: {self.name}\")\n",
        "\n",
        "class Dog(Animal):\n",
        "  def speak(self):\n",
        "    print(f\"{self.name} Bark!\")\n",
        "\n",
        "a = Animal(\"Zoro\")\n",
        "a.speak()\n",
        "d = Dog(\"Tommy\")\n",
        "d.speak()"
      ],
      "metadata": {
        "id": "c95qV8xbt3R0",
        "outputId": "07d7be9c-01e6-422c-fdd7-5f90fd2da1ba",
        "colab": {
          "base_uri": "https://localhost:8080/"
        }
      },
      "execution_count": 3,
      "outputs": [
        {
          "output_type": "stream",
          "name": "stdout",
          "text": [
            "The Name of Animal is: Zoro\n",
            "Tommy Bark!\n"
          ]
        }
      ]
    },
    {
      "cell_type": "markdown",
      "source": [
        "#2) Write a program to create an abstract class Shape with a method area(). Derive classes Circle and Rectangle from it and implement the area() method in both."
      ],
      "metadata": {
        "id": "-Jr8SeWVwLPU"
      }
    },
    {
      "cell_type": "code",
      "source": [
        "class Shape:\n",
        "  def area(self):\n",
        "    pass\n",
        "\n",
        "class Circle(Shape):\n",
        "  def __init__(self,radius):\n",
        "    self.radius = radius\n",
        "\n",
        "  def area(self):\n",
        "    return 3.14 * self.radius * self.radius\n",
        "\n",
        "class Recatngle(Shape):\n",
        "  def __init__(self,length,width):\n",
        "    self.length = length\n",
        "    self.width = width\n",
        "\n",
        "  def area(self):\n",
        "    return self.length * self.width\n",
        "\n",
        "c = Circle(5)\n",
        "print(\"Area of Circle:\", c.area())\n",
        "r = Recatngle(3,3)\n",
        "print(\"Area of Rectangle:\", r.area())\n"
      ],
      "metadata": {
        "id": "gaix4mQRvlmw",
        "outputId": "eba3793a-d9ca-4405-ea18-5a005f2f5ed7",
        "colab": {
          "base_uri": "https://localhost:8080/"
        }
      },
      "execution_count": 7,
      "outputs": [
        {
          "output_type": "stream",
          "name": "stdout",
          "text": [
            "Area of Circle: 78.5\n",
            "Area of Rectangle: 9\n"
          ]
        }
      ]
    },
    {
      "cell_type": "markdown",
      "source": [
        "#3) Implement a multi-level inheritance scenario where a class Vehicle has an attribute type. Derive a class Car and further derive a class ElectricCar that adds a battery attribute"
      ],
      "metadata": {
        "id": "gzW81EnszJGh"
      }
    },
    {
      "cell_type": "code",
      "source": [
        "class Vehicle:\n",
        "  def __init__(self,type):\n",
        "    self.type = type\n",
        "\n",
        "class Car(Vehicle):\n",
        "  def __init__(self,type,model):\n",
        "    super().__init__(type)\n",
        "    self.model = model\n",
        "\n",
        "class ElectricCar(Car):\n",
        "  def __init__(self,type,model,battery):\n",
        "    super().__init__(type,model)\n",
        "    self.battery = battery\n",
        "\n",
        "e = ElectricCar(\"Xuv\",\"Toyota\",5000)\n",
        "print(e.type,e.model,e.battery)\n"
      ],
      "metadata": {
        "id": "KtpkY_S_ynWD",
        "outputId": "dc115bb3-74e0-4050-c47e-23de8b81c3a5",
        "colab": {
          "base_uri": "https://localhost:8080/"
        }
      },
      "execution_count": 8,
      "outputs": [
        {
          "output_type": "stream",
          "name": "stdout",
          "text": [
            "Xuv Toyota 5000\n"
          ]
        }
      ]
    },
    {
      "cell_type": "markdown",
      "source": [
        "#4) Demonstrate polymorphism by creating a base class Bird with a method fly(). Create two derived classes Sparrow and Penguin that override the fly() method.\n"
      ],
      "metadata": {
        "id": "MVpQEN440iPx"
      }
    },
    {
      "cell_type": "code",
      "source": [
        "class Bird:\n",
        "  def fly(self):\n",
        "    pass\n",
        "\n",
        "class Sparrow(Bird):\n",
        "  def fly(self):\n",
        "    print(\"Sparrow can fly\")\n",
        "\n",
        "class Penguin(Bird):\n",
        "  def fly(self):\n",
        "    print(\"Penguin can't fly\")\n",
        "\n",
        "\n",
        "s = Sparrow()\n",
        "s.fly()\n",
        "p = Penguin()\n",
        "p.fly()"
      ],
      "metadata": {
        "id": "ZTMvGM990edk",
        "outputId": "413e34df-e64e-404d-d570-4591cf848118",
        "colab": {
          "base_uri": "https://localhost:8080/"
        }
      },
      "execution_count": 2,
      "outputs": [
        {
          "output_type": "stream",
          "name": "stdout",
          "text": [
            "Sparrow can fly\n",
            "Penguin can't fly\n"
          ]
        }
      ]
    },
    {
      "cell_type": "markdown",
      "source": [
        "#5)Write a program to demonstrate encapsulation by creating a class BankAccount with private attributes balance and methods to deposit, withdraw, and check balance."
      ],
      "metadata": {
        "id": "oilT0yCU4n16"
      }
    },
    {
      "cell_type": "code",
      "source": [
        "class BankAccount:\n",
        "    def __init__(self, initial_balance=0):\n",
        "        self.__balance = initial_balance\n",
        "\n",
        "    def deposit(self, amount):\n",
        "        if amount > 0:\n",
        "            self.__balance += amount\n",
        "            print(f\"Deposited: {amount}\")\n",
        "        else:\n",
        "            print(\"Deposit amount must be positive!\")\n",
        "\n",
        "    def withdraw(self, amount):\n",
        "        if 0 < amount <= self.__balance:\n",
        "            self.__balance -= amount\n",
        "            print(f\"Withdrew: {amount}\")\n",
        "        else:\n",
        "            print(\"Insufficient balance or invalid amount!\")\n",
        "\n",
        "    def check_balance(self):\n",
        "        print(f\"Current Balance: {self.__balance}\")\n",
        "\n",
        "\n",
        "account = BankAccount(100)\n",
        "account.deposit(50)\n",
        "account.withdraw(30)\n",
        "account.check_balance()\n"
      ],
      "metadata": {
        "id": "cTN725GH6XkO",
        "outputId": "aaa8699a-c31b-42ff-dcf9-9382ba0539a1",
        "colab": {
          "base_uri": "https://localhost:8080/"
        }
      },
      "execution_count": 18,
      "outputs": [
        {
          "output_type": "stream",
          "name": "stdout",
          "text": [
            "Deposited: 50\n",
            "Withdrew: 30\n",
            "Current Balance: 120\n"
          ]
        }
      ]
    },
    {
      "cell_type": "markdown",
      "source": [
        "#6)Demonstrate runtime polymorphism using a method play() in a base class Instrument. Derive classes Guitar and Piano that implement their own version of play()."
      ],
      "metadata": {
        "id": "yyDUegnX7wnP"
      }
    },
    {
      "cell_type": "code",
      "source": [
        "class Instrument:\n",
        "    def play(self):\n",
        "        print(\"Playing an instrument...\")\n",
        "\n",
        "class Guitar(Instrument):\n",
        "    def play(self):\n",
        "        print(\"Strumming the guitar\")\n",
        "\n",
        "class Piano(Instrument):\n",
        "    def play(self):\n",
        "        print(\"Playing the piano\")\n",
        "\n",
        "instruments = [Guitar(), Piano()]\n",
        "\n",
        "for inst in instruments:\n",
        "    inst.play()\n"
      ],
      "metadata": {
        "id": "wxuKng4l7rfR",
        "outputId": "bccb346c-082c-480c-91b5-cb8ba349789e",
        "colab": {
          "base_uri": "https://localhost:8080/"
        }
      },
      "execution_count": 22,
      "outputs": [
        {
          "output_type": "stream",
          "name": "stdout",
          "text": [
            "Strumming the guitar\n",
            "Playing the piano\n"
          ]
        }
      ]
    },
    {
      "cell_type": "markdown",
      "source": [
        "#7)Create a class MathOperations with a class method add_numbers() to add two numbers and a static method subtract_numbers() to subtract two numbers."
      ],
      "metadata": {
        "id": "HBLMGlwt8eDL"
      }
    },
    {
      "cell_type": "code",
      "source": [
        "class MathOperations:\n",
        "\n",
        "    @classmethod\n",
        "    def add_numbers(cls, a, b):\n",
        "        return a + b\n",
        "\n",
        "\n",
        "    @staticmethod\n",
        "    def subtract_numbers(a, b):\n",
        "        return a - b\n",
        "\n",
        "print(\"Addition:\", MathOperations.add_numbers(10, 5))\n",
        "print(\"Subtraction:\", MathOperations.subtract_numbers(10, 5))\n"
      ],
      "metadata": {
        "id": "LRzlkn8a8GrF",
        "outputId": "e7017b2c-a6dc-4f35-9e24-38e48369369e",
        "colab": {
          "base_uri": "https://localhost:8080/"
        }
      },
      "execution_count": 23,
      "outputs": [
        {
          "output_type": "stream",
          "name": "stdout",
          "text": [
            "Addition: 15\n",
            "Subtraction: 5\n"
          ]
        }
      ]
    },
    {
      "cell_type": "markdown",
      "source": [
        "#8) Implement a class Person with a class method to count the total number of persons created."
      ],
      "metadata": {
        "id": "dHYDzFWV80NI"
      }
    },
    {
      "cell_type": "code",
      "source": [
        "class Person:\n",
        "    count = 0\n",
        "\n",
        "    def __init__(self, name):\n",
        "        self.name = name\n",
        "        Person.count += 1\n",
        "\n",
        "    @classmethod\n",
        "    def total_persons(cls):\n",
        "        return cls.count\n",
        "\n",
        "\n",
        "p1 = Person(\"Darshan\")\n",
        "p2 = Person(\"Samyak\")\n",
        "p3 = Person(\"Jayesh\")\n",
        "\n",
        "print(\"Total persons created:\", Person.total_persons())\n"
      ],
      "metadata": {
        "id": "0YMpIVam8vYf",
        "outputId": "ae90d807-8839-4752-a004-d42f9f814118",
        "colab": {
          "base_uri": "https://localhost:8080/"
        }
      },
      "execution_count": 24,
      "outputs": [
        {
          "output_type": "stream",
          "name": "stdout",
          "text": [
            "Total persons created: 3\n"
          ]
        }
      ]
    },
    {
      "cell_type": "markdown",
      "source": [
        "#9)Write a class Fraction with attributes numerator and denominator. Override the str method to display the fraction as \"numerator/denominator\"."
      ],
      "metadata": {
        "id": "YE5n8Smk9UHv"
      }
    },
    {
      "cell_type": "code",
      "source": [
        "class Fraction:\n",
        "    def __init__(self, numerator, denominator):\n",
        "        self.numerator = numerator\n",
        "        self.denominator = denominator\n",
        "\n",
        "    def __str__(self):\n",
        "        return f\"{self.numerator}/{self.denominator} = {self.numerator / self.denominator}\"\n",
        "\n",
        "\n",
        "f1 = Fraction(3, 4)\n",
        "f2 = Fraction(7, 2)\n",
        "\n",
        "print(f1)\n",
        "print(f2)\n"
      ],
      "metadata": {
        "id": "3oH2XguI9Pak",
        "outputId": "9c045cbc-9488-411b-d408-289130f1df00",
        "colab": {
          "base_uri": "https://localhost:8080/"
        }
      },
      "execution_count": 26,
      "outputs": [
        {
          "output_type": "stream",
          "name": "stdout",
          "text": [
            "3/4 = 0.75\n",
            "7/2 = 3.5\n"
          ]
        }
      ]
    },
    {
      "cell_type": "markdown",
      "source": [
        "#10)Demonstrate operator overloading by creating a class Vector and overriding the add method to add two vectors."
      ],
      "metadata": {
        "id": "FB7m48JC9sBf"
      }
    },
    {
      "cell_type": "code",
      "source": [
        "class Vector:\n",
        "    def __init__(self, x, y):\n",
        "        self.x = x\n",
        "        self.y = y\n",
        "\n",
        "    def __add__(self, other):\n",
        "        return Vector(self.x + other.x, self.y + other.y)\n",
        "\n",
        "    def __str__(self):\n",
        "        return f\"({self.x}, {self.y})\"\n",
        "\n",
        "v1 = Vector(2, 3)\n",
        "v2 = Vector(4, 5)\n",
        "\n",
        "v3 = v1 + v2\n",
        "\n",
        "print(\"v1 =\", v1)\n",
        "print(\"v2 =\", v2)\n",
        "print(\"v1 + v2 =\", v3)\n"
      ],
      "metadata": {
        "id": "0Jipz0y59hqe",
        "outputId": "1f863e6a-2c9a-4f38-f67d-c2a794dff65f",
        "colab": {
          "base_uri": "https://localhost:8080/"
        }
      },
      "execution_count": 27,
      "outputs": [
        {
          "output_type": "stream",
          "name": "stdout",
          "text": [
            "v1 = (2, 3)\n",
            "v2 = (4, 5)\n",
            "v1 + v2 = (6, 8)\n"
          ]
        }
      ]
    },
    {
      "cell_type": "markdown",
      "source": [
        "#11). Create a class Person with attributes name and age. Add a method greet() that prints \"Hello, my name is{name} and I am {age} years old."
      ],
      "metadata": {
        "id": "kfxFDUtG-Awo"
      }
    },
    {
      "cell_type": "code",
      "source": [
        "class Person:\n",
        "    def __init__(self, name, age):\n",
        "        self.name = name\n",
        "        self.age = age\n",
        "\n",
        "    def greet(self):\n",
        "        print(f\"Hello, my name is {self.name} and I am {self.age} years old.\")\n",
        "\n",
        "p1 = Person(\"Darshan\", 21)\n",
        "p1.greet()\n",
        "\n",
        "p2 = Person(\"Samyak\", 20)\n",
        "p2.greet()\n"
      ],
      "metadata": {
        "id": "9nKIfy1_98TR",
        "outputId": "ff290b88-7b87-4216-901a-3b00b368987e",
        "colab": {
          "base_uri": "https://localhost:8080/"
        }
      },
      "execution_count": 28,
      "outputs": [
        {
          "output_type": "stream",
          "name": "stdout",
          "text": [
            "Hello, my name is Darshan and I am 21 years old.\n",
            "Hello, my name is Samyak and I am 20 years old.\n"
          ]
        }
      ]
    },
    {
      "cell_type": "markdown",
      "source": [
        "#12) Implement a class Student with attributes name and grades. Create a method average_grade() to compute the average of the grades"
      ],
      "metadata": {
        "id": "-15M7mHz-POv"
      }
    },
    {
      "cell_type": "code",
      "source": [
        "class Student:\n",
        "    def __init__(self, name, grades):\n",
        "        self.name = name\n",
        "        self.grades = grades\n",
        "\n",
        "    def average_grade(self):\n",
        "        if len(self.grades) == 0:\n",
        "            return 0\n",
        "        return sum(self.grades) / len(self.grades)\n",
        "\n",
        "\n",
        "s1 = Student(\"Darshan\", [85, 90, 78, 92])\n",
        "s2 = Student(\"Samyak\", [70, 65, 80])\n",
        "\n",
        "print(f\"{s1.name}'s average grade: {s1.average_grade()}\")\n",
        "print(f\"{s2.name}'s average grade: {s2.average_grade()}\")\n"
      ],
      "metadata": {
        "id": "j8l32IyY-OBj",
        "outputId": "8498019b-630a-4603-c8ea-3e90934df4db",
        "colab": {
          "base_uri": "https://localhost:8080/"
        }
      },
      "execution_count": 29,
      "outputs": [
        {
          "output_type": "stream",
          "name": "stdout",
          "text": [
            "Darshan's average grade: 86.25\n",
            "Samyak's average grade: 71.66666666666667\n"
          ]
        }
      ]
    },
    {
      "cell_type": "markdown",
      "source": [
        "#13) Create a class Rectangle with methods set_dimensions() to set the dimensions and area() to calculate the area"
      ],
      "metadata": {
        "id": "0dRE5qDm-p6U"
      }
    },
    {
      "cell_type": "code",
      "source": [
        "class Rectangle:\n",
        "    def __init__(self):\n",
        "        self.length = 0\n",
        "        self.width = 0\n",
        "\n",
        "    def set_dimensions(self, length, width):\n",
        "        self.length = length\n",
        "        self.width = width\n",
        "\n",
        "    def area(self):\n",
        "        return self.length * self.width\n",
        "\n",
        "\n",
        "rect = Rectangle()\n",
        "rect.set_dimensions(5, 3)\n",
        "print(\"Area of Rectangle:\", rect.area())\n"
      ],
      "metadata": {
        "id": "q62ZjYRC-jdb",
        "outputId": "7076da69-3870-4da7-eef1-6981f1db2bd6",
        "colab": {
          "base_uri": "https://localhost:8080/"
        }
      },
      "execution_count": 30,
      "outputs": [
        {
          "output_type": "stream",
          "name": "stdout",
          "text": [
            "Area of Rectangle: 15\n"
          ]
        }
      ]
    },
    {
      "cell_type": "markdown",
      "source": [
        "#14) Create a class Employee with a method calculate_salary() that computes the salary based on hours worked and hourly rate. Create a derived class Manager that adds a bonus to the salary."
      ],
      "metadata": {
        "id": "ICVXonOc-9Ph"
      }
    },
    {
      "cell_type": "code",
      "source": [
        "\n",
        "class Employee:\n",
        "    def __init__(self, name, hours_worked, hourly_rate):\n",
        "        self.name = name\n",
        "        self.hours_worked = hours_worked\n",
        "        self.hourly_rate = hourly_rate\n",
        "\n",
        "    def calculate_salary(self):\n",
        "        return self.hours_worked * self.hourly_rate\n",
        "\n",
        "\n",
        "class Manager(Employee):\n",
        "    def __init__(self, name, hours_worked, hourly_rate, bonus):\n",
        "\n",
        "        super().__init__(name, hours_worked, hourly_rate)\n",
        "        self.bonus = bonus\n",
        "\n",
        "    def calculate_salary(self):\n",
        "        base_salary = super().calculate_salary()\n",
        "        return base_salary + self.bonus\n",
        "\n",
        "\n",
        "emp = Employee(\"Darshan\", 40, 200)\n",
        "mgr = Manager(\"Soham\", 40, 200, 5000)\n",
        "\n",
        "print(f\"{emp.name}'s Salary: {emp.calculate_salary()}\")\n",
        "print(f\"{mgr.name}'s Salary: {mgr.calculate_salary()}\")\n"
      ],
      "metadata": {
        "id": "bCyB4ONP-3Id",
        "outputId": "a752dee5-b05d-4e39-f3ce-d611414a6a9c",
        "colab": {
          "base_uri": "https://localhost:8080/"
        }
      },
      "execution_count": 31,
      "outputs": [
        {
          "output_type": "stream",
          "name": "stdout",
          "text": [
            "Darshan's Salary: 8000\n",
            "Soham's Salary: 13000\n"
          ]
        }
      ]
    },
    {
      "cell_type": "markdown",
      "source": [
        "#15)Create a class Product with attributes name, price, and quantity. Implement a method total_price() that calculates the total price of the product."
      ],
      "metadata": {
        "id": "Ww-nRNSS_YdP"
      }
    },
    {
      "cell_type": "code",
      "source": [
        "class Product:\n",
        "    def __init__(self, name, price, quantity):\n",
        "        self.name = name\n",
        "        self.price = price\n",
        "        self.quantity = quantity\n",
        "\n",
        "    def total_price(self):\n",
        "        return self.price * self.quantity\n",
        "\n",
        "p1 = Product(\"Laptop\", 50000, 2)\n",
        "p2 = Product(\"Mouse\", 500, 5)\n",
        "\n",
        "print(f\"Total price of {p1.name}: {p1.total_price()}\")\n",
        "print(f\"Total price of {p2.name}: {p2.total_price()}\")\n"
      ],
      "metadata": {
        "id": "pJjuqrHp_OBa",
        "outputId": "ab808352-2269-42e8-d028-06222e9c5f85",
        "colab": {
          "base_uri": "https://localhost:8080/"
        }
      },
      "execution_count": 32,
      "outputs": [
        {
          "output_type": "stream",
          "name": "stdout",
          "text": [
            "Total price of Laptop: 100000\n",
            "Total price of Mouse: 2500\n"
          ]
        }
      ]
    },
    {
      "cell_type": "markdown",
      "source": [
        "#16). Create a class Animal with an abstract method sound(). Create two derived classes Cow and Sheep that implement the sound() method."
      ],
      "metadata": {
        "id": "3Hl50OKi_vN3"
      }
    },
    {
      "cell_type": "code",
      "source": [
        "class Product:\n",
        "    def __init__(self, name, price, quantity):\n",
        "        self.name = name\n",
        "        self.price = price\n",
        "        self.quantity = quantity\n",
        "\n",
        "    def total_price(self):\n",
        "        return self.price * self.quantity\n",
        "\n",
        "\n",
        "p1 = Product(\"Laptop\", 50000, 2)\n",
        "p2 = Product(\"Mouse\", 500, 5)\n",
        "\n",
        "print(f\"Total price of {p1.name}: {p1.total_price()}\")\n",
        "print(f\"Total price of {p2.name}: {p2.total_price()}\")\n"
      ],
      "metadata": {
        "id": "o66u1IkR_rSh",
        "outputId": "8bc76551-d35b-496d-a442-f65797d12cb2",
        "colab": {
          "base_uri": "https://localhost:8080/"
        }
      },
      "execution_count": 33,
      "outputs": [
        {
          "output_type": "stream",
          "name": "stdout",
          "text": [
            "Total price of Laptop: 100000\n",
            "Total price of Mouse: 2500\n"
          ]
        }
      ]
    },
    {
      "cell_type": "markdown",
      "source": [
        "#17) Create a class Book with attributes title, author, and year_published. Add a method get_book_info() that returns a formatted string with the book's details."
      ],
      "metadata": {
        "id": "KRIT9IOlAFh4"
      }
    },
    {
      "cell_type": "code",
      "source": [
        "class Book:\n",
        "    def __init__(self, title, author, year_published):\n",
        "        self.title = title\n",
        "        self.author = author\n",
        "        self.year_published = year_published\n",
        "\n",
        "    def get_book_info(self):\n",
        "        return f\"'{self.title}' by {self.author}, published in {self.year_published}\"\n",
        "\n",
        "b1 = Book(\"The Alchemist\", \"Paulo Coelho\", 1988)\n",
        "b2 = Book(\"Harry Potter\", \"J.K. Rowling\", 1997)\n",
        "\n",
        "print(b1.get_book_info())\n",
        "print(b2.get_book_info())\n"
      ],
      "metadata": {
        "id": "nZ5IpTzSAGzi",
        "outputId": "828f3ad7-db73-4561-ab27-b0c22d2e5d67",
        "colab": {
          "base_uri": "https://localhost:8080/"
        }
      },
      "execution_count": 35,
      "outputs": [
        {
          "output_type": "stream",
          "name": "stdout",
          "text": [
            "'The Alchemist' by Paulo Coelho, published in 1988\n",
            "'Harry Potter' by J.K. Rowling, published in 1997\n"
          ]
        }
      ]
    },
    {
      "cell_type": "markdown",
      "source": [
        "#18) Create a class House with attributes address and price. Create a derived class Mansion that adds an attribute number_of_rooms."
      ],
      "metadata": {
        "id": "flOr6eUcAUMN"
      }
    },
    {
      "cell_type": "code",
      "source": [
        "class House:\n",
        "    def __init__(self, address, price):\n",
        "        self.address = address\n",
        "        self.price = price\n",
        "\n",
        "    def get_info(self):\n",
        "        return f\"House at {self.address}, Price: {self.price}\"\n",
        "\n",
        "\n",
        "class Mansion(House):\n",
        "    def __init__(self, address, price, number_of_rooms):\n",
        "        super().__init__(address, price)\n",
        "        self.number_of_rooms = number_of_rooms\n",
        "\n",
        "    def get_info(self):\n",
        "        return f\"Mansion at {self.address}, Price: {self.price}, Rooms: {self.number_of_rooms}\"\n",
        "\n",
        "\n",
        "h1 = House(\"123 Main St\", 50000)\n",
        "m1 = Mansion(\"456 Luxury Rd\", 500000, 10)\n",
        "\n",
        "print(h1.get_info())\n",
        "print(m1.get_info())\n"
      ],
      "metadata": {
        "id": "u6fbhqGYAJ3E",
        "outputId": "8b52b1c2-63f5-466a-9058-d74a2963c0ae",
        "colab": {
          "base_uri": "https://localhost:8080/"
        }
      },
      "execution_count": 36,
      "outputs": [
        {
          "output_type": "stream",
          "name": "stdout",
          "text": [
            "House at 123 Main St, Price: 50000\n",
            "Mansion at 456 Luxury Rd, Price: 500000, Rooms: 10\n"
          ]
        }
      ]
    },
    {
      "cell_type": "code",
      "source": [],
      "metadata": {
        "id": "gYbHirmnAe4l"
      },
      "execution_count": null,
      "outputs": []
    }
  ]
}