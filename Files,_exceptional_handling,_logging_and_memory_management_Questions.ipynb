{
  "nbformat": 4,
  "nbformat_minor": 0,
  "metadata": {
    "colab": {
      "provenance": []
    },
    "kernelspec": {
      "name": "python3",
      "display_name": "Python 3"
    },
    "language_info": {
      "name": "python"
    }
  },
  "cells": [
    {
      "cell_type": "markdown",
      "source": [
        "#Files, exceptional handling, logging and memory management Questions"
      ],
      "metadata": {
        "id": "vnaEsvqDUK3M"
      }
    },
    {
      "cell_type": "markdown",
      "source": [
        "###1)What is the difference between interpreted and compiled languages?"
      ],
      "metadata": {
        "id": "ZiwaLT1iUSnO"
      }
    },
    {
      "cell_type": "markdown",
      "source": [
        "- **Compiled Language** : In compiled languages, the entire source code is translated (compiled) into machine code (binary/executable) before execution.\n",
        "- A compiler reads your code once, converts it into an executable file, and then you can run that file directly.\n",
        "\n",
        "- **Interpreted Language** : In interpreted languages, the source code is translated line by line into machine code at runtime by an interpreter.\n",
        "- An interpreter reads the program, understands it, and executes instructions directly."
      ],
      "metadata": {
        "id": "wg7UYXloUXEE"
      }
    },
    {
      "cell_type": "markdown",
      "source": [
        "###2)What is exception handling in Python?"
      ],
      "metadata": {
        "id": "hzVVk9qWUW0S"
      }
    },
    {
      "cell_type": "markdown",
      "source": [
        "- Exception handling in Python is a way to deal with errors (exceptions) in a program without stopping its execution unexpectedly.\n",
        "Instead of crashing, Python allows you to catch the error and take some action."
      ],
      "metadata": {
        "id": "5WhVT0QuVieU"
      }
    },
    {
      "cell_type": "markdown",
      "source": [
        "###3)What is the purpose of the finally block in exception handling?\n"
      ],
      "metadata": {
        "id": "YhxlE4jBVia8"
      }
    },
    {
      "cell_type": "markdown",
      "source": [
        "- The finally block is used in exception handling to write code that must always execute, no matter what happens.\n",
        "- If there is an exception → it still runs.\n",
        "- If there is no exception → it still runs.\n",
        "- If there is a return inside try or except → it still runs before returning.\n",
        "\n",
        "\n",
        "\n",
        "```\n",
        "try:\n",
        "    x = 10 / 2\n",
        "    print(\"Result:\", x)\n",
        "except ZeroDivisionError:\n",
        "    print(\"Error\")\n",
        "finally:\n",
        "    print(\"Cleaning up resources...\")\n",
        "```\n",
        "\n"
      ],
      "metadata": {
        "id": "YL4HerILViYv"
      }
    },
    {
      "cell_type": "markdown",
      "source": [
        "###4)What is logging in Python?"
      ],
      "metadata": {
        "id": "oohKTABnViWv"
      }
    },
    {
      "cell_type": "markdown",
      "source": [
        "- Logging in Python is the process of recording messages (information, warnings, errors, debugging details) from your program while it runs.\n",
        "Instead of just printing messages with print(), logging provides a professional way to track what your code is doing."
      ],
      "metadata": {
        "id": "la4gayXgViUh"
      }
    },
    {
      "cell_type": "markdown",
      "source": [
        "###5)What is the significance of the `__del__` method in Python?"
      ],
      "metadata": {
        "id": "_IAUCbutVjOV"
      }
    },
    {
      "cell_type": "markdown",
      "source": [
        "- The `__del__` method in Python is a destructor method.\n",
        "It is called automatically when an object is about to be destroyed (i.e., when it is no longer in use, and Python’s garbage collector deletes it).\n",
        "- The main purpose of `__del__` is to clean up resources before an object is removed from memory.\n",
        "Example: closing files, releasing memory, disconnecting from a database, etc."
      ],
      "metadata": {
        "id": "80jZsGHRVh7L"
      }
    },
    {
      "cell_type": "markdown",
      "source": [
        "###6)What is the difference between import and from ... import in Python?"
      ],
      "metadata": {
        "id": "gXJi4t1xacqQ"
      }
    },
    {
      "cell_type": "markdown",
      "source": [
        "- `import`\n",
        "\n",
        "- Brings in the entire module.\n",
        "\n",
        "- You need to use the module name as a prefix to access its functions or classes.\n",
        "- EX:\n",
        "\n",
        "\n",
        "```\n",
        "import math\n",
        "\n",
        "print(math.sqrt(16))\n",
        "```\n",
        "\n",
        "\n",
        "- `from ... import`\n",
        "\n",
        "- Brings in specific functions, classes, or variables from a module.\n",
        "\n",
        "- You can use them directly without prefixing with module name.\n",
        "- EX:\n",
        "\n",
        "\n",
        "```\n",
        "import math\n",
        "\n",
        "print(math.sqrt(16))\n",
        "```\n",
        "\n"
      ],
      "metadata": {
        "id": "t7s33Upxace6"
      }
    },
    {
      "cell_type": "markdown",
      "source": [
        "### 7)How can you handle multiple exceptions in Python?"
      ],
      "metadata": {
        "id": "c3lpexEPacVf"
      }
    },
    {
      "cell_type": "markdown",
      "source": [
        "- When writing code, sometimes different types of errors can happen. Python allows you to catch multiple exceptions in different ways."
      ],
      "metadata": {
        "id": "qHbdNLU8acLB"
      }
    },
    {
      "cell_type": "markdown",
      "source": [
        "###8)What is the purpose of the with statement when handling files in Python?"
      ],
      "metadata": {
        "id": "pSmvD-LKab_k"
      }
    },
    {
      "cell_type": "markdown",
      "source": [
        "- The with statement in Python is used to open a file, work with it, and automatically close it when you’re done.\n",
        "\n",
        "- It makes file handling safer and cleaner, because you don’t have to remember to call file.close().\n",
        "\n",
        "- Even if an error (exception) happens while working with the file, with will still close it properly."
      ],
      "metadata": {
        "id": "myJ4A2bzabyZ"
      }
    },
    {
      "cell_type": "markdown",
      "source": [
        "###9)What is the difference between multithreading and multiprocessing?"
      ],
      "metadata": {
        "id": "Q0JWl1Knb5sn"
      }
    },
    {
      "cell_type": "markdown",
      "source": [
        "**Multithreading**\n",
        "- Running multiple threads (smaller units of a process) within the same process.\n",
        "- Threads share the same memory space of the process.\n",
        "- Threads are lightweight and switch faster.\n",
        "- Tasks that are I/O-bound (waiting for input/output), like reading files, making API requests, or handling user input.\n",
        "- Due to the Global Interpreter Lock (GIL), only one thread runs Python bytecode at a time (so not great for CPU-heavy tasks).\n",
        "- use cases:\n",
        "1. Web servers handling many requests.\n",
        "2. Downloading multiple files at once.\n",
        "3. GUI programs that need responsiveness.\n",
        "\n",
        "**Multiprocessing**\n",
        "- Running multiple processes, each with its own Python interpreter and memory space.\n",
        "- Processes do not share memory directly (need special mechanisms like queues or pipes to communicate).\n",
        "- Processes take more system resources than threads.\n",
        "- Tasks that are CPU-bound (need heavy computation), like data processing, machine learning, or image processing.\n",
        "- Each process has its own GIL, so true parallel execution is possible.\n",
        "Use cases:\n",
        "1. Performing complex calculations.\n",
        "2. Training machine learning models.\n",
        "3. Video rendering"
      ],
      "metadata": {
        "id": "Oj_04_yDb5pD"
      }
    },
    {
      "cell_type": "markdown",
      "source": [
        "###10)What are the advantages of using logging in a program?"
      ],
      "metadata": {
        "id": "Shvv_gsgb5mY"
      }
    },
    {
      "cell_type": "markdown",
      "source": [
        "- Debugging Made Easy: Helps track errors and understand program flow without using print() statements.\n",
        "- Record Keeping: Keeps a permanent record of program events, which is useful for monitoring and auditing.\n",
        "- Different Levels of Importance: Allows categorizing messages as DEBUG, INFO, WARNING, ERROR, or CRITICAL.\n",
        "- Flexible Output: Can log messages to console, files, or external systems, making programs easier to maintain."
      ],
      "metadata": {
        "id": "EW9CNoyCb5jd"
      }
    },
    {
      "cell_type": "markdown",
      "source": [
        "###11)What is memory management in Python?"
      ],
      "metadata": {
        "id": "D3JcMcYzb5gZ"
      }
    },
    {
      "cell_type": "markdown",
      "source": [
        "- Memory management in Python is the process of allocating and deallocating memory for objects and data automatically while the program runs.\n",
        "\n",
        "- Python handles memory internally, so programmers don’t usually need to manually manage it (unlike C or C++)."
      ],
      "metadata": {
        "id": "jhGa7SCFb5dj"
      }
    },
    {
      "cell_type": "markdown",
      "source": [
        "###12)What are the basic steps involved in exception handling in Python?"
      ],
      "metadata": {
        "id": "mppxydfVb5au"
      }
    },
    {
      "cell_type": "markdown",
      "source": [
        "1. Write the code that might cause an exception inside a `try` block.\n",
        "- Python monitors this code for errors.\n",
        "\n",
        "\n",
        "```\n",
        "try:\n",
        "    x = 10 / 0\n",
        "```\n",
        "2. Catch the exception using an `except` block.\n",
        "- Handle the error gracefully instead of letting the program crash.\n",
        "\n",
        "```\n",
        "except ZeroDivisionError:\n",
        "    print(\"Cannot divide by zero!\")\n",
        "```\n",
        "3. (Optional) Use an `else` block\n",
        "- Runs only if no exception occurs in the try block.\n",
        "```\n",
        "else:\n",
        "    print(\"Division successful!\")\n",
        "```\n",
        "4. (Optional) Use a finally block\n",
        "- Runs `always`, whether an exception occurs or not.\n",
        "- Typically used for `cleanup` (closing files, releasing resources).\n",
        "\n",
        "\n",
        "\n",
        "```\n",
        "finally:\n",
        "    print(\"Execution completed.\")\n",
        "```\n",
        "\n"
      ],
      "metadata": {
        "id": "5uo5laEmm58M"
      }
    },
    {
      "cell_type": "markdown",
      "source": [
        "###13)Why is memory management important in Python?"
      ],
      "metadata": {
        "id": "RW6sKltlm55-"
      }
    },
    {
      "cell_type": "markdown",
      "source": [
        "- Memory management is crucial because it ensures efficient use of system resources and keeps programs running smoothly. Here are the key reasons:\n",
        "1. Prevents Memory Leaks\n",
        "- Automatically frees memory used by objects that are no longer needed.\n",
        "- Avoids situations where memory is wasted, which can slow down or crash programs.\n",
        "\n",
        "2. Optimizes Performance\n",
        "- Efficient allocation and deallocation of memory make the program faster and more responsive.\n",
        "\n",
        "3. Handles Large Data Efficiently\n",
        "- Python programs often work with large datasets (lists, dictionaries, files). Proper memory management ensures the system doesn’t run out of memory.\n",
        "\n",
        "4. Automatic Cleanup\n",
        "- Python uses garbage collection and reference counting to manage memory automatically, reducing programmer effort and errors."
      ],
      "metadata": {
        "id": "Qf397I10m54C"
      }
    },
    {
      "cell_type": "markdown",
      "source": [
        "###14)What is the role of try and except in exception handling?"
      ],
      "metadata": {
        "id": "YcZwmhiEm508"
      }
    },
    {
      "cell_type": "markdown",
      "source": [
        "- In Python’s exception handling, try and except are the main building blocks for managing errors.\n",
        "1. `try` Block\n",
        "- Contains the code that might raise an exception.\n",
        "- Python “tries” to execute this code normally.\n",
        "- If no exception occurs → code runs successfully.\n",
        "- If an exception occurs → Python jumps to the corresponding `except` block.\n",
        "\n",
        "\n",
        "\n",
        "```\n",
        "try:\n",
        "    result = 10 / 0   # This may cause an exception\n",
        "```\n",
        "2. `except` Block\n",
        "\n",
        "Catches and handles exceptions raised in the `try` block.\n",
        "\n",
        "Prevents the program from crashing and allows you to respond to the error.\n",
        "\n",
        "Can specify types of exceptions to handle them differently\n",
        "\n",
        "\n",
        "\n",
        "\n",
        "```\n",
        "except ZeroDivisionError:\n",
        "    print(\"Cannot divide by zero!\")\n",
        "```\n",
        "\n"
      ],
      "metadata": {
        "id": "wywuer0om5y9"
      }
    },
    {
      "cell_type": "markdown",
      "source": [
        "###15)How does Python's garbage collection system work?"
      ],
      "metadata": {
        "id": "dW0EHrOHm5wi"
      }
    },
    {
      "cell_type": "markdown",
      "source": [
        "- Python automatically manages memory using a garbage collector (GC), which frees memory occupied by objects that are no longer needed. This prevents memory leaks and keeps programs efficient.\n",
        "\n",
        "1. Reference Counting\n",
        "- Every object in Python has a reference count, which is the number of variables pointing to it.\n",
        "- Example:\n",
        "\n",
        "\n",
        "```\n",
        "a = [1, 2, 3]\n",
        "b = a   # reference count for the list becomes 2\n",
        "del a   # reference count becomes 1\n",
        "del b   # reference count becomes 0 → object is deleted\n",
        "\n",
        "```\n",
        "\n"
      ],
      "metadata": {
        "id": "obwZDSq3m5uR"
      }
    },
    {
      "cell_type": "markdown",
      "source": [
        "###16) What is the purpose of the else block in exception handling?"
      ],
      "metadata": {
        "id": "500zFnetm5rs"
      }
    },
    {
      "cell_type": "markdown",
      "source": [
        "**Purpose of the else Block in Exception Handling**\n",
        "- The else block in Python is an optional part of exception handling.\n",
        "- It is executed only if no exception occurs in the `try` block.\n",
        "- Helps separate normal code execution from error handling, making the program cleaner and easier to read.\n",
        "\n",
        "\n",
        "\n",
        "```\n",
        "try:\n",
        "    num = int(input(\"Enter a number: \"))\n",
        "    result = 10 / num\n",
        "except ZeroDivisionError:\n",
        "    print(\"Error: Cannot divide by zero\")\n",
        "except ValueError:\n",
        "    print(\"Error: Invalid input\")\n",
        "else:\n",
        "    print(\"Division successful! Result is:\", result)\n",
        "finally:\n",
        "    print(\"Program execution completed.\")\n",
        "\n",
        "```\n",
        "\n"
      ],
      "metadata": {
        "id": "thyJM0t8m5pF"
      }
    },
    {
      "cell_type": "markdown",
      "source": [
        "###17)What are the common logging levels in Python?\n"
      ],
      "metadata": {
        "id": "qo5LT2hVm5ml"
      }
    },
    {
      "cell_type": "markdown",
      "source": [
        "\n",
        "\n",
        "```\n",
        "Level\tNumeric Value\tDescription\n",
        "DEBUG\t10\tDetailed information, used for diagnosing problems.\n",
        "INFO\t20\tGeneral information about program execution.\n",
        "WARNING\t30\tIndicates something unexpected happened, but the program continues.\n",
        "ERROR\t40\tA serious problem occurred; the program might not function correctly.\n",
        "CRITICAL\t50\tVery serious error; program may terminate.\n",
        "```\n",
        "\n",
        "\n",
        "\n",
        "```\n",
        "import logging\n",
        "\n",
        "logging.basicConfig(level=logging.DEBUG)\n",
        "\n",
        "logging.debug(\"Debugging information\")\n",
        "logging.info(\"Program started\")\n",
        "logging.warning(\"Low disk space\")\n",
        "logging.error(\"File not found\")\n",
        "logging.critical(\"System crash!\")\n",
        "\n",
        "```\n",
        "\n",
        "\n"
      ],
      "metadata": {
        "id": "gkKskVjmm5kQ"
      }
    },
    {
      "cell_type": "markdown",
      "source": [
        "###18)What is the difference between os.fork() and multiprocessing in Python?"
      ],
      "metadata": {
        "id": "7QsCpzPFm5hA"
      }
    },
    {
      "cell_type": "markdown",
      "source": [
        "1) **os.fork()**\n",
        "- `os.fork()` is a low-level function in Python (Unix/Linux only) that creates a child process by duplicating the current process.\n",
        "- The child process gets a copy of the parent’s memory (initially), but changes in one do not affect the other.\n",
        "- Works only on Unix/Linux, not on Windows.\n",
        "- You have to manually handle process behavior (like deciding which code runs in parent vs child).\n",
        "\n",
        "\n",
        "```\n",
        "import os\n",
        "\n",
        "pid = os.fork()\n",
        "if pid == 0:\n",
        "    print(\"I am the child process\")\n",
        "else:\n",
        "    print(\"I am the parent process\")\n",
        "\n",
        "```\n",
        "2. **multiprocessing Module**\n",
        "- `multiprocessing` is a high-level module for creating and managing multiple processes in a platform-independent way (works on Windows, Linux, Mac).\n",
        "- Provides a Process class to create new processes.\n",
        "- Supports inter-process communication (IPC) easily using Queues, Pipes, Managers.\n",
        "- Abstracts many low-level details compared to os.fork().\n",
        "\n",
        "\n",
        "\n",
        "```\n",
        "from multiprocessing import Process\n",
        "\n",
        "def worker():\n",
        "    print(\"Child process working\")\n",
        "\n",
        "p = Process(target=worker)\n",
        "p.start()\n",
        "p.join()\n",
        "\n",
        "```\n",
        "\n"
      ],
      "metadata": {
        "id": "UlH56N9uq6wO"
      }
    },
    {
      "cell_type": "markdown",
      "source": [
        "###19)What is the importance of closing a file in Python?"
      ],
      "metadata": {
        "id": "ucbaGMpJq6sv"
      }
    },
    {
      "cell_type": "markdown",
      "source": [
        "- Closing a file after working with it is very important because it frees system resources and ensures data integrity.\n",
        "\n",
        "**Reasons to Close a File**\n",
        "1. Release System Resources\n",
        "- Every open file uses memory and system resources.\n",
        "- Not closing files can lead to resource leaks, slowing down or crashing the program.\n",
        "2. Ensure Data is Written\n",
        "- For write operations, data may be buffered in memory.\n",
        "- file.close() ensures all data is flushed to disk and nothing is lost.\n",
        "3. Prevent File Corruption\n",
        "- Leaving a file open can cause corruption or access conflicts if other programs try to use it.\n",
        "4. Avoid Hitting File Descriptor Limits\n",
        "- Operating systems limit the number of simultaneously open files.\n",
        "- Not closing files may exceed this limit in large programs.\n",
        "\n",
        "\n",
        "\n",
        "```\n",
        "file = open(\"example.txt\", \"w\")\n",
        "file.write(\"Hello, Python!\")\n",
        "file.close()   # Ensures data is saved and resources are freed\n",
        "\n",
        "```\n",
        "\n",
        "\n",
        "\n",
        "```\n",
        "with open(\"example.txt\", \"w\") as file:\n",
        "    file.write(\"Hello, Python!\")\n",
        "# File is automatically closed here\n",
        "\n",
        "```\n",
        "\n",
        "\n",
        "\n"
      ],
      "metadata": {
        "id": "2TlsFcsFq6qP"
      }
    },
    {
      "cell_type": "markdown",
      "source": [
        "###20)What is the difference between file.read() and file.readline() in Python?"
      ],
      "metadata": {
        "id": "x2XpW2Diq6oA"
      }
    },
    {
      "cell_type": "markdown",
      "source": [
        "1. **file.read()**\n",
        "- Reads the entire content of the file (or a specified number of characters).\n",
        "- Returns a string containing all file data (or up to the given size).\n",
        "- Used when you want the whole file at once.\n",
        "\n",
        "2. **file.readline()**\n",
        "- Reads one line at a time from the file.\n",
        "- Returns a string containing one line, including the newline \\n.\n",
        "- Used when you want to process the file line by line."
      ],
      "metadata": {
        "id": "ZiAUiTqgq6lk"
      }
    },
    {
      "cell_type": "markdown",
      "source": [
        "###21)What is the logging module in Python used for?"
      ],
      "metadata": {
        "id": "tTbYpt38q6i8"
      }
    },
    {
      "cell_type": "markdown",
      "source": [
        "- The logging module in Python is used to record messages (logs) from a program during its execution.\n",
        "- It helps developers track events, debug errors, and monitor program behavior in a structured way."
      ],
      "metadata": {
        "id": "8fzLNAwYq6gM"
      }
    },
    {
      "cell_type": "markdown",
      "source": [
        "###22)What is the os module in Python used for in file handling?"
      ],
      "metadata": {
        "id": "1K5HG52oq6dw"
      }
    },
    {
      "cell_type": "markdown",
      "source": [
        "- The `os` module provides functions to interact with the operating system, including tasks related to files and directories. It is widely used for file handling operations beyond basic open/read/write.\n"
      ],
      "metadata": {
        "id": "u7QUxJmcq6ao"
      }
    },
    {
      "cell_type": "markdown",
      "source": [
        "###23)What are the challenges associated with memory management in Python?"
      ],
      "metadata": {
        "id": "Dxz6XlXCq6XB"
      }
    },
    {
      "cell_type": "markdown",
      "source": [
        "- **Memory Leaks from Cyclic References:**\n",
        "Objects referencing each other can create cycles that reference counting alone cannot free, potentially causing memory leaks.\n",
        "\n",
        "- **High Memory Usage:** Large data structures (lists, dictionaries) or inefficient coding practices can consume excessive memory, slowing down the program.\n",
        "- **Uncontrolled Object Creation:** Frequent creation of temporary objects or failing to delete unnecessary objects can increase garbage collection overhead, affecting performance."
      ],
      "metadata": {
        "id": "JOfXdICpq6UJ"
      }
    },
    {
      "cell_type": "markdown",
      "source": [
        "###24)How do you raise an exception manually in Python?"
      ],
      "metadata": {
        "id": "YOvJeJt5q6RM"
      }
    },
    {
      "cell_type": "markdown",
      "source": [
        "- Raising an Exception Manually in Python\n",
        "\n",
        "- You can manually trigger an exception using the raise statement.\n",
        "\n",
        "- This is useful when you want to enforce a condition or signal an error in your code."
      ],
      "metadata": {
        "id": "iWT1sB5FzB4k"
      }
    },
    {
      "cell_type": "markdown",
      "source": [
        "###25)Why is it important to use multithreading in certain applications?"
      ],
      "metadata": {
        "id": "Obg6f6PVzBq_"
      }
    },
    {
      "cell_type": "markdown",
      "source": [
        "- Importance of Multithreading in Certain Applications\n",
        "- Multithreading allows a program to run multiple threads simultaneously within the same process. It is especially useful for I/O-bound or high-concurrency tasks."
      ],
      "metadata": {
        "id": "IIBTRHrCzg-I"
      }
    },
    {
      "cell_type": "markdown",
      "source": [
        "#Practical Questions"
      ],
      "metadata": {
        "id": "SkIYgzFRzr_P"
      }
    },
    {
      "cell_type": "markdown",
      "source": [
        "###1)How can you open a file for writing in Python and write a string to it?"
      ],
      "metadata": {
        "id": "Rxz8sa4oz8i5"
      }
    },
    {
      "cell_type": "code",
      "source": [
        "file = open(\"example.txt\", \"w\")\n",
        "file.write(\"Hello, Python!\")\n",
        "file.close()\n"
      ],
      "metadata": {
        "id": "V98ffNkU0Aiv"
      },
      "execution_count": 1,
      "outputs": []
    },
    {
      "cell_type": "markdown",
      "source": [
        "###2)Write a Python program to read the contents of a file and print each line"
      ],
      "metadata": {
        "id": "y6pi23leIxHs"
      }
    },
    {
      "cell_type": "code",
      "source": [
        "with open(\"example.txt\", \"r\") as file:\n",
        "    for line in file:\n",
        "        print(line, end='')"
      ],
      "metadata": {
        "id": "ANkwsB_4Ivpw",
        "outputId": "4ec70431-d21b-4496-8416-3761bc333fcd",
        "colab": {
          "base_uri": "https://localhost:8080/"
        }
      },
      "execution_count": 2,
      "outputs": [
        {
          "output_type": "stream",
          "name": "stdout",
          "text": [
            "Hello, Python!"
          ]
        }
      ]
    },
    {
      "cell_type": "markdown",
      "source": [
        "###3) How would you handle a case where the file doesn't exist while trying to open it for reading?"
      ],
      "metadata": {
        "id": "juPqL0xFKmIq"
      }
    },
    {
      "cell_type": "code",
      "source": [
        "try:\n",
        "    with open(\"example.txt\", \"r\") as file:\n",
        "        for line in file:\n",
        "            print(line, end='')\n",
        "except FileNotFoundError:\n",
        "    print(\"Error: The file does not exist.\")"
      ],
      "metadata": {
        "id": "IK7pYO3kKM6J",
        "outputId": "134e5428-52ab-4968-c17e-a4a7f3b1e791",
        "colab": {
          "base_uri": "https://localhost:8080/"
        }
      },
      "execution_count": 3,
      "outputs": [
        {
          "output_type": "stream",
          "name": "stdout",
          "text": [
            "Hello, Python!"
          ]
        }
      ]
    },
    {
      "cell_type": "markdown",
      "source": [
        "###4)Write a Python script that reads from one file and writes its content to another file."
      ],
      "metadata": {
        "id": "kmLOXPyoKy6X"
      }
    },
    {
      "cell_type": "code",
      "source": [
        "file = open(\"test1.txt\", \"w\")\n",
        "file.write(\"Hello, Python!\")\n",
        "file.close()\n",
        "\n",
        "source_file = \"test1.txt\"\n",
        "destination_file = \"test2.txt\"\n",
        "\n",
        "try:\n",
        "    with open(source_file, \"r\") as src:\n",
        "        content = src.read()\n",
        "    with open(destination_file, \"w\") as dest:\n",
        "        dest.write(content)\n",
        "\n",
        "    print(f\"Content copied from '{source_file}' to '{destination_file}' successfully.\")\n",
        "\n",
        "except FileNotFoundError:\n",
        "    print(f\"Error: The source file '{source_file}' does not exist.\")\n"
      ],
      "metadata": {
        "id": "866Y4l9uKtt4",
        "outputId": "9afebe96-7bf5-478b-a008-c640d514d2ae",
        "colab": {
          "base_uri": "https://localhost:8080/"
        }
      },
      "execution_count": 5,
      "outputs": [
        {
          "output_type": "stream",
          "name": "stdout",
          "text": [
            "Content copied from 'test1.txt' to 'test2.txt' successfully.\n"
          ]
        }
      ]
    },
    {
      "cell_type": "markdown",
      "source": [
        "###5) How would you catch and handle division by zero error in Python?"
      ],
      "metadata": {
        "id": "Wbolg88rLtjE"
      }
    },
    {
      "cell_type": "code",
      "source": [
        "try:\n",
        "    numerator = 10\n",
        "    denominator = 2\n",
        "    result = numerator / denominator\n",
        "except ZeroDivisionError:\n",
        "    print(\"Error: Cannot divide by zero!\")\n",
        "else:\n",
        "    print(\"Division successful. Result:\", result)"
      ],
      "metadata": {
        "id": "v4UDkm75LR-6",
        "outputId": "3f8de591-18cc-4432-bde9-d4e394aa50d9",
        "colab": {
          "base_uri": "https://localhost:8080/"
        }
      },
      "execution_count": 7,
      "outputs": [
        {
          "output_type": "stream",
          "name": "stdout",
          "text": [
            "Division successful. Result: 5.0\n"
          ]
        }
      ]
    },
    {
      "cell_type": "markdown",
      "source": [
        "###6)Write a Python program that logs an error message to a log file when a division by zero exception occurs."
      ],
      "metadata": {
        "id": "vAMGiORNL80l"
      }
    },
    {
      "cell_type": "code",
      "source": [
        "import logging\n",
        "logging.basicConfig(\n",
        "    filename=\"error.log\",\n",
        "    level=logging.ERROR,\n",
        "    format=\"%(asctime)s - %(levelname)s - %(message)s\"\n",
        ")\n",
        "\n",
        "try:\n",
        "    numerator = 10\n",
        "    denominator = 0\n",
        "    result = numerator / denominator\n",
        "except ZeroDivisionError as e:\n",
        "    logging.error(\"Division by zero occurred: %s\", e)\n",
        "    print(\"An error occurred. Check 'error.log' for details.\")\n"
      ],
      "metadata": {
        "id": "M0RAZX8eLzqe",
        "outputId": "7db1f873-df2d-4c3b-ee0a-3ce3185bb02f",
        "colab": {
          "base_uri": "https://localhost:8080/"
        }
      },
      "execution_count": 8,
      "outputs": [
        {
          "output_type": "stream",
          "name": "stderr",
          "text": [
            "ERROR:root:Division by zero occurred: division by zero\n"
          ]
        },
        {
          "output_type": "stream",
          "name": "stdout",
          "text": [
            "An error occurred. Check 'error.log' for details.\n"
          ]
        }
      ]
    },
    {
      "cell_type": "markdown",
      "source": [
        "###7)How do you log information at different levels (INFO, ERROR, WARNING) in Python using the logging module?"
      ],
      "metadata": {
        "id": "DyzGFLU3MWrU"
      }
    },
    {
      "cell_type": "code",
      "source": [
        "import logging\n",
        "logging.basicConfig(\n",
        "    filename=\"app.log\",\n",
        "    level=logging.DEBUG,\n",
        "    format=\"%(asctime)s - %(levelname)s - %(message)s\"\n",
        ")\n",
        "\n",
        "logging.debug(\"This is a debug message\")\n",
        "logging.info(\"Program started successfully\")\n",
        "logging.warning(\"This is a warning message\")\n",
        "logging.error(\"An error occurred\")\n",
        "logging.critical(\"Critical issue! Immediate attention required\")\n"
      ],
      "metadata": {
        "id": "UizJN-LrMKgY",
        "outputId": "42183b4b-a8a3-4690-8134-4e4d630ef790",
        "colab": {
          "base_uri": "https://localhost:8080/"
        }
      },
      "execution_count": 9,
      "outputs": [
        {
          "output_type": "stream",
          "name": "stderr",
          "text": [
            "WARNING:root:This is a warning message\n",
            "ERROR:root:An error occurred\n",
            "CRITICAL:root:Critical issue! Immediate attention required\n"
          ]
        }
      ]
    },
    {
      "cell_type": "markdown",
      "source": [
        "###8)Write a program to handle a file opening error using exception handling?"
      ],
      "metadata": {
        "id": "aIp42_1RM1-E"
      }
    },
    {
      "cell_type": "code",
      "source": [
        "try:\n",
        "    with open(\"example.txt\", \"r\") as file:\n",
        "        content = file.read()\n",
        "        print(content)\n",
        "except FileNotFoundError:\n",
        "    print(\"Error: The file does not exist.\")\n",
        "except PermissionError:\n",
        "    print(\"Error: You do not have permission to open this file.\")\n",
        "except Exception as e:\n",
        "    print(f\"An unexpected error occurred: {e}\")\n"
      ],
      "metadata": {
        "id": "uT1lCZjEMrWX",
        "outputId": "1606405d-0532-4939-82ae-99a24d149aef",
        "colab": {
          "base_uri": "https://localhost:8080/"
        }
      },
      "execution_count": 10,
      "outputs": [
        {
          "output_type": "stream",
          "name": "stdout",
          "text": [
            "Hello, Python!\n"
          ]
        }
      ]
    },
    {
      "cell_type": "markdown",
      "source": [
        "###9)How can you read a file line by line and store its content in a list in Python?"
      ],
      "metadata": {
        "id": "0msFPNT1NEXZ"
      }
    },
    {
      "cell_type": "code",
      "source": [
        "file = open(\"test1.txt\", \"w\")\n",
        "file.write(\"Hello, Python!\\n\")\n",
        "file.write(\"Hello Darshan\\n\")\n",
        "file.write(\"Welcome\\n\")\n",
        "file.close()\n",
        "\n",
        "lines_list = []\n",
        "\n",
        "with open(\"test1.txt\", \"r\") as file:\n",
        "    for line in file:\n",
        "        lines_list.append(line.strip())\n",
        "\n",
        "print(lines_list)\n"
      ],
      "metadata": {
        "id": "Yr1K-3xUNAyj",
        "outputId": "b3b1a3ad-8fec-4264-c301-36e5b1fb6dfd",
        "colab": {
          "base_uri": "https://localhost:8080/"
        }
      },
      "execution_count": 13,
      "outputs": [
        {
          "output_type": "stream",
          "name": "stdout",
          "text": [
            "['Hello, Python!', 'Hello Darshan', 'Welcome']\n"
          ]
        }
      ]
    },
    {
      "cell_type": "markdown",
      "source": [
        "###10)How can you append data to an existing file in Python?"
      ],
      "metadata": {
        "id": "Oq7U4sseN14t"
      }
    },
    {
      "cell_type": "code",
      "source": [
        "with open(\"test1.txt\", \"a\") as file:\n",
        "    file.write(\"Python is awesome!\\n\")\n",
        "    file.write(\"Let's learn more Python.\\n\")\n",
        "\n",
        "lines_list = []\n",
        "\n",
        "with open(\"test1.txt\", \"r\") as file:\n",
        "    for line in file:\n",
        "        lines_list.append(line.strip())\n",
        "\n",
        "print(lines_list)\n"
      ],
      "metadata": {
        "id": "y9ZAK047NOhh",
        "outputId": "9b5de657-fef4-459c-960c-472911041eb1",
        "colab": {
          "base_uri": "https://localhost:8080/"
        }
      },
      "execution_count": 15,
      "outputs": [
        {
          "output_type": "stream",
          "name": "stdout",
          "text": [
            "['Hello, Python!', 'Hello Darshan', 'Welcome', 'Python is awesome!', \"Let's learn more Python.\", 'Python is awesome!', \"Let's learn more Python.\"]\n"
          ]
        }
      ]
    },
    {
      "cell_type": "markdown",
      "source": [
        "###11)Write a Python program that uses a try-except block to handle an error when attempting to access a dictionary key that doesn't exist"
      ],
      "metadata": {
        "id": "6tE-VJOTOeYe"
      }
    },
    {
      "cell_type": "code",
      "source": [
        "student = {\n",
        "    \"name\": \"Darshan\",\n",
        "    \"age\": 21,\n",
        "    \"course\": \"AI & DS\"\n",
        "}\n",
        "\n",
        "try:\n",
        "    grade = student[\"grade\"]\n",
        "    print(\"Grade:\", grade)\n",
        "except KeyError:\n",
        "    print(\"Error: The key 'grade' does not exist in the dictionary.\")\n"
      ],
      "metadata": {
        "id": "zXL8_Jp6OFom",
        "outputId": "bd4801d3-5af6-4ba2-a4b3-7ff4f45ee141",
        "colab": {
          "base_uri": "https://localhost:8080/"
        }
      },
      "execution_count": 16,
      "outputs": [
        {
          "output_type": "stream",
          "name": "stdout",
          "text": [
            "Error: The key 'grade' does not exist in the dictionary.\n"
          ]
        }
      ]
    },
    {
      "cell_type": "markdown",
      "source": [
        "###12)Write a program that demonstrates using multiple except blocks to handle different types of exceptions."
      ],
      "metadata": {
        "id": "29VjajFmOtud"
      }
    },
    {
      "cell_type": "code",
      "source": [
        "try:\n",
        "    num1 = int(input(\"Enter the first number: \"))\n",
        "    num2 = int(input(\"Enter the second number: \"))\n",
        "    result = num1 / num2\n",
        "    print(\"Result:\", result)\n",
        "\n",
        "except ValueError:\n",
        "    print(\"Error: Please enter valid integers.\")\n",
        "\n",
        "except ZeroDivisionError:\n",
        "    print(\"Error: Cannot divide by zero.\")\n",
        "\n",
        "except Exception as e:\n",
        "    print(f\"An unexpected error occurred: {e}\")\n"
      ],
      "metadata": {
        "id": "UorqWsTyOpJA",
        "outputId": "ac306941-0a73-4a02-a3a3-a8ac57b05cf1",
        "colab": {
          "base_uri": "https://localhost:8080/"
        }
      },
      "execution_count": 17,
      "outputs": [
        {
          "output_type": "stream",
          "name": "stdout",
          "text": [
            "Enter the first number: 8\n",
            "Enter the second number: 0\n",
            "Error: Cannot divide by zero.\n"
          ]
        }
      ]
    },
    {
      "cell_type": "markdown",
      "source": [
        "###13)How would you check if a file exists before attempting to read it in Python."
      ],
      "metadata": {
        "id": "k3iuJXf0PIYt"
      }
    },
    {
      "cell_type": "code",
      "source": [
        "import os\n",
        "\n",
        "filename = \"test.txt\"\n",
        "\n",
        "if os.path.exists(filename):\n",
        "    with open(filename, \"r\") as file:\n",
        "        content = file.read()\n",
        "        print(content)\n",
        "else:\n",
        "    print(f\"Error: The file '{filename}' does not exist.\")\n"
      ],
      "metadata": {
        "id": "JsLhaobxO_p1",
        "outputId": "ccf7d720-2e44-444d-96db-52ac08918593",
        "colab": {
          "base_uri": "https://localhost:8080/"
        }
      },
      "execution_count": 19,
      "outputs": [
        {
          "output_type": "stream",
          "name": "stdout",
          "text": [
            "Error: The file 'test.txt' does not exist.\n"
          ]
        }
      ]
    },
    {
      "cell_type": "markdown",
      "source": [
        "###14)Write a program that uses the logging module to log both informational and error messages."
      ],
      "metadata": {
        "id": "JCSZYib_PjUZ"
      }
    },
    {
      "cell_type": "code",
      "source": [
        "import logging\n",
        "logging.basicConfig(\n",
        "    filename=\"app.log\",\n",
        "    level=logging.DEBUG,\n",
        "    format=\"%(asctime)s - %(levelname)s - %(message)s\"\n",
        ")\n",
        "\n",
        "try:\n",
        "    logging.info(\"Program started\")\n",
        "    num1 = 10\n",
        "    num2 = 0\n",
        "    result = num1 / num2\n",
        "\n",
        "except ZeroDivisionError as e:\n",
        "    logging.error(\"Error occurred: Division by zero\")\n",
        "else:\n",
        "    logging.info(f\"Division successful. Result: {result}\")\n",
        "finally:\n",
        "    logging.info(\"Program ended\")\n"
      ],
      "metadata": {
        "id": "hqWKuCsNPYcy",
        "outputId": "6e0ec219-31cc-4a85-e30c-28ec6da10336",
        "colab": {
          "base_uri": "https://localhost:8080/"
        }
      },
      "execution_count": 20,
      "outputs": [
        {
          "output_type": "stream",
          "name": "stderr",
          "text": [
            "ERROR:root:Error occurred: Division by zero\n"
          ]
        }
      ]
    },
    {
      "cell_type": "markdown",
      "source": [
        "###15)Write a Python program that prints the content of a file and handles the case when the file is empty."
      ],
      "metadata": {
        "id": "1otyEXScP7mS"
      }
    },
    {
      "cell_type": "code",
      "source": [
        "filename = \"test1.txt\"\n",
        "\n",
        "try:\n",
        "    with open(filename, \"r\") as file:\n",
        "        content = file.read()\n",
        "\n",
        "        if content:\n",
        "            print(\"File Content:\\n\")\n",
        "            print(content)\n",
        "        else:\n",
        "            print(f\"The file '{filename}' is empty.\")\n",
        "\n",
        "except FileNotFoundError:\n",
        "    print(f\"Error: The file '{filename}' does not exist.\")\n",
        "except Exception as e:\n",
        "    print(f\"An unexpected error occurred: {e}\")\n"
      ],
      "metadata": {
        "id": "7RQDeMvJP1UZ",
        "outputId": "5ab4f2f3-957c-4701-9a5d-0ca28cccc728",
        "colab": {
          "base_uri": "https://localhost:8080/"
        }
      },
      "execution_count": 22,
      "outputs": [
        {
          "output_type": "stream",
          "name": "stdout",
          "text": [
            "File Content:\n",
            "\n",
            "Hello, Python!\n",
            "Hello Darshan\n",
            "Welcome\n",
            "Python is awesome!\n",
            "Let's learn more Python.\n",
            "Python is awesome!\n",
            "Let's learn more Python.\n",
            "\n"
          ]
        }
      ]
    },
    {
      "cell_type": "markdown",
      "source": [
        "###16)Demonstrate how to use memory profiling to check the memory usage of a small program."
      ],
      "metadata": {
        "id": "o4qwA7DQQOTs"
      }
    },
    {
      "cell_type": "code",
      "source": [
        "!pip install -q memory-profiler\n",
        "from memory_profiler import memory_usage\n",
        "\n",
        "def create_large_list():\n",
        "    print(\"Creating a list with 1 million numbers...\")\n",
        "    my_list = [i for i in range(10**6)]\n",
        "    print(\"List created.\")\n",
        "    return my_list\n",
        "\n",
        "mem_usage = memory_usage((create_large_list,))\n",
        "\n",
        "print(\"\\nMemory usage over time (MiB):\", mem_usage)\n",
        "print(\"Peak memory usage (MiB):\", max(mem_usage))\n"
      ],
      "metadata": {
        "id": "O7U0Bnp7QGPi",
        "outputId": "cbec1e8e-3dc9-438f-99fa-ab0572552d2e",
        "colab": {
          "base_uri": "https://localhost:8080/"
        }
      },
      "execution_count": 27,
      "outputs": [
        {
          "output_type": "stream",
          "name": "stdout",
          "text": [
            "Creating a list with 1 million numbers...\n",
            "List created.\n",
            "Creating a list with 1 million numbers...\n",
            "List created.\n",
            "\n",
            "Memory usage over time (MiB): [196.08203125, 196.08203125, 202.20703125, 208.45703125, 217.83203125, 226.58203125, 234.33203125, 227.5078125, 219.6328125, 211.7578125, 200.1875, 200.1875]\n",
            "Peak memory usage (MiB): 234.33203125\n"
          ]
        }
      ]
    },
    {
      "cell_type": "markdown",
      "source": [
        "###17)Write a Python program to create and write a list of numbers to a file, one number per line."
      ],
      "metadata": {
        "id": "ynkqZp07Rai4"
      }
    },
    {
      "cell_type": "code",
      "source": [
        "numbers = [10, 20, 30, 40, 50]\n",
        "\n",
        "with open(\"numbers.txt\", \"w\") as file:\n",
        "    for number in numbers:\n",
        "        file.write(f\"{number}\\n\")\n",
        "print(\"Numbers have been written to 'numbers.txt'.\")"
      ],
      "metadata": {
        "id": "1MNK0F7kQY14",
        "outputId": "a8d748f5-9ed1-4844-f354-fbb4b02f3a3d",
        "colab": {
          "base_uri": "https://localhost:8080/"
        }
      },
      "execution_count": 29,
      "outputs": [
        {
          "output_type": "stream",
          "name": "stdout",
          "text": [
            "Numbers have been written to 'numbers.txt'.\n"
          ]
        }
      ]
    },
    {
      "cell_type": "markdown",
      "source": [
        "###18)How would you implement a basic logging setup that logs to a file with rotation after 1MB"
      ],
      "metadata": {
        "id": "9YvHXUfjSB01"
      }
    },
    {
      "cell_type": "code",
      "source": [
        "import logging\n",
        "from logging.handlers import RotatingFileHandler\n",
        "\n",
        "logger = logging.getLogger(\"MyLogger\")\n",
        "logger.setLevel(logging.DEBUG)\n",
        "\n",
        "logger.propagate = False\n",
        "\n",
        "handler = RotatingFileHandler(\"app.log\", maxBytes=1*1024, backupCount=3)\n",
        "\n",
        "formatter = logging.Formatter(\"%(asctime)s - %(levelname)s - %(message)s\")\n",
        "handler.setFormatter(formatter)\n",
        "\n",
        "logger.addHandler(handler)\n",
        "\n",
        "for i in range(10):\n",
        "    logger.debug(f\"Debug message {i}\")\n",
        "    logger.info(f\"Info message {i}\")\n",
        "    logger.warning(f\"Warning message {i}\")\n",
        "    logger.error(f\"Error message {i}\")\n",
        "\n",
        "print(\"Logging complete. Check 'app.log' and rotated files.\")\n"
      ],
      "metadata": {
        "id": "OA0Gf8JXRpBB",
        "outputId": "1c8b63c6-c6c1-4b8c-c7b6-612db21f6b74",
        "colab": {
          "base_uri": "https://localhost:8080/"
        }
      },
      "execution_count": 4,
      "outputs": [
        {
          "output_type": "stream",
          "name": "stdout",
          "text": [
            "Logging complete. Check 'app.log' and rotated files.\n"
          ]
        }
      ]
    },
    {
      "cell_type": "markdown",
      "source": [
        "###19)Write a program that handles both IndexError and KeyError using a try-except block"
      ],
      "metadata": {
        "id": "DKbqExHMTMp7"
      }
    },
    {
      "cell_type": "code",
      "source": [
        "my_list = [10, 20, 30]\n",
        "my_dict = {\"name\": \"Darshan\", \"age\": 21}\n",
        "\n",
        "try:\n",
        "    print(\"Accessing index 5 in the list:\", my_list[5])\n",
        "    print(\"Accessing key 'grade' in the dictionary:\", my_dict[\"grade\"])\n",
        "\n",
        "except IndexError:\n",
        "    print(\"Error: List index out of range.\")\n",
        "\n",
        "except KeyError:\n",
        "    print(\"Error: Dictionary key does not exist.\")\n",
        "\n",
        "except Exception as e:\n",
        "    print(f\"An unexpected error occurred: {e}\")\n"
      ],
      "metadata": {
        "id": "KOnJQlaUSb-z",
        "outputId": "27cd2d18-8523-4b40-a0dc-794cc0c18979",
        "colab": {
          "base_uri": "https://localhost:8080/"
        }
      },
      "execution_count": 8,
      "outputs": [
        {
          "output_type": "stream",
          "name": "stdout",
          "text": [
            "Error: List index out of range.\n"
          ]
        }
      ]
    },
    {
      "cell_type": "markdown",
      "source": [
        "###20)How would you open a file and read its contents using a context manager in Python"
      ],
      "metadata": {
        "id": "A5hqQxJRTwKe"
      }
    },
    {
      "cell_type": "code",
      "source": [
        "\n",
        "with open(\"example.txt\", \"r\") as file:\n",
        "\n",
        "    content = file.read()\n",
        "\n",
        "print(content)\n"
      ],
      "metadata": {
        "id": "mKJCKYsyTdyA",
        "outputId": "07aeea4b-a70d-4f95-ccbb-9cac52cdc877",
        "colab": {
          "base_uri": "https://localhost:8080/"
        }
      },
      "execution_count": 9,
      "outputs": [
        {
          "output_type": "stream",
          "name": "stdout",
          "text": [
            "Hello, Python!\n"
          ]
        }
      ]
    },
    {
      "cell_type": "markdown",
      "source": [
        "###21)Write a Python program that reads a file and prints the number of occurrences of a specific word"
      ],
      "metadata": {
        "id": "HN9G07XGT8Tg"
      }
    },
    {
      "cell_type": "code",
      "source": [
        "filename = \"example.txt\"\n",
        "word_to_count = \"Python\"\n",
        "count = 0\n",
        "\n",
        "with open(filename, \"r\") as file:\n",
        "    for line in file:\n",
        "        words = line.split()\n",
        "        count += words.count(word_to_count)\n",
        "\n",
        "print(f\"The word '{word_to_count}' occurs {count} times in the file.\")\n"
      ],
      "metadata": {
        "id": "y7aYQEcUTc1g",
        "outputId": "926b185d-2006-4159-9927-1636f11ffa23",
        "colab": {
          "base_uri": "https://localhost:8080/"
        }
      },
      "execution_count": 10,
      "outputs": [
        {
          "output_type": "stream",
          "name": "stdout",
          "text": [
            "The word 'Python' occurs 0 times in the file.\n"
          ]
        }
      ]
    },
    {
      "cell_type": "markdown",
      "source": [
        "###22)How can you check if a file is empty before attempting to read its content."
      ],
      "metadata": {
        "id": "2jn9BaiiULcD"
      }
    },
    {
      "cell_type": "code",
      "source": [
        "import os\n",
        "\n",
        "filename = \"example.txt\"\n",
        "\n",
        "if os.path.exists(filename) and os.path.getsize(filename) > 0:\n",
        "    with open(filename, \"r\") as file:\n",
        "        content = file.read()\n",
        "        print(content)\n",
        "else:\n",
        "    print(f\"The file '{filename}' is empty or does not exist.\")\n"
      ],
      "metadata": {
        "id": "2dSh9UJgUIED",
        "outputId": "fec32754-fd9c-4991-eeb4-70ffc60d0fb1",
        "colab": {
          "base_uri": "https://localhost:8080/"
        }
      },
      "execution_count": 11,
      "outputs": [
        {
          "output_type": "stream",
          "name": "stdout",
          "text": [
            "Hello, Python!\n"
          ]
        }
      ]
    },
    {
      "cell_type": "markdown",
      "source": [
        "###23) Write a Python program that writes to a log file when an error occurs during file handling."
      ],
      "metadata": {
        "id": "Abdo7dMpUYBk"
      }
    },
    {
      "cell_type": "code",
      "source": [
        "import logging\n",
        "\n",
        "logging.basicConfig(\n",
        "    filename=\"file_errors.log\",\n",
        "    level=logging.ERROR,\n",
        "    format=\"%(asctime)s - %(levelname)s - %(message)s\"\n",
        ")\n",
        "\n",
        "filename = \"example.txt\"\n",
        "\n",
        "try:\n",
        "    with open(filename, \"r\") as file:\n",
        "        content = file.read()\n",
        "        print(content)\n",
        "\n",
        "except FileNotFoundError:\n",
        "    logging.error(f\"File '{filename}' not found.\")\n",
        "except PermissionError:\n",
        "    logging.error(f\"No permission to access file '{filename}'.\")\n",
        "except Exception as e:\n",
        "    logging.error(f\"An unexpected error occurred: {e}\")\n"
      ],
      "metadata": {
        "id": "1Cn90MkmUSe3",
        "outputId": "31d663e7-7862-47cf-e430-09f1f8598ab3",
        "colab": {
          "base_uri": "https://localhost:8080/"
        }
      },
      "execution_count": 12,
      "outputs": [
        {
          "output_type": "stream",
          "name": "stdout",
          "text": [
            "Hello, Python!\n"
          ]
        }
      ]
    },
    {
      "cell_type": "code",
      "source": [],
      "metadata": {
        "id": "bmCyykJ_Ufic"
      },
      "execution_count": null,
      "outputs": []
    }
  ]
}