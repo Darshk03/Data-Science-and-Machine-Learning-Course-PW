{
  "nbformat": 4,
  "nbformat_minor": 0,
  "metadata": {
    "colab": {
      "provenance": []
    },
    "kernelspec": {
      "name": "python3",
      "display_name": "Python 3"
    },
    "language_info": {
      "name": "python"
    }
  },
  "cells": [
    {
      "cell_type": "markdown",
      "source": [
        "# Python Basic Questions"
      ],
      "metadata": {
        "id": "CP5sMHvA1WgO"
      }
    },
    {
      "cell_type": "markdown",
      "source": [
        "1.  What is Python, and why is it popular\n",
        "  - Python is a High-level Programming Language in Computer , it is very popular because it's provide a large number of libraries and it is easy to use , it has strong Community support.\n",
        "\n",
        "\n",
        "---\n",
        "\n",
        "\n",
        "2.  What is an interpreter in Python?\n",
        "  - Interpreter in python can read and executes the code line by line , if the error is occured at any line it will stop at that line and below code was not execute.\n",
        "\n",
        "\n",
        "---\n",
        "\n",
        "\n",
        "\n",
        "3.  What are pre-defined keywords in Python?\n",
        "  - Pre-defined Keywords in Python are reserved keywords that have some special meaning in python.\n",
        "  We cant use pre-defined keywords as a Variable names , Function ,Class Name.\n",
        "  - Examples of Pre-defined keywords in python:\n",
        "    int , float , string , boolean , True , False , None , Class , def ,\n",
        "    if , elif , else , for , break ,continue , pass\n",
        "\n",
        "\n",
        "---\n",
        "\n",
        "\n",
        "\n",
        "4.  Can keywords be used as variable names ?\n",
        "  - NO , We can't use keywords as variable name.\n",
        "  if we try to use it will give error called synatxError or invalid synatx.\n",
        "---\n",
        "5.   What is mutability in Python ?\n",
        "  - Mutability in Python meanes object's value can be changed after it is created.\n",
        "    mutable object - we can change a specific value after the object is created .\n",
        "\n",
        "    immutable object - we can't change a it after the object is created.\n",
        "---\n",
        "6.  Why are lists mutable, but tuples are immutable ?\n",
        "  - 1. Lists are mutable means we can add , remove or change the items in a list after it's created.\n",
        "  - 2. Tuples are immutable because we can't add , remove or cahnge the items in a tuple after it's cretaed.\n",
        "  - 3.  list are slow and need a more space tuples are faster and need a less space.\n",
        "---\n",
        "7.  What is the difference between “==” and “is” operators in Python ?\n",
        "  - 1. \"==\" it is used for cheking if the two vales are equal.\n",
        "  - 2. \"is\" it is use for checking if two varibles are point to the same object in memory.\n",
        "---\n",
        "8. What are logical operators in Python?\n",
        "  - Logical operators help to make decisions. They check if things are True or False.\n",
        "  - There are 3 logical operators in python \"and\", \"or\", \"not\".\n",
        "  - \"and\" will return true if both the conditions are true.\n",
        "  - \"or\" will return ture if at least one condition is true\n",
        "  - \"not\" it will reverses the conditions\n",
        "---\n",
        "9.  What is type casting in Python ?\n",
        "  - Type casting in python means change one type of data into another type\n",
        "  example -\n",
        "    x = \"12\",\n",
        "    y = int(x)\n",
        "---\n",
        "10. What is the difference between implicit and explicit type casting.\n",
        "  - implicit type casting means python will does it automaticatically by itself.\n",
        "  ex - x = 1.5\n",
        "       y = 5\n",
        "       a = x + y  # 6.5\n",
        "\n",
        "  - Explicit type casting means the user / developer can tell the to change the type by using function like int() , float() , or str()\n",
        "  ex - x = \"13\"\n",
        "       y = int(x) #13\n",
        "---\n",
        "11. What is the purpose of conditional statements in Python?\n",
        "  - conditional statements in Python is help to make a decisions.\n",
        "  - if the condition is true only that block of code is excute\n",
        "  - it will choose what should do based on certain conditions.\n",
        "---\n",
        "12. How does the elif statement work ?\n",
        "  - elif means else if.\n",
        "  - it is used when we want to check more than one conditions.\n",
        "  - python 1st check if statement if 1st condition is not satified then it will go to next condition or elif statement.\n",
        "  - ex:\n",
        "  ```\n",
        "  score = 85\n",
        "  if score >= 90:\n",
        "    print(\"Grade A\")\n",
        "  elif score >= 80:\n",
        "    print(\"Grade B\")\n",
        "  elif score >= 70:\n",
        "    print(\"Grade C\")\n",
        "  else:\n",
        "    print(\"Fail\")\n",
        "  ```\n",
        "\n",
        "  - 1st check if-> score >= 90 , not , so it will skip and to next\n",
        "  - then it will goes to 1st elif score >= 80 , yes , so it will print \"Grade B\" and stop checking after finding the match condition.\n",
        "---\n",
        "13. what is the difference between for and while loops ?\n",
        "  - Both the loops aare use to repeate the code - but it used in different conditions.\n",
        "  - \"for\" loop is used when we know how many times to repeat\n",
        "  - \"while\" loop is used when we don't know how many times to repeat\n",
        "---\n",
        "14. Describe a scenario where a while loop is more suitable than a for loop?\n",
        "  - For example we can play a game in which we can guess the number. we don't know how many guesses we required to guess a correct number maybe 1 , maybe 15\n",
        "\n",
        "  - so in this type of problem we can use while loop , because we want keep guess number until correct number is guessed.\n",
        "\n",
        "  - ex:\n",
        "  ```\n",
        "number = 6\n",
        "guess = 0\n",
        "\n",
        "while guess!=number:\n",
        "  guess = int(input(\"Guess the Number\"))\n",
        "  print(\"Wrong Number ! Try again.\")\n",
        "print(\"You Guessed right number\")\n",
        "```     \n",
        "  - Python keep check number until (guess == number)\n"
      ],
      "metadata": {
        "id": "3j2ChRw21nlF"
      }
    },
    {
      "cell_type": "markdown",
      "source": [
        "# **Practical Questions**"
      ],
      "metadata": {
        "id": "v_tl2OjOd0xg"
      }
    },
    {
      "cell_type": "code",
      "source": [
        "# 1.Write a Python program to print \"Hello, World!\"\n",
        "\n",
        "print(\"Hello, world\")"
      ],
      "metadata": {
        "colab": {
          "base_uri": "https://localhost:8080/"
        },
        "id": "KRc5P4H6dyPn",
        "outputId": "750a9f27-8624-4846-c682-2d66266dc469"
      },
      "execution_count": 2,
      "outputs": [
        {
          "output_type": "stream",
          "name": "stdout",
          "text": [
            "Hello, world\n"
          ]
        }
      ]
    },
    {
      "cell_type": "code",
      "source": [
        "# 2.Write a Python program that displays your name and age.\n",
        "\n",
        "name = \"Darshan\"\n",
        "age = 22\n",
        "print(f\"My name is {name} and my age is {age}\")"
      ],
      "metadata": {
        "colab": {
          "base_uri": "https://localhost:8080/"
        },
        "id": "t0xgm9BxeFpb",
        "outputId": "30dec0f2-7bf5-4078-dea2-320d324378cd"
      },
      "execution_count": 4,
      "outputs": [
        {
          "output_type": "stream",
          "name": "stdout",
          "text": [
            "My name is Darshan and my age is 22\n"
          ]
        }
      ]
    },
    {
      "cell_type": "code",
      "source": [
        "# 3.Write code to print all the pre-defined keywords in Python using the\n",
        "#keyword library.\n",
        "\n",
        "import keyword\n",
        "print(keyword.kwlist)"
      ],
      "metadata": {
        "colab": {
          "base_uri": "https://localhost:8080/"
        },
        "id": "X5rxHWLXeZSl",
        "outputId": "087a59d3-ba55-40e7-ce0f-86450d31d07f"
      },
      "execution_count": 8,
      "outputs": [
        {
          "output_type": "stream",
          "name": "stdout",
          "text": [
            "['False', 'None', 'True', 'and', 'as', 'assert', 'async', 'await', 'break', 'class', 'continue', 'def', 'del', 'elif', 'else', 'except', 'finally', 'for', 'from', 'global', 'if', 'import', 'in', 'is', 'lambda', 'nonlocal', 'not', 'or', 'pass', 'raise', 'return', 'try', 'while', 'with', 'yield']\n"
          ]
        }
      ]
    },
    {
      "cell_type": "code",
      "source": [
        "# 4.Write a program that checks if a given word is a Python keyword.\n",
        "\n",
        "import keyword\n",
        "word = input(\"Enter a word: \")\n",
        "if keyword.iskeyword(word):\n",
        "  print(f\"{word} is a python keyword\")\n",
        "else:\n",
        "  print(f\"{word} is not a python keyword\")\n"
      ],
      "metadata": {
        "colab": {
          "base_uri": "https://localhost:8080/"
        },
        "id": "tbyK8mZ-em5A",
        "outputId": "f2abd135-ad29-4e06-af16-664e11a1734a"
      },
      "execution_count": 9,
      "outputs": [
        {
          "output_type": "stream",
          "name": "stdout",
          "text": [
            "Enter a word: for\n",
            "for is a python keyword\n"
          ]
        }
      ]
    },
    {
      "cell_type": "code",
      "source": [
        "\"\"\"\n",
        "5.Create a list and tuple in Python, and demonstrate how attempting to\n",
        "change an element works differently for each.\n",
        "\"\"\"\n",
        "\n",
        "l = [1,2,3,4]\n",
        "l[2] = 9\n",
        "print(l)  #list is mutable"
      ],
      "metadata": {
        "colab": {
          "base_uri": "https://localhost:8080/"
        },
        "id": "QfHcpURtfdai",
        "outputId": "6de1460f-3752-4872-fed7-2139e7e7de0f"
      },
      "execution_count": 13,
      "outputs": [
        {
          "output_type": "stream",
          "name": "stdout",
          "text": [
            "[1, 2, 9, 4]\n"
          ]
        }
      ]
    },
    {
      "cell_type": "code",
      "source": [
        "t = (1,2,3,4)\n",
        "t[2] = 9\n",
        "print(t) #tuple is immutable"
      ],
      "metadata": {
        "colab": {
          "base_uri": "https://localhost:8080/",
          "height": 176
        },
        "id": "3z26ii0sf-dk",
        "outputId": "c3319dc9-038e-4660-a7cc-d4fbb2ed7115"
      },
      "execution_count": 14,
      "outputs": [
        {
          "output_type": "error",
          "ename": "TypeError",
          "evalue": "'tuple' object does not support item assignment",
          "traceback": [
            "\u001b[0;31m---------------------------------------------------------------------------\u001b[0m",
            "\u001b[0;31mTypeError\u001b[0m                                 Traceback (most recent call last)",
            "\u001b[0;32m/tmp/ipython-input-3673116675.py\u001b[0m in \u001b[0;36m<cell line: 0>\u001b[0;34m()\u001b[0m\n\u001b[1;32m      1\u001b[0m \u001b[0mt\u001b[0m \u001b[0;34m=\u001b[0m \u001b[0;34m(\u001b[0m\u001b[0;36m1\u001b[0m\u001b[0;34m,\u001b[0m\u001b[0;36m2\u001b[0m\u001b[0;34m,\u001b[0m\u001b[0;36m3\u001b[0m\u001b[0;34m,\u001b[0m\u001b[0;36m4\u001b[0m\u001b[0;34m)\u001b[0m\u001b[0;34m\u001b[0m\u001b[0;34m\u001b[0m\u001b[0m\n\u001b[0;32m----> 2\u001b[0;31m \u001b[0mt\u001b[0m\u001b[0;34m[\u001b[0m\u001b[0;36m2\u001b[0m\u001b[0;34m]\u001b[0m \u001b[0;34m=\u001b[0m \u001b[0;36m9\u001b[0m\u001b[0;34m\u001b[0m\u001b[0;34m\u001b[0m\u001b[0m\n\u001b[0m\u001b[1;32m      3\u001b[0m \u001b[0mprint\u001b[0m\u001b[0;34m(\u001b[0m\u001b[0mt\u001b[0m\u001b[0;34m)\u001b[0m\u001b[0;34m\u001b[0m\u001b[0;34m\u001b[0m\u001b[0m\n",
            "\u001b[0;31mTypeError\u001b[0m: 'tuple' object does not support item assignment"
          ]
        }
      ]
    },
    {
      "cell_type": "code",
      "source": [
        "\"\"\"\n",
        "6.Write a function to demonstrate the behavior of mutable\n",
        "and immutable arguments.\n",
        "\"\"\"\n",
        "\n",
        "def data(num , l):\n",
        "  num = num + 2\n",
        "  print(f\"Inside the function the number is :{num}\")\n",
        "  x = l.append(80)\n",
        "  print(f\"The List is: {l}\")\n",
        "\n",
        "num = 4\n",
        "l = [1,3,10]\n",
        "\n",
        "data(num,l)\n",
        "print(f\"\\nOutside the function the number is :{num}\")\n",
        "print(f\"outside of the List is: {l}\")\n"
      ],
      "metadata": {
        "colab": {
          "base_uri": "https://localhost:8080/"
        },
        "id": "lFkVxdPkgOTO",
        "outputId": "b9fde820-7c6c-441c-ecea-22bd70820b97"
      },
      "execution_count": 19,
      "outputs": [
        {
          "output_type": "stream",
          "name": "stdout",
          "text": [
            "Inside the function the number is :6\n",
            "The List is: [1, 3, 10, 80]\n",
            "\n",
            "Outside the function the number is :4\n",
            "outside of the List is: [1, 3, 10, 80]\n"
          ]
        }
      ]
    },
    {
      "cell_type": "code",
      "source": [
        "\"\"\"\n",
        "7.Write a program that performs basic arithmetic operations on\n",
        "two user-input numbers.\n",
        "\"\"\"\n",
        "\n",
        "a = int(input(\"Enter the 1st number:\"))\n",
        "b = int(input(\"Eneter the 2nd number:\"))\n",
        "\n",
        "print(f\"\\n Addition of {a} and {b} is: {a+b}\")\n",
        "print(f\"\\n substarction of {a} and {b} is: {a-b}\")\n",
        "print(f\"\\n multiplication of {a} and {b} is: {(a*b)}\")\n",
        "print(f\"\\n division of {a} and {b} is: {(a/b)}\")"
      ],
      "metadata": {
        "colab": {
          "base_uri": "https://localhost:8080/"
        },
        "id": "0rEvppe2kYj5",
        "outputId": "e2f14c9b-bb92-4d1d-967f-a3f1e12633df"
      },
      "execution_count": 24,
      "outputs": [
        {
          "output_type": "stream",
          "name": "stdout",
          "text": [
            "Enter the 1st number:9\n",
            "Eneter the 2nd number:9\n",
            "\n",
            " Addition of 9 and 9 is: 18\n",
            "\n",
            " substarction of 9 and 9 is: 0\n",
            "\n",
            " multiplication of 9 and 9 is: 81\n",
            "\n",
            " division of 9 and 9 is: 1.0\n"
          ]
        }
      ]
    },
    {
      "cell_type": "code",
      "source": [
        "\"\"\" 8.Write a program to demonstrate the use of logical operators\"\"\"\n",
        "\n",
        "a = True\n",
        "b = False\n",
        "c = True\n",
        "\n",
        "if a and b:\n",
        "    print(\"A is True and B is True\")\n",
        "else:\n",
        "    print(\"A is True and B is False\")\n",
        "\n",
        "if a and c:\n",
        "    print(\"A is True or c is True\")\n",
        "else:\n",
        "    print(\"A is True or c is False\")\n",
        "\n",
        "if not a:\n",
        "    print(\"A is not True\")\n",
        "else:\n",
        "    print(\"A is not False\")\n",
        "\n",
        "if a or b:\n",
        "    print(\"A is True or B is True\")\n",
        "else:\n",
        "    print(\"A is True or B is False\")\n"
      ],
      "metadata": {
        "colab": {
          "base_uri": "https://localhost:8080/"
        },
        "id": "cHl3Cv3qlCQq",
        "outputId": "3cdf2b02-c08a-4557-b01e-4ec93b9fa00a"
      },
      "execution_count": 33,
      "outputs": [
        {
          "output_type": "stream",
          "name": "stdout",
          "text": [
            "A is True and B is False\n",
            "A is True or c is True\n",
            "A is not False\n",
            "A is True or B is True\n"
          ]
        }
      ]
    },
    {
      "cell_type": "code",
      "source": [
        "\"\"\"\n",
        "9.Write a Python program to convert user input from string to integer,\n",
        "float, and boolean types.\n",
        "\"\"\"\n",
        "\n",
        "a = input(\"Enter the number:\")\n",
        "print(f\"The number is: {a}\")\n",
        "print(f\"The interger is: {int(a)}\")\n",
        "print(f\"The flaot is: {float(a)}\")\n",
        "print(f\"The boolean is: {bool(a)}\")"
      ],
      "metadata": {
        "colab": {
          "base_uri": "https://localhost:8080/"
        },
        "id": "rn3BhoNQoLwU",
        "outputId": "645e291c-be7a-49f0-acab-71f4fd1770d7"
      },
      "execution_count": 40,
      "outputs": [
        {
          "output_type": "stream",
          "name": "stdout",
          "text": [
            "Enter the number:8\n",
            "The number is: 8\n",
            "The interger is: 8\n",
            "The flaot is: 8.0\n",
            "The boolean is: True\n"
          ]
        }
      ]
    },
    {
      "cell_type": "code",
      "source": [
        "\"\"\"\n",
        "10. Write code to demonstrate type casting with list elements.\n",
        "\"\"\"\n",
        "\n",
        "# l = [1,2,3,4,5,6]\n",
        "# print(\"\\n This is List:\",l)\n",
        "# t = tuple(l)\n",
        "# print(\"\\n This is Tuple:\",t)\n",
        "\n",
        "a = [\"10\",\"20\",\"30\"]\n",
        "\n",
        "b = [int(x) for x in a]\n",
        "print(\"\\n The interger list is:\",b)\n",
        "\n",
        "c = [float(x) for x in a]\n",
        "print(\"\\n The float list is:\",c)\n",
        "\n",
        "d = [bool(x) for x in a]\n",
        "print(\"\\n The boolean list is:\",d)"
      ],
      "metadata": {
        "colab": {
          "base_uri": "https://localhost:8080/"
        },
        "id": "ofTiR4_brcAM",
        "outputId": "e3fce1ee-6e75-4abb-ae67-6c7c6544a332"
      },
      "execution_count": 47,
      "outputs": [
        {
          "output_type": "stream",
          "name": "stdout",
          "text": [
            "\n",
            " The interger list is: [10, 20, 30]\n",
            "\n",
            " The float list is: [10.0, 20.0, 30.0]\n",
            "\n",
            " The boolean list is: [True, True, True]\n"
          ]
        }
      ]
    },
    {
      "cell_type": "code",
      "source": [
        "\"\"\"\n",
        "11.Write a program that checks if a number is positive, negative, or zero.\n",
        "\"\"\"\n",
        "\n",
        "a = int(input(\"Enter the number:\"))\n",
        "if a > 0:\n",
        "  print(f\"{a} is a positive number\")\n",
        "elif a < 0:\n",
        "  print(f\"{a} is a negative number\")\n",
        "elif a == 0:\n",
        "  print(f\"number is a zero\")\n",
        "else:\n",
        "  print(\"Invalid Number\")"
      ],
      "metadata": {
        "colab": {
          "base_uri": "https://localhost:8080/"
        },
        "id": "9BerUVN62H_6",
        "outputId": "97045b37-b9a4-4722-8020-7ef1546c60b1"
      },
      "execution_count": 50,
      "outputs": [
        {
          "output_type": "stream",
          "name": "stdout",
          "text": [
            "Enter the number:+9\n",
            "9 is a positive number\n"
          ]
        }
      ]
    },
    {
      "cell_type": "code",
      "source": [
        "\"\"\"\n",
        "12.Write a program to reverse a string using a while loop.\n",
        "\"\"\"\n",
        "\n",
        "a = input(\"Enter your string:\")\n",
        "b = \"\"\n",
        "i = len(a) - 1\n",
        "\n",
        "while i >=0:\n",
        "  b = b + a[i]\n",
        "  i = i - 1\n",
        "print(\"The reverse string is:\",b)"
      ],
      "metadata": {
        "colab": {
          "base_uri": "https://localhost:8080/"
        },
        "id": "NYwj07cP358_",
        "outputId": "3eeea51a-8d5b-4394-b8c7-0138d40b39d4"
      },
      "execution_count": 51,
      "outputs": [
        {
          "output_type": "stream",
          "name": "stdout",
          "text": [
            "Enter your string:Darshan\n",
            "The reverse string is: nahsraD\n"
          ]
        }
      ]
    },
    {
      "cell_type": "code",
      "source": [
        "\"\"\"\n",
        " Write a Python program to calculate the factorial of a number\n",
        " provided by the user using a while loop.\n",
        "\"\"\"\n",
        "\n",
        "num = int(input(\"Enter a number: \"))\n",
        "fact= 1\n",
        "\n",
        "while num > 0:\n",
        "    fact *= num\n",
        "    num -= 1\n",
        "\n",
        "print(\"Factorial is:\", fact)"
      ],
      "metadata": {
        "colab": {
          "base_uri": "https://localhost:8080/"
        },
        "id": "5BTRNrGP55Vb",
        "outputId": "e4d319e3-22b5-4c3f-a3e1-3ab79d88d893"
      },
      "execution_count": 56,
      "outputs": [
        {
          "output_type": "stream",
          "name": "stdout",
          "text": [
            "Enter a number: 5\n",
            "Factorial is: 120\n"
          ]
        }
      ]
    },
    {
      "cell_type": "code",
      "source": [],
      "metadata": {
        "id": "rl_b-Eqx6eEM"
      },
      "execution_count": null,
      "outputs": []
    }
  ]
}
