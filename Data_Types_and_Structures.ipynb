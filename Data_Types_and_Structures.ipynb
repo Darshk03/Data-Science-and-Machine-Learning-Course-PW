{
  "nbformat": 4,
  "nbformat_minor": 0,
  "metadata": {
    "colab": {
      "provenance": []
    },
    "kernelspec": {
      "name": "python3",
      "display_name": "Python 3"
    },
    "language_info": {
      "name": "python"
    }
  },
  "cells": [
    {
      "cell_type": "markdown",
      "source": [
        "#Data Types and Structures Questions"
      ],
      "metadata": {
        "id": "3KFJyTba5uIv"
      }
    },
    {
      "cell_type": "markdown",
      "source": [
        "###1.What are data structures, and why are they important?"
      ],
      "metadata": {
        "id": "ulHCAIQe5x2Q"
      }
    },
    {
      "cell_type": "markdown",
      "source": [
        "- Data Structures are like a storage containers in which the data is store.\n",
        "- It is important it will organize the data efficiently.\n",
        "- In python there will be mainly 2 types of data structures predefine/build-in and user defefine.\n",
        "- predefine data structures : list , Tuple , Set , Dictionary\n",
        "- Userdefine data structures : stack ,queue\n"
      ],
      "metadata": {
        "id": "--SMu3jS57l8"
      }
    },
    {
      "cell_type": "markdown",
      "source": [
        "###2.Explain the difference between mutable and immutable data types with examples"
      ],
      "metadata": {
        "id": "oVVqcGtn8Xh2"
      }
    },
    {
      "cell_type": "markdown",
      "source": [
        "- Mutable Data Types : Mutable Data types are data types which can update or change or modify after the creation.\n",
        "- Mutble Data types are slow\n",
        "- Example : List , Set , Dict\n",
        "- Immutable Data Types : Immutable Data types are data types which can not update or change , modify after the creation\n",
        ", they are fixed.\n",
        "- Example : Tuple , Int , Float , string\n"
      ],
      "metadata": {
        "id": "vpXhM92H8gwl"
      }
    },
    {
      "cell_type": "markdown",
      "source": [
        "###3.What are the main differences between lists and tuples in Python?"
      ],
      "metadata": {
        "id": "OCvtQgn291t9"
      }
    },
    {
      "cell_type": "markdown",
      "source": [
        "- List : List are Mutable while Tuples are Immutable.\n",
        "- In List we can update , change or modify List after the creation.\n",
        "- But in Tuple we can't update , change or modify Tuple after the creation."
      ],
      "metadata": {
        "id": "34dAM-vP9-ss"
      }
    },
    {
      "cell_type": "markdown",
      "source": [
        "###4.Describe how dictionaries store data?"
      ],
      "metadata": {
        "id": "BG4d0R1L-aQL"
      }
    },
    {
      "cell_type": "markdown",
      "source": [
        "- Dictionaries store data in \"key\" and \"Value\" pair.\n",
        "```\n",
        "Dict1 = {\n",
        "  \"Name\" : \"PW Skills\",\n",
        "  \"Course\"  : \"Data Science\"\n",
        "}\n",
        "```\n",
        "\n"
      ],
      "metadata": {
        "id": "F2aTIPMK-jHl"
      }
    },
    {
      "cell_type": "markdown",
      "source": [
        "###5.Why might you use a set instead of a list in Python\n"
      ],
      "metadata": {
        "id": "ont9fVqO_C4Y"
      }
    },
    {
      "cell_type": "markdown",
      "source": [
        "- Set will be automatically remove duplicates values.\n",
        "- Unique values\n",
        "- Because of that it will be after for searching as compare to list and Tuple\n",
        "- set can also supports set operations like union , intersection , difference\n",
        "```\n",
        "set1 = {1,2,3,4,5,1,2}\n",
        "print(set1) #o/p {1,2,3,4,5}\n",
        "```\n",
        "\n"
      ],
      "metadata": {
        "id": "BSyWL0t3_MRN"
      }
    },
    {
      "cell_type": "markdown",
      "source": [
        "###6.What is a string in Python, and how is it different from a list."
      ],
      "metadata": {
        "id": "CKQjWIMxAzR4"
      }
    },
    {
      "cell_type": "markdown",
      "source": [
        "- String in Python can store the sequence of characters : like numbers , letters which can writes or enclosed inside of quotes.\n",
        "- string are immutable\n",
        "- list in python can store the sequence\n",
        "in items : like numbers , string , other list , set , list are heterogeneous.\n",
        "- list can store the items in square brackets and items are seperated by coma."
      ],
      "metadata": {
        "id": "0IEOifjPA4vk"
      }
    },
    {
      "cell_type": "markdown",
      "source": [
        "###7.How do tuples ensure data integrity in Python?"
      ],
      "metadata": {
        "id": "DXdBS55iDCJD"
      }
    },
    {
      "cell_type": "markdown",
      "source": [
        "- If Tuple is created then we can not update or change , modify after the creation , they are fixed.\n",
        "-Tuples are immutable , because of that they can protect the data form accidenatal change.\n",
        "- They are used to store fixed and constant data."
      ],
      "metadata": {
        "id": "nBiZrIP0DFRS"
      }
    },
    {
      "cell_type": "markdown",
      "source": [
        "###8.What is a hash table, and how does it relate to dictionaries in Python"
      ],
      "metadata": {
        "id": "sgn_Og8GEQN8"
      }
    },
    {
      "cell_type": "markdown",
      "source": [
        "- Hash table is data structure that stores data in key - value pairs and it can use hash function to create a key or quickly find the location of a value.\n",
        "- Dictionaries - It is build-in data structure which can also use key - value pairs and it is implemented using the hash table."
      ],
      "metadata": {
        "id": "IFsxBQaJETbN"
      }
    },
    {
      "cell_type": "markdown",
      "source": [
        "###9.Can lists contain different data types in Python"
      ],
      "metadata": {
        "id": "HOkvVo4xFsr2"
      }
    },
    {
      "cell_type": "markdown",
      "source": [
        "- Yes , list is heterogeneous so it can allows to store the diffrent types of data.\n",
        "```\n",
        "list = [1,2,1.78,\"DK\",True]\n",
        "```\n",
        "\n"
      ],
      "metadata": {
        "id": "0hx1Z7ZQFwS0"
      }
    },
    {
      "cell_type": "markdown",
      "source": [
        "###10.Explain why strings are immutable in Python"
      ],
      "metadata": {
        "id": "lwWmCc8XGJ_V"
      }
    },
    {
      "cell_type": "markdown",
      "source": [
        "- Strings are immutable , because they ensures or protect the data form accidenatal change, modification.\n",
        "- string also ensure data integrity\n",
        "- strings are immutable because of that they used as key in dictionaries"
      ],
      "metadata": {
        "id": "FkSm-NvtGaF7"
      }
    },
    {
      "cell_type": "markdown",
      "source": [
        "###11.What advantages do dictionaries offer over lists for certain tasks"
      ],
      "metadata": {
        "id": "6mzoM47LHSrV"
      }
    },
    {
      "cell_type": "markdown",
      "source": [
        "- Dictionaries stores a data in key - value pairs , so beccause of that searching become very fast , (Big - o(1)) average case complexity in dictionaries , while in list (Big - o(n)) complexity."
      ],
      "metadata": {
        "id": "TkzMonflHiqk"
      }
    },
    {
      "cell_type": "markdown",
      "source": [
        "###12. Describe a scenario where using a tuple would be preferable over a list"
      ],
      "metadata": {
        "id": "2hG4XYQuJacn"
      }
    },
    {
      "cell_type": "markdown",
      "source": [
        "- Aadhar details cannot be modify , change once issued. Tuples ensure no accidental change.\n",
        "- so in this we can use tuple to store the Aadhar information."
      ],
      "metadata": {
        "id": "wpFgLQemJctz"
      }
    },
    {
      "cell_type": "markdown",
      "source": [
        "###13.How do sets handle duplicate values in Python?"
      ],
      "metadata": {
        "id": "TvA6IIalKNcL"
      }
    },
    {
      "cell_type": "markdown",
      "source": [
        "- Set can only allows unique values.\n",
        "- If user can give dupicates values at the type of printing or performing the opertions they can automatically delete or remove the duplicates and only print the unique values.\n"
      ],
      "metadata": {
        "id": "Cg9PJqJlKYEO"
      }
    },
    {
      "cell_type": "markdown",
      "source": [
        "###14.How does the “in” keyword work differently for lists and dictionaries"
      ],
      "metadata": {
        "id": "31tDxD2CLvsl"
      }
    },
    {
      "cell_type": "markdown",
      "source": [
        "- List : In list \"in\" is use to check the values is prresent in list or not\n",
        "- dictionaries - In dictionaries \"in\" is use to check the key is present or not , if user try to check for value if not allowed , return false"
      ],
      "metadata": {
        "id": "XvE9oBqhLyjr"
      }
    },
    {
      "cell_type": "markdown",
      "source": [
        "###15.Can you modify the elements of a tuple? Explain why or why not"
      ],
      "metadata": {
        "id": "kHlkypfOM_Wx"
      }
    },
    {
      "cell_type": "markdown",
      "source": [
        "- No , we can't modify the elements of tuple , because tuple are immuatble"
      ],
      "metadata": {
        "id": "7Rz5gN-xNVRQ"
      }
    },
    {
      "cell_type": "markdown",
      "source": [
        "###16.What is a nested dictionary, and give an example of its use case3What is a nested dictionary, and give an example of its use case"
      ],
      "metadata": {
        "id": "IhAV203xN7Mc"
      }
    },
    {
      "cell_type": "markdown",
      "source": [
        "- A nested dictionary is a dictionary inside another dictionary\n",
        "- it is helps to organize a complex data\n",
        "```\n",
        "Sschool_db = {\n",
        "    \"Student_1\": {\n",
        "        \"name\": \"Darshan\",\n",
        "        \"dob\": \"29-12-2003\",\n",
        "        \"gender\": \"Male\",\n",
        "        \"city\": \"Pune\"\n",
        "    },\n",
        "    \"Student_2\": {\n",
        "        \"name\": \"Amit\",\n",
        "        \"dob\": \"07-05-2004\",\n",
        "        \"gender\": \"Male\",\n",
        "        \"city\": \"Mumbai\"\n",
        "    }\n",
        "}\n",
        "```\n",
        "\n"
      ],
      "metadata": {
        "id": "5SMvtQyEOAlr"
      }
    },
    {
      "cell_type": "markdown",
      "source": [
        "###17.Describe the time complexity of accessing elements in a dictionary"
      ],
      "metadata": {
        "id": "9_N7gHeKO0Rh"
      }
    },
    {
      "cell_type": "markdown",
      "source": [
        "- The time complexity of accessing elements in a dictionary is (Big - o (1))"
      ],
      "metadata": {
        "id": "3x6fGGtyO39G"
      }
    },
    {
      "cell_type": "markdown",
      "source": [
        "###18.In what situations are lists preferred over dictionaries"
      ],
      "metadata": {
        "id": "DWx91Lh7PWK-"
      }
    },
    {
      "cell_type": "markdown",
      "source": [
        "- List are preferred when the orderd is important because list can maintain the order by using indexing\n",
        "- list can use when we only need a values not a keys\n",
        "- it is also use when the duplicates are required.\n"
      ],
      "metadata": {
        "id": "jCxqVAuEPaPX"
      }
    },
    {
      "cell_type": "markdown",
      "source": [
        "###19.Why are dictionaries considered unordered, and how does that affect data retrieval"
      ],
      "metadata": {
        "id": "yTf3cp50QFrZ"
      }
    },
    {
      "cell_type": "markdown",
      "source": [
        "- A dictionary can stores data as key–value pairs.\n",
        "- In dictionary items are not stored in a fixed order like in a list.\n",
        "- We can't retrieve values by index (like my_list[0]).\n",
        "- We have to use the key like (my_dict[\"Age\"])\n"
      ],
      "metadata": {
        "id": "FUxDM56bQaX0"
      }
    },
    {
      "cell_type": "markdown",
      "source": [
        "###20.Explain the difference between a list and a dictionary in terms of data retrieval."
      ],
      "metadata": {
        "id": "ZOYzrIs9Q_Tv"
      }
    },
    {
      "cell_type": "markdown",
      "source": [
        "- List = List are Access by using a index , complexit is (Big - o (n)) ,\n",
        "list is heterogeneous , and orderd\n",
        "example : fruits = [\"Apple\" ,\"Banana\",\"Kiwi\"]\n",
        "fruits[1] # \"Banana\"\n",
        "\n",
        "- Dictionary = Dictionary are Access by using a key , complexit is (Big - o (1)) , it is unorderd .\n",
        "example : fruits = {\"Apple\": 2 ,\"Banana\": 3 ,\"Kiwi\": 4}\n",
        "fruits[\"Apple\"] # 2\n"
      ],
      "metadata": {
        "id": "C1kvLiuTRHFY"
      }
    },
    {
      "cell_type": "markdown",
      "source": [],
      "metadata": {
        "id": "50r_rIUjSk_h"
      }
    },
    {
      "cell_type": "markdown",
      "source": [],
      "metadata": {
        "id": "recESCCfSlsW"
      }
    },
    {
      "cell_type": "markdown",
      "source": [
        "#Practical Questions"
      ],
      "metadata": {
        "id": "LqXmr7XeNhgM"
      }
    },
    {
      "cell_type": "markdown",
      "source": [
        "###1.P Write a code to create a string with your name and print it."
      ],
      "metadata": {
        "id": "_8OhFqcvAWkN"
      }
    },
    {
      "cell_type": "code",
      "source": [
        "Name = \"Darshan Kedare\"\n",
        "print(Name)"
      ],
      "metadata": {
        "colab": {
          "base_uri": "https://localhost:8080/"
        },
        "id": "kU4LtZkoN33l",
        "outputId": "287a7529-46d2-4900-f269-14f17b080fde"
      },
      "execution_count": 1,
      "outputs": [
        {
          "output_type": "stream",
          "name": "stdout",
          "text": [
            "Darshan Kedare\n"
          ]
        }
      ]
    },
    {
      "cell_type": "markdown",
      "source": [
        "###2.Write a code to find the length of the string \"Hello World\""
      ],
      "metadata": {
        "id": "l64EOssWOD4c"
      }
    },
    {
      "cell_type": "code",
      "source": [
        "string1 = \"Hello World\"\n",
        "print(len(string1))"
      ],
      "metadata": {
        "colab": {
          "base_uri": "https://localhost:8080/"
        },
        "id": "XPnX9BlAN_0c",
        "outputId": "5406a627-1df6-4c52-e249-deea7993888e"
      },
      "execution_count": 2,
      "outputs": [
        {
          "output_type": "stream",
          "name": "stdout",
          "text": [
            "11\n"
          ]
        }
      ]
    },
    {
      "cell_type": "markdown",
      "source": [
        "###3.Write a code to slice the first 3 characters from the string \"Python Programming\""
      ],
      "metadata": {
        "id": "wuEPSijhQeWy"
      }
    },
    {
      "cell_type": "code",
      "source": [
        "String2 = \"Python Programming\"\n",
        "print(String2[:3])"
      ],
      "metadata": {
        "colab": {
          "base_uri": "https://localhost:8080/"
        },
        "id": "dE1K8r2vOOOJ",
        "outputId": "da31fe3c-3c7b-4635-f855-c731bb8d695d"
      },
      "execution_count": 5,
      "outputs": [
        {
          "output_type": "stream",
          "name": "stdout",
          "text": [
            "Pyt\n"
          ]
        }
      ]
    },
    {
      "cell_type": "markdown",
      "source": [
        "###4.Write a code to convert the string \"hello\" to uppercase"
      ],
      "metadata": {
        "id": "zhGOsMYfRBZu"
      }
    },
    {
      "cell_type": "code",
      "source": [
        "string3 = \"hello\"\n",
        "print(string3.upper())"
      ],
      "metadata": {
        "colab": {
          "base_uri": "https://localhost:8080/"
        },
        "id": "fwwjEsSAQ19Y",
        "outputId": "d20ec672-ba36-4f7e-f3fc-cad55da8bba4"
      },
      "execution_count": 6,
      "outputs": [
        {
          "output_type": "stream",
          "name": "stdout",
          "text": [
            "HELLO\n"
          ]
        }
      ]
    },
    {
      "cell_type": "markdown",
      "source": [
        "###5.Write a code to replace the word \"apple\" with \"orange\" in the string \"I like apple\"P"
      ],
      "metadata": {
        "id": "2_TLV8LHRYXr"
      }
    },
    {
      "cell_type": "code",
      "source": [
        "String4 = \"I like apple\"\n",
        "print(String4)\n",
        "print(String4.replace(\"apple\",\"orange\"))"
      ],
      "metadata": {
        "colab": {
          "base_uri": "https://localhost:8080/"
        },
        "id": "GVLDP9AMRQnK",
        "outputId": "d233bb04-fb23-41b3-e605-b9c2e50c50c0"
      },
      "execution_count": 9,
      "outputs": [
        {
          "output_type": "stream",
          "name": "stdout",
          "text": [
            "I like apple\n",
            "I like orange\n"
          ]
        }
      ]
    },
    {
      "cell_type": "markdown",
      "source": [
        "###6.Write a code to create a list with numbers 1 to 5 and print it"
      ],
      "metadata": {
        "id": "ZrWFxlJcSEwS"
      }
    },
    {
      "cell_type": "code",
      "source": [
        "list1 = []\n",
        "for i in range(1,6):\n",
        "  list1.append(i)\n",
        "print(list1)"
      ],
      "metadata": {
        "colab": {
          "base_uri": "https://localhost:8080/"
        },
        "id": "913qTGo_R2i1",
        "outputId": "7148c007-955d-4b7f-b672-20a2fce7d5ef"
      },
      "execution_count": 11,
      "outputs": [
        {
          "output_type": "stream",
          "name": "stdout",
          "text": [
            "[1, 2, 3, 4, 5]\n"
          ]
        }
      ]
    },
    {
      "cell_type": "markdown",
      "source": [
        "###7.Write a code to append the number 10 to the list [1, 2, 3, 4]"
      ],
      "metadata": {
        "id": "SnXT2tuXSlxx"
      }
    },
    {
      "cell_type": "code",
      "source": [
        "List2 = [1,2,3,4]\n",
        "print(List2)\n",
        "List2.append(10)\n",
        "print(List2)"
      ],
      "metadata": {
        "colab": {
          "base_uri": "https://localhost:8080/"
        },
        "id": "58r9sNDMSaOr",
        "outputId": "51630eff-89c3-42ab-adec-e8de8fee85de"
      },
      "execution_count": 15,
      "outputs": [
        {
          "output_type": "stream",
          "name": "stdout",
          "text": [
            "[1, 2, 3, 4]\n",
            "[1, 2, 3, 4, 10]\n"
          ]
        }
      ]
    },
    {
      "cell_type": "markdown",
      "source": [
        "###8.Write a code to remove the number 3 from the list [1, 2, 3, 4, 5]"
      ],
      "metadata": {
        "id": "vYAQLDJ-S9b3"
      }
    },
    {
      "cell_type": "code",
      "source": [
        "List2 = [1,2,3,4,5]\n",
        "print(List2)\n",
        "List2.remove(3)\n",
        "print(List2)"
      ],
      "metadata": {
        "colab": {
          "base_uri": "https://localhost:8080/"
        },
        "id": "ubWSVvMSS0hf",
        "outputId": "26849773-b96b-45c8-d7d7-748c94e93979"
      },
      "execution_count": 16,
      "outputs": [
        {
          "output_type": "stream",
          "name": "stdout",
          "text": [
            "[1, 2, 3, 4, 5]\n",
            "[1, 2, 4, 5]\n"
          ]
        }
      ]
    },
    {
      "cell_type": "markdown",
      "source": [
        "###9.Write a code to access the second element in the list ['a', 'b', 'c', 'd']"
      ],
      "metadata": {
        "id": "c-3KPGStTZRl"
      }
    },
    {
      "cell_type": "code",
      "source": [
        "List3 = ['a', 'b', 'c', 'd']\n",
        "print(List3[1])"
      ],
      "metadata": {
        "colab": {
          "base_uri": "https://localhost:8080/"
        },
        "id": "GyGUxjQSTLqg",
        "outputId": "7321b500-091c-4a3c-cefb-31c32733db8c"
      },
      "execution_count": 18,
      "outputs": [
        {
          "output_type": "stream",
          "name": "stdout",
          "text": [
            "b\n"
          ]
        }
      ]
    },
    {
      "cell_type": "markdown",
      "source": [
        "###10.Write a code to reverse the list [10, 20, 30, 40, 50]."
      ],
      "metadata": {
        "id": "uNkxYDpJTwf3"
      }
    },
    {
      "cell_type": "code",
      "source": [
        "List5 = [10, 20, 30, 40, 50]\n",
        "print(List5[::-1])"
      ],
      "metadata": {
        "colab": {
          "base_uri": "https://localhost:8080/"
        },
        "id": "mAodXCG6Tngx",
        "outputId": "2a8b6803-efd9-4837-eab0-3f73d1f45ee8"
      },
      "execution_count": 19,
      "outputs": [
        {
          "output_type": "stream",
          "name": "stdout",
          "text": [
            "[50, 40, 30, 20, 10]\n"
          ]
        }
      ]
    },
    {
      "cell_type": "markdown",
      "source": [
        "###11. Write a code to create a tuple with the elements 100, 200, 300 and print it."
      ],
      "metadata": {
        "id": "CUPJV1jGUEfk"
      }
    },
    {
      "cell_type": "code",
      "source": [
        "tuple1 = (100,200,300)\n",
        "print(tuple1)"
      ],
      "metadata": {
        "colab": {
          "base_uri": "https://localhost:8080/"
        },
        "id": "UYxD8chTT5Gb",
        "outputId": "05d31c11-a198-471c-b892-e838d71b67f6"
      },
      "execution_count": 21,
      "outputs": [
        {
          "output_type": "stream",
          "name": "stdout",
          "text": [
            "(100, 200, 300)\n"
          ]
        }
      ]
    },
    {
      "cell_type": "markdown",
      "source": [
        "###12. Write a code to access the second-to-last element of the tuple ('red', 'green', 'blue', 'yellow')."
      ],
      "metadata": {
        "id": "NahOnbuMUfId"
      }
    },
    {
      "cell_type": "code",
      "source": [
        "tuple2 = ('red', 'green', 'blue', 'yellow')\n",
        "print(tuple2[1::])"
      ],
      "metadata": {
        "colab": {
          "base_uri": "https://localhost:8080/"
        },
        "id": "YqpO01IqUSMr",
        "outputId": "32695a99-a352-4ecd-cf28-3eecf8f1f30c"
      },
      "execution_count": 22,
      "outputs": [
        {
          "output_type": "stream",
          "name": "stdout",
          "text": [
            "('green', 'blue', 'yellow')\n"
          ]
        }
      ]
    },
    {
      "cell_type": "markdown",
      "source": [
        "###13.Write a code to find the minimum number in the tuple (10, 20, 5, 15)."
      ],
      "metadata": {
        "id": "LrwM0X8PU0yh"
      }
    },
    {
      "cell_type": "code",
      "source": [
        "Tuple4 = (10, 20, 5, 15)\n",
        "print(min(Tuple4))"
      ],
      "metadata": {
        "colab": {
          "base_uri": "https://localhost:8080/"
        },
        "id": "8M5QEIOzUtcI",
        "outputId": "75e61361-616e-43bb-97b2-33accf8dd5b3"
      },
      "execution_count": 25,
      "outputs": [
        {
          "output_type": "stream",
          "name": "stdout",
          "text": [
            "5\n"
          ]
        }
      ]
    },
    {
      "cell_type": "markdown",
      "source": [
        "###14. Write a code to find the index of the element \"cat\" in the tuple ('dog', 'cat', 'rabbit')."
      ],
      "metadata": {
        "id": "rJZxy0MEVMF1"
      }
    },
    {
      "cell_type": "code",
      "source": [
        "Tuple5 = ('dog', 'cat', 'rabbit')\n",
        "print(Tuple5.index(\"cat\"))"
      ],
      "metadata": {
        "colab": {
          "base_uri": "https://localhost:8080/"
        },
        "id": "5UiDgR3NVBNp",
        "outputId": "179778a5-299e-449a-c713-a45f9cabfaf4"
      },
      "execution_count": 26,
      "outputs": [
        {
          "output_type": "stream",
          "name": "stdout",
          "text": [
            "1\n"
          ]
        }
      ]
    },
    {
      "cell_type": "markdown",
      "source": [
        "###15.Write a code to create a tuple containing three different fruits and check if \"kiwi\" is in it."
      ],
      "metadata": {
        "id": "sWDtMTUCVgr1"
      }
    },
    {
      "cell_type": "code",
      "source": [
        "Tuple6 = (\"Apple\",\"Mango\",\"Kiwi\",\"Banana\")\n",
        "if \"Kiwi\" in Tuple6:\n",
        "  print(\"Kiwi is in Tuple6\")\n",
        "else:\n",
        "  print(\"Kiwi is not in Tuple6\")"
      ],
      "metadata": {
        "colab": {
          "base_uri": "https://localhost:8080/"
        },
        "id": "YIpbt14JVa7j",
        "outputId": "18b177fc-03a9-48cc-d7d7-4f70d436e309"
      },
      "execution_count": 28,
      "outputs": [
        {
          "output_type": "stream",
          "name": "stdout",
          "text": [
            "Kiwi is in Tuple6\n"
          ]
        }
      ]
    },
    {
      "cell_type": "markdown",
      "source": [
        "###16.Write a code to create a set with the elements 'a', 'b', 'c' and print it."
      ],
      "metadata": {
        "id": "jeMMHv_3WLN5"
      }
    },
    {
      "cell_type": "code",
      "source": [
        "set1 = {'a','b','c'}\n",
        "print(set1)"
      ],
      "metadata": {
        "colab": {
          "base_uri": "https://localhost:8080/"
        },
        "id": "4gzB7jRLV-_y",
        "outputId": "4e15c49a-569c-4b16-d1b1-d5b7f8d58513"
      },
      "execution_count": 29,
      "outputs": [
        {
          "output_type": "stream",
          "name": "stdout",
          "text": [
            "{'b', 'a', 'c'}\n"
          ]
        }
      ]
    },
    {
      "cell_type": "markdown",
      "source": [
        "###17.Write a code to clear all elements from the set {1, 2, 3, 4, 5}"
      ],
      "metadata": {
        "id": "cmvmfje8XLEE"
      }
    },
    {
      "cell_type": "code",
      "source": [
        "set2 = {1, 2, 3, 4, 5}\n",
        "print(\"Initially the Set is: \",set2)\n",
        "set2.clear()\n",
        "print(\"After using clear function the set is: \",set2)"
      ],
      "metadata": {
        "colab": {
          "base_uri": "https://localhost:8080/"
        },
        "id": "0oZ7QNyFW-EC",
        "outputId": "66f2f194-301c-49b4-d755-663cda66e25c"
      },
      "execution_count": 30,
      "outputs": [
        {
          "output_type": "stream",
          "name": "stdout",
          "text": [
            "Initially the Set is:  {1, 2, 3, 4, 5}\n",
            "After using clear function the set is:  set()\n"
          ]
        }
      ]
    },
    {
      "cell_type": "markdown",
      "source": [
        "###18. Write a code to remove the element 4 from the set {1, 2, 3, 4}."
      ],
      "metadata": {
        "id": "4z0F6AHMXreU"
      }
    },
    {
      "cell_type": "code",
      "source": [
        "set3 = {1, 2, 3, 4}\n",
        "print(\"Initially the Set is: \",set3)\n",
        "set3.remove(4)\n",
        "print(\"After using remove function the set is: \",set3)"
      ],
      "metadata": {
        "colab": {
          "base_uri": "https://localhost:8080/"
        },
        "id": "OG7LEQhBXo3e",
        "outputId": "fe5a6bae-02a3-4d22-e4be-0ea2ead1e10f"
      },
      "execution_count": 31,
      "outputs": [
        {
          "output_type": "stream",
          "name": "stdout",
          "text": [
            "Initially the Set is:  {1, 2, 3, 4}\n",
            "After using remove function the set is:  {1, 2, 3}\n"
          ]
        }
      ]
    },
    {
      "cell_type": "markdown",
      "source": [
        "###19.Write a code to find the union of two sets {1, 2, 3} and {3, 4, 5}."
      ],
      "metadata": {
        "id": "GyjTXCdgX_jh"
      }
    },
    {
      "cell_type": "code",
      "source": [
        "set1 = {1, 2, 3}\n",
        "print(\"Set 1 is:\",set1)\n",
        "set2 = {3, 4, 5}\n",
        "print(\"Set 2 is:\",set2)\n",
        "set3 = set1.union(set2)\n",
        "print(\"After Performing union operation set is: \",set3)"
      ],
      "metadata": {
        "colab": {
          "base_uri": "https://localhost:8080/"
        },
        "id": "TqWc-ezmX5av",
        "outputId": "606c41e2-ca76-4520-de88-8455faf85899"
      },
      "execution_count": 33,
      "outputs": [
        {
          "output_type": "stream",
          "name": "stdout",
          "text": [
            "Set 1 is: {1, 2, 3}\n",
            "Set 2 is: {3, 4, 5}\n",
            "After Performing union operation set is:  {1, 2, 3, 4, 5}\n"
          ]
        }
      ]
    },
    {
      "cell_type": "markdown",
      "source": [
        "###20. Write a code to find the intersection of two sets {1, 2, 3} and {2, 3, 4}"
      ],
      "metadata": {
        "id": "Y30PA7BuZO_B"
      }
    },
    {
      "cell_type": "code",
      "source": [
        "set1 = {1, 2, 3}\n",
        "print(\"Set 1 is:\",set1)\n",
        "set2 = {2,3,4}\n",
        "print(\"Set 2 is:\",set2)\n",
        "set3 = set1.intersection(set2)\n",
        "print(\"After Performing intersection operation set is: \",set3)"
      ],
      "metadata": {
        "colab": {
          "base_uri": "https://localhost:8080/"
        },
        "id": "MajqA7G7ZHBs",
        "outputId": "123c3cef-8770-45cb-b887-2380f9da1f27"
      },
      "execution_count": 34,
      "outputs": [
        {
          "output_type": "stream",
          "name": "stdout",
          "text": [
            "Set 1 is: {1, 2, 3}\n",
            "Set 2 is: {2, 3, 4}\n",
            "After Performing intersection operation set is:  {2, 3}\n"
          ]
        }
      ]
    },
    {
      "cell_type": "markdown",
      "source": [
        "###21.Write a code to create a dictionary with the keys \"name\", \"age\", and \"city\", and print it."
      ],
      "metadata": {
        "id": "qrPFDSxgZmGo"
      }
    },
    {
      "cell_type": "code",
      "source": [
        "dict1 = {\n",
        "    \"name\" : \"Darshan\",\n",
        "    \"age\" : 21,\n",
        "    \"city\" : \"Pune\"\n",
        "}\n",
        "print(dict1)"
      ],
      "metadata": {
        "colab": {
          "base_uri": "https://localhost:8080/"
        },
        "id": "ZgPMYbiZZfBe",
        "outputId": "036919f6-4a73-4fcd-c78f-3e2ab43e1ed1"
      },
      "execution_count": 35,
      "outputs": [
        {
          "output_type": "stream",
          "name": "stdout",
          "text": [
            "{'name': 'Darshan', 'age': 21, 'city': 'Pune'}\n"
          ]
        }
      ]
    },
    {
      "cell_type": "markdown",
      "source": [
        "###22.Write a code to add a new key-value pair \"country\": \"USA\" to the dictionary {'name': 'John', 'age': 25}."
      ],
      "metadata": {
        "id": "NZzIjhqhaO95"
      }
    },
    {
      "cell_type": "code",
      "source": [
        "dict = {'name': 'John', 'age': 25}\n",
        "print(dict)\n",
        "dict[\"country\"] = \"USA\"\n",
        "print(dict)"
      ],
      "metadata": {
        "colab": {
          "base_uri": "https://localhost:8080/"
        },
        "id": "rMRLAJopZ7Th",
        "outputId": "6dd2d43a-bce9-4b77-9ca1-e42f95ef4213"
      },
      "execution_count": 39,
      "outputs": [
        {
          "output_type": "stream",
          "name": "stdout",
          "text": [
            "{'name': 'John', 'age': 25}\n",
            "{'name': 'John', 'age': 25, 'country': 'USA'}\n"
          ]
        }
      ]
    },
    {
      "cell_type": "markdown",
      "source": [
        "###23.Write a code to access the value associated with the key \"name\" in the dictionary {'name': 'Alice', 'age': 30}."
      ],
      "metadata": {
        "id": "vkwHfeTia4rV"
      }
    },
    {
      "cell_type": "code",
      "source": [
        "dict = {'name': 'Alice', 'age': 30}\n",
        "print(dict[\"name\"])"
      ],
      "metadata": {
        "colab": {
          "base_uri": "https://localhost:8080/"
        },
        "id": "VNoI48rzai2s",
        "outputId": "997ced97-5191-4716-8cae-ff3350927ca6"
      },
      "execution_count": 40,
      "outputs": [
        {
          "output_type": "stream",
          "name": "stdout",
          "text": [
            "Alice\n"
          ]
        }
      ]
    },
    {
      "cell_type": "markdown",
      "source": [
        "###24.Write a code to remove the key \"age\" from the dictionary {'name': 'Bob', 'age': 22, 'city': 'New York'}."
      ],
      "metadata": {
        "id": "e40b9OmabMu8"
      }
    },
    {
      "cell_type": "code",
      "source": [
        "dict1 = {'name': 'Bob', 'age': 22, 'city': 'New York'}\n",
        "dict1.pop(\"age\")\n",
        "print(dict1)"
      ],
      "metadata": {
        "colab": {
          "base_uri": "https://localhost:8080/"
        },
        "id": "AV7YOQmIbGSH",
        "outputId": "6c5548ec-f568-412d-cf35-e052a5260b80"
      },
      "execution_count": 42,
      "outputs": [
        {
          "output_type": "stream",
          "name": "stdout",
          "text": [
            "{'name': 'Bob', 'city': 'New York'}\n"
          ]
        }
      ]
    },
    {
      "cell_type": "markdown",
      "source": [
        "###25. Write a code to check if the key \"city\" exists in the dictionary {'name': 'Alice', 'city': 'Paris'}."
      ],
      "metadata": {
        "id": "IA4aO-mUbgeB"
      }
    },
    {
      "cell_type": "code",
      "source": [
        "dict2 = {'name': 'Alice', 'city': 'Paris'}\n",
        "if \"city\" in dict2:\n",
        "  print(\"City is in dict2 and it's name is:\",dict2[\"city\"])\n",
        "else:\n",
        "  print(\"City is not in dict2\")"
      ],
      "metadata": {
        "colab": {
          "base_uri": "https://localhost:8080/"
        },
        "id": "JachyGc1baDb",
        "outputId": "28643f2b-097b-43c7-8e58-fad97a713984"
      },
      "execution_count": 45,
      "outputs": [
        {
          "output_type": "stream",
          "name": "stdout",
          "text": [
            "City is in dict2 and it's name is: Paris\n"
          ]
        }
      ]
    },
    {
      "cell_type": "markdown",
      "source": [
        "###26.Write a code to create a list, a tuple, and a dictionary, and print them all."
      ],
      "metadata": {
        "id": "KDfL-IIEcMfP"
      }
    },
    {
      "cell_type": "code",
      "source": [
        "list = [1,2,3,4]\n",
        "tuple = (1,2,3,4)\n",
        "dict = {'name': 'Alice', 'city': 'Paris'}\n",
        "print(\"The list is :\",list)\n",
        "print(\"The tuple is :\",tuple)\n",
        "print(\"The dict is :\",dict)"
      ],
      "metadata": {
        "colab": {
          "base_uri": "https://localhost:8080/"
        },
        "id": "hvRyvTykcfY8",
        "outputId": "753d2052-b203-4219-9e7f-049c58f20567"
      },
      "execution_count": 46,
      "outputs": [
        {
          "output_type": "stream",
          "name": "stdout",
          "text": [
            "The list is : [1, 2, 3, 4]\n",
            "The tuple is : (1, 2, 3, 4)\n",
            "The dict is : {'name': 'Alice', 'city': 'Paris'}\n"
          ]
        }
      ]
    },
    {
      "cell_type": "markdown",
      "source": [
        "###27. Write a code to create a list of 5 random numbers between 1 and 100, sort it in ascending order, and print the result.(replaced)"
      ],
      "metadata": {
        "id": "cgsacPXTdLVD"
      }
    },
    {
      "cell_type": "code",
      "source": [
        "list = [7,54,1,86]\n",
        "list.sort()\n",
        "print(list)"
      ],
      "metadata": {
        "colab": {
          "base_uri": "https://localhost:8080/"
        },
        "id": "frlrgUuBdfLB",
        "outputId": "95bb35d0-8e00-4876-beeb-1e319fb487b3"
      },
      "execution_count": 47,
      "outputs": [
        {
          "output_type": "stream",
          "name": "stdout",
          "text": [
            "[1, 7, 54, 86]\n"
          ]
        }
      ]
    },
    {
      "cell_type": "markdown",
      "source": [
        "###28. Write a code to create a list with strings and print the element at the third index."
      ],
      "metadata": {
        "id": "XVbfQ_-IdsPT"
      }
    },
    {
      "cell_type": "code",
      "source": [
        "list1 = [\"Pw\" , \"Skills\" , \"Assignment\" , \"String\" , \"index\"]\n",
        "print(list1[3])"
      ],
      "metadata": {
        "colab": {
          "base_uri": "https://localhost:8080/"
        },
        "id": "PmdDQyFmdnBJ",
        "outputId": "a18fed11-cb40-4460-a109-127e47be2b23"
      },
      "execution_count": 48,
      "outputs": [
        {
          "output_type": "stream",
          "name": "stdout",
          "text": [
            "String\n"
          ]
        }
      ]
    },
    {
      "cell_type": "markdown",
      "source": [
        "###29.Write a code to combine two dictionaries into one and print the result."
      ],
      "metadata": {
        "id": "PG-3SovVeVTE"
      }
    },
    {
      "cell_type": "code",
      "source": [
        "dict1 = {'name': 'Alice', 'city': 'Paris'}\n",
        "dict2 = {\"email_id\" : \"pk123@gmail.com\" , \"course\" : \"Ai and Data Science\"}\n",
        "(dict1.update(dict2))\n",
        "print(dict1,end=\",\")"
      ],
      "metadata": {
        "colab": {
          "base_uri": "https://localhost:8080/"
        },
        "id": "rlaeqDvgexV-",
        "outputId": "949b1e74-0da7-472f-ff7f-f360c06ca8a2"
      },
      "execution_count": 66,
      "outputs": [
        {
          "output_type": "stream",
          "name": "stdout",
          "text": [
            "{'name': 'Alice', 'city': 'Paris', 'email_id': 'pk123@gmail.com', 'course': 'Ai and Data Science'},"
          ]
        }
      ]
    },
    {
      "cell_type": "markdown",
      "source": [
        "###30. Write a code to convert a list of strings into a set."
      ],
      "metadata": {
        "id": "h-kn2UqOgr4K"
      }
    },
    {
      "cell_type": "code",
      "source": [
        "List1 = [\"PW\", \"KKw\" , \"Skills\" , \"Assignment\"]\n",
        "print(\"This is List: \",List1)\n",
        "set1 = set(List1)\n",
        "print(\"This is set: \",set1)"
      ],
      "metadata": {
        "colab": {
          "base_uri": "https://localhost:8080/"
        },
        "id": "b5kJhUQNf13Q",
        "outputId": "1271f6f9-807b-4b6f-f4bc-71de3f17d55e"
      },
      "execution_count": 64,
      "outputs": [
        {
          "output_type": "stream",
          "name": "stdout",
          "text": [
            "This is List:  ['PW', 'KKw', 'Skills', 'Assignment']\n",
            "This is set:  {'Skills', 'KKw', 'PW', 'Assignment'}\n"
          ]
        }
      ]
    }
  ]
}