{
 "cells": [
  {
   "cell_type": "markdown",
   "metadata": {
    "id": "XFdoVewJOYNj"
   },
   "source": [
    "#***Data Toolkit***"
   ]
  },
  {
   "cell_type": "markdown",
   "metadata": {
    "id": "SrSL-h37ghbY"
   },
   "source": [
    "# **Theory**"
   ]
  },
  {
   "cell_type": "markdown",
   "metadata": {
    "id": "hQlYPtBiOgFr"
   },
   "source": [
    "### 1)What is NumPy, and why is it widely used in Python?\n"
   ]
  },
  {
   "cell_type": "markdown",
   "metadata": {
    "id": "DnZ4dg1UOgCg"
   },
   "source": [
    "- NumPy is a Python library used for fast numerical and scientific computing.\n",
    "It is widely used because it provides powerful tools for handling large multidimensional arrays and performing efficient mathematical operations."
   ]
  },
  {
   "cell_type": "markdown",
   "metadata": {
    "id": "hQjVgTlYOgA_"
   },
   "source": [
    "### 2)How does broadcasting work in NumPy?"
   ]
  },
  {
   "cell_type": "markdown",
   "metadata": {
    "id": "GUFSCPRlOf--"
   },
   "source": [
    "- Broadcasting in NumPy means automatically expanding smaller arrays so that operations (like addition, subtraction, etc.) can be done with arrays of different shapes — without copying data manually.\n",
    "\n",
    "- It helps you perform element-wise operations easily, even when the arrays don’t have the same shape.\n",
    "\n",
    "\n",
    "```\n",
    "import numpy as np\n",
    "\n",
    "a = np.array([1, 2, 3])\n",
    "b = 2\n",
    "\n",
    "print(a + b)\n",
    "o/p  : [3,4,5]\n",
    "```\n",
    "\n"
   ]
  },
  {
   "cell_type": "markdown",
   "metadata": {
    "id": "A3zwyN5oOf81"
   },
   "source": [
    "### 3)What is a Pandas DataFrame?"
   ]
  },
  {
   "cell_type": "markdown",
   "metadata": {
    "id": "V5W8rvWLOf68"
   },
   "source": [
    "- A Pandas DataFrame is one of the most important data structures in the Pandas library (used in Python for data analysis and manipulation).\n",
    "\n",
    "- A DataFrame is like a table — similar to an Excel spreadsheet or a SQL table.\n",
    "It has rows and columns, where each column can hold different types of data (like numbers, strings, or dates)."
   ]
  },
  {
   "cell_type": "markdown",
   "metadata": {
    "id": "x5llwXJSOf4Z"
   },
   "source": [
    "### 4)Explain the use of the `groupby()` method in Pandas."
   ]
  },
  {
   "cell_type": "markdown",
   "metadata": {
    "id": "22ieDRZVOf1t"
   },
   "source": [
    "- The `groupby()` method in Pandas is used to split data into groups based on one or more columns, and then apply a function (like sum, mean, count, etc.) to each group."
   ]
  },
  {
   "cell_type": "markdown",
   "metadata": {
    "id": "P69ZTrj0Ofyb"
   },
   "source": [
    "### 5) Why is Seaborn preferred for statistical visualizations?"
   ]
  },
  {
   "cell_type": "markdown",
   "metadata": {
    "id": "rbG3684GOfum"
   },
   "source": [
    "- Seaborn is a Python library built on top of Matplotlib, and it’s designed specifically for making statistical graphics easier and more attractive."
   ]
  },
  {
   "cell_type": "markdown",
   "metadata": {
    "id": "IjRbuuOoOfso"
   },
   "source": [
    "### 6)What are the differences between NumPy arrays and Python lists?"
   ]
  },
  {
   "cell_type": "markdown",
   "metadata": {
    "id": "vjeW4JC7ZM5u"
   },
   "source": [
    "- NumPy arrays store only one data type and are faster and more memory-efficient than Python lists.They support vectorized operations, allowing mathematical calculations on the entire array at once.\n",
    "- Python lists can store different data types but are slower for numerical tasks.\n",
    "- NumPy provides many built-in mathematical functions, while lists have limited ones."
   ]
  },
  {
   "cell_type": "markdown",
   "metadata": {
    "id": "jup9Yj7pOfqT"
   },
   "source": [
    "### 7)What is a heatmap, and when should it be used?"
   ]
  },
  {
   "cell_type": "markdown",
   "metadata": {
    "id": "7exTCmEeOfn_"
   },
   "source": [
    "- A heatmap is a data visualization technique that shows values using colors.\n",
    "It helps you see patterns, relationships, or intensity in data quickly.\n",
    "- Rows and columns represent different variables.\n",
    "- Colors represent the magnitude (how big or small a value is)."
   ]
  },
  {
   "cell_type": "markdown",
   "metadata": {
    "id": "mVACF9L7Ofk2"
   },
   "source": [
    "### 8)What does the term “vectorized operation” mean in NumPy?"
   ]
  },
  {
   "cell_type": "markdown",
   "metadata": {
    "id": "maik1K_mOfff"
   },
   "source": [
    "- A vectorized operation in NumPy means performing an operation on an entire array (or multiple arrays) at once, without writing explicit Python loops.\n",
    "- It’s like doing math on a whole column of numbers in one go, instead of one number at a time."
   ]
  },
  {
   "cell_type": "markdown",
   "metadata": {
    "id": "gjyHiD2fOfcr"
   },
   "source": [
    "### 9) How does Matplotlib differ from Plotly?"
   ]
  },
  {
   "cell_type": "markdown",
   "metadata": {
    "id": "XBgxxwDSOfZx"
   },
   "source": [
    "- Matplotlib is a Python library used for creating static 2D plots like line, bar, and scatter plots.\n",
    "- Plotly is used for interactive and dynamic visualizations that you can zoom, hover, and click.\n",
    "- Matplotlib is simpler and widely used for quick plots in scripts or notebooks.\n",
    "- Plotly is more suitable for dashboards and web-based interactive charts."
   ]
  },
  {
   "cell_type": "markdown",
   "metadata": {
    "id": "2znKYbLyOfWw"
   },
   "source": [
    "### 10)What is the significance of hierarchical indexing in Pandas?\n"
   ]
  },
  {
   "cell_type": "markdown",
   "metadata": {
    "id": "o2FiPyTaOfTl"
   },
   "source": [
    "- Hierarchical indexing (or MultiIndex) allows a Pandas DataFrame or Series to have multiple levels of row or column indices.\n",
    "- It helps organize and analyze complex, multi-dimensional data in a compact tabular form.\n",
    "- You can group, slice, and aggregate data easily at different levels of the index.\n",
    "- It enables pivot-like operations without reshaping the entire DataFrame."
   ]
  },
  {
   "cell_type": "markdown",
   "metadata": {
    "id": "xYscPnMVOfQT"
   },
   "source": [
    "### 11) What is the role of Seaborn’s pairplot() function?"
   ]
  },
  {
   "cell_type": "markdown",
   "metadata": {
    "id": "cm9UcfbicW28"
   },
   "source": [
    "- pairplot() is a function in Seaborn used to visualize relationships in a dataset.\n",
    "- It creates scatter plots for all pairs of numerical columns.\n",
    "- It also shows histograms or KDE plots on the diagonal for each variable.\n",
    "- Useful for quickly exploring correlations and distributions between variables.\n",
    "- Can be customized with hue, markers, and palette to show categories."
   ]
  },
  {
   "cell_type": "markdown",
   "metadata": {
    "id": "DqGS5FyGcW1G"
   },
   "source": [
    "### 12)What is the purpose of the describe() function in Pandas?"
   ]
  },
  {
   "cell_type": "markdown",
   "metadata": {
    "id": "4OGRNLskcWyc"
   },
   "source": [
    "- The describe() function in Pandas is used to get a quick statistical summary of a DataFrame or Series.\n",
    "- It provides key metrics like count, mean, standard deviation, min, max, and quartiles for numeric columns.\n",
    "- It helps in understanding the distribution and spread of the data quickly.\n",
    "- For non-numeric columns, it can show count, unique values, top value, and frequency."
   ]
  },
  {
   "cell_type": "markdown",
   "metadata": {
    "id": "YZ-uoGqFcWt-"
   },
   "source": [
    "### 13)Why is handling missing data important in Pandas?"
   ]
  },
  {
   "cell_type": "markdown",
   "metadata": {
    "id": "QB9GbroPcWqy"
   },
   "source": [
    "- Missing data can lead to incorrect analysis or calculations.\n",
    "- It may cause errors in functions or machine learning models.\n",
    "- Filling or removing missing values improves data quality.\n",
    "- Proper handling ensures accurate insights and decisions.\n",
    "- It helps maintain consistency in datasets for reliable results."
   ]
  },
  {
   "cell_type": "markdown",
   "metadata": {
    "id": "EveTBK-6cWmS"
   },
   "source": [
    "### 14) What are the benefits of using Plotly for data visualization?"
   ]
  },
  {
   "cell_type": "markdown",
   "metadata": {
    "id": "X7MxegX0cWju"
   },
   "source": [
    "- **Interactive Visuals:** Plotly creates interactive charts where users can zoom, hover, and pan.\n",
    "- **Wide Range of Charts:** Supports line, bar, scatter, pie, heatmaps, 3D plots, and more.\n",
    "- **Web-Friendly:** Charts can be easily embedded in websites or dashboards.\n",
    "- **Easy Integration:** Works well with Python, R, and JavaScript.\n",
    "- **High Customization:** Offers extensive options to style and customize charts for presentation-quality visuals."
   ]
  },
  {
   "cell_type": "markdown",
   "metadata": {
    "id": "JMVElviMcWfu"
   },
   "source": [
    "### 15) How does NumPy handle multidimensional arrays ?"
   ]
  },
  {
   "cell_type": "markdown",
   "metadata": {
    "id": "RoEJ8h--dUmw"
   },
   "source": [
    "- NumPy uses ndarray objects to represent multidimensional arrays.\n",
    "- A NumPy array can have any number of dimensions (1D, 2D, 3D, …).\n",
    "- Elements are stored in contiguous memory blocks, making access and operations faster.\n",
    "- Shape and indexing allow easy access to rows, columns, or slices of data.\n",
    "- NumPy supports vectorized operations on all dimensions without explicit loops"
   ]
  },
  {
   "cell_type": "markdown",
   "metadata": {
    "id": "HmjfyHU2dUkJ"
   },
   "source": [
    "### 16)What is the role of Bokeh in data visualization?"
   ]
  },
  {
   "cell_type": "markdown",
   "metadata": {
    "id": "rpo8ZcZSdUhi"
   },
   "source": [
    "- Bokeh is a Python library used for interactive data visualization.\n",
    "- It allows creating interactive plots, dashboards, and web-ready charts.\n",
    "- Supports high-performance streaming and real-time data updates.\n",
    "- Provides tools like hover, zoom, and pan for better data exploration.\n",
    "- It is ideal for large datasets and integrating visualizations into web applications."
   ]
  },
  {
   "cell_type": "markdown",
   "metadata": {
    "id": "kU4nCwDWdUe2"
   },
   "source": [
    "### 17) Explain the difference between apply() and map() in Pandas."
   ]
  },
  {
   "cell_type": "markdown",
   "metadata": {
    "id": "tOgIit34dUcD"
   },
   "source": [
    "- map() is used to apply a function to each element of a Series only.\n",
    "- apply() can be used on a Series or DataFrame to apply a function to each element, row, or column.\n",
    "- map() is simpler and mostly used for element-wise transformations.\n",
    "- apply() is more flexible, supporting custom functions and row/column operations.\n",
    "- Example: df['col'].map(func) vs df.apply(func, axis=1) for row-wise operation."
   ]
  },
  {
   "cell_type": "markdown",
   "metadata": {
    "id": "lOG4dMtUcWbu"
   },
   "source": [
    "### 18) What are some advanced features of NumPy?"
   ]
  },
  {
   "cell_type": "markdown",
   "metadata": {
    "id": "FVvPwxrLeRgz"
   },
   "source": [
    "- Vectorized Operations: Perform element-wise calculations on entire arrays without loops, making computations faster.\n",
    "- Broadcasting: Allows operations on arrays of different shapes efficiently without explicit replication.\n",
    "- Advanced Indexing & Slicing: Supports boolean masks, fancy indexing, and multidimensional slicing for flexible data access.\n",
    "- Linear Algebra & FFT: Built-in support for matrix operations, eigenvalues, determinants, and fast Fourier transforms.\n",
    "- Random & Statistical Functions: Generate random numbers, sample distributions, and perform statistical analyses easily"
   ]
  },
  {
   "cell_type": "markdown",
   "metadata": {
    "id": "3w8VS2QQeRdi"
   },
   "source": [
    "### 19) How does Pandas simplify time series analysis?"
   ]
  },
  {
   "cell_type": "markdown",
   "metadata": {
    "id": "m3e7Y8tpeRbG"
   },
   "source": [
    "- Pandas provides the DatetimeIndex and Timestamp objects to handle dates and times easily.\n",
    "- It allows easy resampling (e.g., daily to monthly) and frequency conversion of time series data.\n",
    "- Built-in rolling and moving window functions simplify calculations like moving averages.\n",
    "- Pandas supports time-based slicing and filtering with intuitive syntax.\n",
    "- Functions like shift(), diff(), and pct_change() make trend and change analysis straightforward."
   ]
  },
  {
   "cell_type": "markdown",
   "metadata": {
    "id": "j74V0fwoeRBW"
   },
   "source": [
    "### 20) What is the role of a pivot table in Pandas?"
   ]
  },
  {
   "cell_type": "markdown",
   "metadata": {
    "id": "OHy0GNlxfd-Q"
   },
   "source": [
    "- A pivot table in Pandas is used to summarize and analyze data in a table format.\n",
    "- It aggregates data based on one or more keys (rows and columns).\n",
    "- You can apply functions like sum(), mean(), count() on grouped data.\n",
    "- It helps in quickly comparing values across different categories.\n",
    "- Essentially, it’s like creating an Excel-style summary table directly in Pandas."
   ]
  },
  {
   "cell_type": "markdown",
   "metadata": {
    "id": "0EAiH21tfd4C"
   },
   "source": [
    "### 21) Why is NumPy’s array slicing faster than Python’s list slicing?"
   ]
  },
  {
   "cell_type": "markdown",
   "metadata": {
    "id": "ecyVgeFkfd1A"
   },
   "source": [
    "- NumPy arrays store elements in contiguous memory blocks, while Python lists store references to objects scattered in memory.\n",
    "- This allows NumPy to access elements directly using simple pointer arithmetic.\n",
    "- Slicing a NumPy array creates a view, not a copy, so no extra memory is used.\n",
    "- Python list slicing creates a new list with copied elements, which takes more time."
   ]
  },
  {
   "cell_type": "markdown",
   "metadata": {
    "id": "4gKA9bD-fdxB"
   },
   "source": [
    "### 22) What are some common use cases for Seaborn?"
   ]
  },
  {
   "cell_type": "markdown",
   "metadata": {
    "id": "o3KzV6aRfdt2"
   },
   "source": [
    "- Visualizing distributions of data using histograms, KDE plots, or violin plots.\n",
    "- Comparing categories with bar plots, count plots, and box plots.\n",
    "- Exploring relationships between variables with scatter plots, regression plots, and pair plots.\n",
    "- Creating heatmaps for correlation matrices or frequency tables.\n",
    "- Enhancing plot aesthetics with themes, color palettes, and customized styles."
   ]
  },
  {
   "cell_type": "markdown",
   "metadata": {
    "id": "t7PVulHegm5V"
   },
   "source": [
    "# **Practical**"
   ]
  },
  {
   "cell_type": "markdown",
   "metadata": {
    "id": "I8mKwMwTgxQk"
   },
   "source": [
    "### 1) How do you create a 2D NumPy array and calculate the sum of each row?"
   ]
  },
  {
   "cell_type": "code",
   "execution_count": 5,
   "metadata": {
    "colab": {
     "base_uri": "https://localhost:8080/"
    },
    "executionInfo": {
     "elapsed": 75,
     "status": "ok",
     "timestamp": 1760377195341,
     "user": {
      "displayName": "Darshan Kedare",
      "userId": "06595639947591335062"
     },
     "user_tz": -330
    },
    "id": "XxaAKLP7gWaE",
    "outputId": "e6503b7d-fecc-4587-cba0-bbd727b4ad36"
   },
   "outputs": [
    {
     "name": "stdout",
     "output_type": "stream",
     "text": [
      "[[1 2 3]\n",
      " [4 5 6]\n",
      " [7 8 9]]\n"
     ]
    }
   ],
   "source": [
    "import numpy as np\n",
    "arr = np.array([[1, 2, 3],\n",
    "                [4, 5, 6],\n",
    "                [7, 8, 9]])\n",
    "\n",
    "print(arr)\n"
   ]
  },
  {
   "cell_type": "code",
   "execution_count": 6,
   "metadata": {
    "colab": {
     "base_uri": "https://localhost:8080/"
    },
    "executionInfo": {
     "elapsed": 37,
     "status": "ok",
     "timestamp": 1760377195382,
     "user": {
      "displayName": "Darshan Kedare",
      "userId": "06595639947591335062"
     },
     "user_tz": -330
    },
    "id": "ZDUXF2x5g-3j",
    "outputId": "6772f5ef-5661-4b27-e9bb-c953952178e7"
   },
   "outputs": [
    {
     "name": "stdout",
     "output_type": "stream",
     "text": [
      "[ 6 15 24]\n"
     ]
    }
   ],
   "source": [
    "row_sum = np.sum(arr, axis=1)  # For row we use axis = 1\n",
    "print(row_sum)\n"
   ]
  },
  {
   "cell_type": "code",
   "execution_count": 7,
   "metadata": {
    "colab": {
     "base_uri": "https://localhost:8080/"
    },
    "executionInfo": {
     "elapsed": 35,
     "status": "ok",
     "timestamp": 1760377195420,
     "user": {
      "displayName": "Darshan Kedare",
      "userId": "06595639947591335062"
     },
     "user_tz": -330
    },
    "id": "O_1eZA01hE93",
    "outputId": "76981c91-1e8b-44e9-f701-e694fa0f6119"
   },
   "outputs": [
    {
     "name": "stdout",
     "output_type": "stream",
     "text": [
      "[12 15 18]\n"
     ]
    }
   ],
   "source": [
    "row_sum = np.sum(arr,axis = 0)  # For column we use axis = 0\n",
    "print(row_sum)"
   ]
  },
  {
   "cell_type": "markdown",
   "metadata": {
    "id": "JcsRmFZLhfzK"
   },
   "source": [
    "### 2) Write a Pandas script to find the mean of a specific column in a DataFrame."
   ]
  },
  {
   "cell_type": "code",
   "execution_count": 8,
   "metadata": {
    "colab": {
     "base_uri": "https://localhost:8080/"
    },
    "executionInfo": {
     "elapsed": 29,
     "status": "ok",
     "timestamp": 1760377195462,
     "user": {
      "displayName": "Darshan Kedare",
      "userId": "06595639947591335062"
     },
     "user_tz": -330
    },
    "id": "x02dHa6ChZg7",
    "outputId": "8b421750-8272-4c56-c935-9648de55d932"
   },
   "outputs": [
    {
     "name": "stdout",
     "output_type": "stream",
     "text": [
      "Mean of Score column: 84.33333333333333\n"
     ]
    }
   ],
   "source": [
    "import pandas as pd\n",
    "data = {\n",
    "    'Name': ['Darshan', 'Kedar', 'Arjun'],\n",
    "    'Age': [21, 22, 20],\n",
    "    'Score': [85, 90, 78]\n",
    "}\n",
    "\n",
    "df = pd.DataFrame(data)\n",
    "mean_score = df['Score'].mean()\n",
    "\n",
    "print(\"Mean of Score column:\", mean_score)\n"
   ]
  },
  {
   "cell_type": "code",
   "execution_count": 9,
   "metadata": {
    "colab": {
     "base_uri": "https://localhost:8080/"
    },
    "executionInfo": {
     "elapsed": 31,
     "status": "ok",
     "timestamp": 1760377195496,
     "user": {
      "displayName": "Darshan Kedare",
      "userId": "06595639947591335062"
     },
     "user_tz": -330
    },
    "id": "7puPKpNuh75J",
    "outputId": "8898b1fe-806d-450d-d8fb-8dc8d077a23c"
   },
   "outputs": [
    {
     "name": "stdout",
     "output_type": "stream",
     "text": [
      "Mean of Age column: 21.0\n"
     ]
    }
   ],
   "source": [
    "df = pd.DataFrame(data)\n",
    "mean_Age = df['Age'].mean()\n",
    "\n",
    "print(\"Mean of Age column:\", mean_Age)"
   ]
  },
  {
   "cell_type": "markdown",
   "metadata": {
    "id": "NupSzWgDiMjn"
   },
   "source": [
    "### 3)  Create a scatter plot using Matplotlib."
   ]
  },
  {
   "cell_type": "code",
   "execution_count": 10,
   "metadata": {
    "colab": {
     "base_uri": "https://localhost:8080/",
     "height": 472
    },
    "executionInfo": {
     "elapsed": 668,
     "status": "ok",
     "timestamp": 1760377196166,
     "user": {
      "displayName": "Darshan Kedare",
      "userId": "06595639947591335062"
     },
     "user_tz": -330
    },
    "id": "eM9YdDaOiQWw",
    "outputId": "8f454bb1-4ae7-4b73-fc8a-910e1ce59444"
   },
   "outputs": [
    {
     "data": {
      "image/png": "[encoded data removed]",
      "text/plain": [
       "<Figure size 640x480 with 1 Axes>"
      ]
     },
     "metadata": {},
     "output_type": "display_data"
    }
   ],
   "source": [
    "import matplotlib.pyplot as plt\n",
    "\n",
    "\n",
    "x = [\"Darshan\", \"Soham\", \"Kedar\", \"Hitesh\", \"Ajay\"]\n",
    "y = [100, 78, 83, 50, 93]\n",
    "\n",
    "plt.scatter(x, y, color='blue', marker='o', s=100)\n",
    "\n",
    "plt.title(\"Sample Scatter Plot\")\n",
    "plt.xlabel(\"On X-axis Students\")\n",
    "plt.ylabel(\"On Y-axis Marks\")\n",
    "\n",
    "plt.show()\n"
   ]
  },
  {
   "cell_type": "markdown",
   "metadata": {
    "id": "TfEEiU_YkGjo"
   },
   "source": [
    "### 4)How do you calculate the correlation matrix using Seaborn and visualize it with a heatmap?"
   ]
  },
  {
   "cell_type": "code",
   "execution_count": 11,
   "metadata": {
    "executionInfo": {
     "elapsed": 13,
     "status": "ok",
     "timestamp": 1760377196167,
     "user": {
      "displayName": "Darshan Kedare",
      "userId": "06595639947591335062"
     },
     "user_tz": -330
    },
    "id": "S55tA7O3idOi"
   },
   "outputs": [],
   "source": [
    "import pandas as pd\n",
    "import seaborn as sns\n",
    "import matplotlib.pyplot as plt"
   ]
  },
  {
   "cell_type": "code",
   "execution_count": 12,
   "metadata": {
    "executionInfo": {
     "elapsed": 2,
     "status": "ok",
     "timestamp": 1760377196171,
     "user": {
      "displayName": "Darshan Kedare",
      "userId": "06595639947591335062"
     },
     "user_tz": -330
    },
    "id": "CR1_N8TckRYY"
   },
   "outputs": [],
   "source": [
    "data = {\n",
    "    'Math': [90, 80, 70, 60, 50],\n",
    "    'Physics': [85, 78, 75, 60, 55],\n",
    "    'Chemistry': [88, 82, 78, 65, 60]\n",
    "}\n",
    "\n",
    "df = pd.DataFrame(data)"
   ]
  },
  {
   "cell_type": "code",
   "execution_count": 13,
   "metadata": {
    "colab": {
     "base_uri": "https://localhost:8080/"
    },
    "executionInfo": {
     "elapsed": 31,
     "status": "ok",
     "timestamp": 1760377196219,
     "user": {
      "displayName": "Darshan Kedare",
      "userId": "06595639947591335062"
     },
     "user_tz": -330
    },
    "id": "5jFunXYzkTqq",
    "outputId": "c2242eb0-a614-4a7e-a9ac-087171410407"
   },
   "outputs": [
    {
     "name": "stdout",
     "output_type": "stream",
     "text": [
      "              Math   Physics  Chemistry\n",
      "Math       1.00000  0.977140   0.983260\n",
      "Physics    0.97714  1.000000   0.999254\n",
      "Chemistry  0.98326  0.999254   1.000000\n"
     ]
    }
   ],
   "source": [
    "corr_matrix = df.corr()\n",
    "print(corr_matrix)"
   ]
  },
  {
   "cell_type": "code",
   "execution_count": 14,
   "metadata": {
    "colab": {
     "base_uri": "https://localhost:8080/",
     "height": 468
    },
    "executionInfo": {
     "elapsed": 26,
     "status": "ok",
     "timestamp": 1760377196247,
     "user": {
      "displayName": "Darshan Kedare",
      "userId": "06595639947591335062"
     },
     "user_tz": -330
    },
    "id": "TBD18U2ekXLj",
    "outputId": "76c9c6ca-ffa0-49e0-8756-f17df02f47fc"
   },
   "outputs": [
    {
     "data": {
      "image/png": "[encoded data removed]",
      "text/plain": [
       "<Figure size 600x500 with 2 Axes>"
      ]
     },
     "metadata": {},
     "output_type": "display_data"
    }
   ],
   "source": [
    "plt.figure(figsize=(6,5))\n",
    "sns.heatmap(corr_matrix, annot=True, cmap='coolwarm')\n",
    "plt.title(\"Correlation Heatmap\")\n",
    "plt.show()"
   ]
  },
  {
   "cell_type": "markdown",
   "metadata": {
    "id": "jrL2KSOOk1SI"
   },
   "source": [
    "### 5)Generate a bar plot using Plotly."
   ]
  },
  {
   "cell_type": "code",
   "execution_count": 15,
   "metadata": {
    "colab": {
     "base_uri": "https://localhost:8080/"
    },
    "executionInfo": {
     "elapsed": 3429,
     "status": "ok",
     "timestamp": 1760377199679,
     "user": {
      "displayName": "Darshan Kedare",
      "userId": "06595639947591335062"
     },
     "user_tz": -330
    },
    "id": "0DGzzUzMkggD",
    "outputId": "06889c44-ab36-43f5-d0e1-794e849b2620"
   },
   "outputs": [
    {
     "name": "stdout",
     "output_type": "stream",
     "text": [
      "Requirement already satisfied: plotly in c:\\users\\darsh\\anaconda3\\lib\\site-packages (5.24.1)\n",
      "Requirement already satisfied: tenacity>=6.2.0 in c:\\users\\darsh\\anaconda3\\lib\\site-packages (from plotly) (8.2.3)\n",
      "Requirement already satisfied: packaging in c:\\users\\darsh\\anaconda3\\lib\\site-packages (from plotly) (24.1)\n",
      "Note: you may need to restart the kernel to use updated packages.\n"
     ]
    }
   ],
   "source": [
    "pip install plotly"
   ]
  },
  {
   "cell_type": "code",
   "execution_count": 16,
   "metadata": {
    "colab": {
     "base_uri": "https://localhost:8080/",
     "height": 542
    },
    "executionInfo": {
     "elapsed": 7,
     "status": "ok",
     "timestamp": 1760377199690,
     "user": {
      "displayName": "Darshan Kedare",
      "userId": "06595639947591335062"
     },
     "user_tz": -330
    },
    "id": "mG37uFcUk9mH",
    "outputId": "ceb71cd9-d03e-4fbd-f3c3-a7a7a8946a77"
   },
   "outputs": [
    {
     "data": {
      "application/vnd.plotly.v1+json": {
       "config": {
        "plotlyServerURL": "https://plot.ly"
       },
       "data": [
        {
         "marker": {
          "color": "brown"
         },
         "type": "bar",
         "x": [
          "Pune",
          "Mumbai",
          "Nashik",
          "Delhi"
         ],
         "y": [
          350,
          400,
          550,
          300
         ]
        }
       ],
       "layout": {
        "template": {
         "data": {
          "bar": [
           {
            "error_x": {
             "color": "#2a3f5f"
            },
            "error_y": {
             "color": "#2a3f5f"
            },
            "marker": {
             "line": {
              "color": "#E5ECF6",
              "width": 0.5
             },
             "pattern": {
              "fillmode": "overlay",
              "size": 10,
              "solidity": 0.2
             }
            },
            "type": "bar"
           }
          ],
          "barpolar": [
           {
            "marker": {
             "line": {
              "color": "#E5ECF6",
              "width": 0.5
             },
             "pattern": {
              "fillmode": "overlay",
              "size": 10,
              "solidity": 0.2
             }
            },
            "type": "barpolar"
           }
          ],
          "carpet": [
           {
            "aaxis": {
             "endlinecolor": "#2a3f5f",
             "gridcolor": "white",
             "linecolor": "white",
             "minorgridcolor": "white",
             "startlinecolor": "#2a3f5f"
            },
            "baxis": {
             "endlinecolor": "#2a3f5f",
             "gridcolor": "white",
             "linecolor": "white",
             "minorgridcolor": "white",
             "startlinecolor": "#2a3f5f"
            },
            "type": "carpet"
           }
          ],
          "choropleth": [
           {
            "colorbar": {
             "outlinewidth": 0,
             "ticks": ""
            },
            "type": "choropleth"
           }
          ],
          "contour": [
           {
            "colorbar": {
             "outlinewidth": 0,
             "ticks": ""
            },
            "colorscale": [
             [
              0,
              "#0d0887"
             ],
             [
              0.1111111111111111,
              "#46039f"
             ],
             [
              0.2222222222222222,
              "#7201a8"
             ],
             [
              0.3333333333333333,
              "#9c179e"
             ],
             [
              0.4444444444444444,
              "#bd3786"
             ],
             [
              0.5555555555555556,
              "#d8576b"
             ],
             [
              0.6666666666666666,
              "#ed7953"
             ],
             [
              0.7777777777777778,
              "#fb9f3a"
             ],
             [
              0.8888888888888888,
              "#fdca26"
             ],
             [
              1,
              "#f0f921"
             ]
            ],
            "type": "contour"
           }
          ],
          "contourcarpet": [
           {
            "colorbar": {
             "outlinewidth": 0,
             "ticks": ""
            },
            "type": "contourcarpet"
           }
          ],
          "heatmap": [
           {
            "colorbar": {
             "outlinewidth": 0,
             "ticks": ""
            },
            "colorscale": [
             [
              0,
              "#0d0887"
             ],
             [
              0.1111111111111111,
              "#46039f"
             ],
             [
              0.2222222222222222,
              "#7201a8"
             ],
             [
              0.3333333333333333,
              "#9c179e"
             ],
             [
              0.4444444444444444,
              "#bd3786"
             ],
             [
              0.5555555555555556,
              "#d8576b"
             ],
             [
              0.6666666666666666,
              "#ed7953"
             ],
             [
              0.7777777777777778,
              "#fb9f3a"
             ],
             [
              0.8888888888888888,
              "#fdca26"
             ],
             [
              1,
              "#f0f921"
             ]
            ],
            "type": "heatmap"
           }
          ],
          "heatmapgl": [
           {
            "colorbar": {
             "outlinewidth": 0,
             "ticks": ""
            },
            "colorscale": [
             [
              0,
              "#0d0887"
             ],
             [
              0.1111111111111111,
              "#46039f"
             ],
             [
              0.2222222222222222,
              "#7201a8"
             ],
             [
              0.3333333333333333,
              "#9c179e"
             ],
             [
              0.4444444444444444,
              "#bd3786"
             ],
             [
              0.5555555555555556,
              "#d8576b"
             ],
             [
              0.6666666666666666,
              "#ed7953"
             ],
             [
              0.7777777777777778,
              "#fb9f3a"
             ],
             [
              0.8888888888888888,
              "#fdca26"
             ],
             [
              1,
              "#f0f921"
             ]
            ],
            "type": "heatmapgl"
           }
          ],
          "histogram": [
           {
            "marker": {
             "pattern": {
              "fillmode": "overlay",
              "size": 10,
              "solidity": 0.2
             }
            },
            "type": "histogram"
           }
          ],
          "histogram2d": [
           {
            "colorbar": {
             "outlinewidth": 0,
             "ticks": ""
            },
            "colorscale": [
             [
              0,
              "#0d0887"
             ],
             [
              0.1111111111111111,
              "#46039f"
             ],
             [
              0.2222222222222222,
              "#7201a8"
             ],
             [
              0.3333333333333333,
              "#9c179e"
             ],
             [
              0.4444444444444444,
              "#bd3786"
             ],
             [
              0.5555555555555556,
              "#d8576b"
             ],
             [
              0.6666666666666666,
              "#ed7953"
             ],
             [
              0.7777777777777778,
              "#fb9f3a"
             ],
             [
              0.8888888888888888,
              "#fdca26"
             ],
             [
              1,
              "#f0f921"
             ]
            ],
            "type": "histogram2d"
           }
          ],
          "histogram2dcontour": [
           {
            "colorbar": {
             "outlinewidth": 0,
             "ticks": ""
            },
            "colorscale": [
             [
              0,
              "#0d0887"
             ],
             [
              0.1111111111111111,
              "#46039f"
             ],
             [
              0.2222222222222222,
              "#7201a8"
             ],
             [
              0.3333333333333333,
              "#9c179e"
             ],
             [
              0.4444444444444444,
              "#bd3786"
             ],
             [
              0.5555555555555556,
              "#d8576b"
             ],
             [
              0.6666666666666666,
              "#ed7953"
             ],
             [
              0.7777777777777778,
              "#fb9f3a"
             ],
             [
              0.8888888888888888,
              "#fdca26"
             ],
             [
              1,
              "#f0f921"
             ]
            ],
            "type": "histogram2dcontour"
           }
          ],
          "mesh3d": [
           {
            "colorbar": {
             "outlinewidth": 0,
             "ticks": ""
            },
            "type": "mesh3d"
           }
          ],
          "parcoords": [
           {
            "line": {
             "colorbar": {
              "outlinewidth": 0,
              "ticks": ""
             }
            },
            "type": "parcoords"
           }
          ],
          "pie": [
           {
            "automargin": true,
            "type": "pie"
           }
          ],
          "scatter": [
           {
            "fillpattern": {
             "fillmode": "overlay",
             "size": 10,
             "solidity": 0.2
            },
            "type": "scatter"
           }
          ],
          "scatter3d": [
           {
            "line": {
             "colorbar": {
              "outlinewidth": 0,
              "ticks": ""
             }
            },
            "marker": {
             "colorbar": {
              "outlinewidth": 0,
              "ticks": ""
             }
            },
            "type": "scatter3d"
           }
          ],
          "scattercarpet": [
           {
            "marker": {
             "colorbar": {
              "outlinewidth": 0,
              "ticks": ""
             }
            },
            "type": "scattercarpet"
           }
          ],
          "scattergeo": [
           {
            "marker": {
             "colorbar": {
              "outlinewidth": 0,
              "ticks": ""
             }
            },
            "type": "scattergeo"
           }
          ],
          "scattergl": [
           {
            "marker": {
             "colorbar": {
              "outlinewidth": 0,
              "ticks": ""
             }
            },
            "type": "scattergl"
           }
          ],
          "scattermapbox": [
           {
            "marker": {
             "colorbar": {
              "outlinewidth": 0,
              "ticks": ""
             }
            },
            "type": "scattermapbox"
           }
          ],
          "scatterpolar": [
           {
            "marker": {
             "colorbar": {
              "outlinewidth": 0,
              "ticks": ""
             }
            },
            "type": "scatterpolar"
           }
          ],
          "scatterpolargl": [
           {
            "marker": {
             "colorbar": {
              "outlinewidth": 0,
              "ticks": ""
             }
            },
            "type": "scatterpolargl"
           }
          ],
          "scatterternary": [
           {
            "marker": {
             "colorbar": {
              "outlinewidth": 0,
              "ticks": ""
             }
            },
            "type": "scatterternary"
           }
          ],
          "surface": [
           {
            "colorbar": {
             "outlinewidth": 0,
             "ticks": ""
            },
            "colorscale": [
             [
              0,
              "#0d0887"
             ],
             [
              0.1111111111111111,
              "#46039f"
             ],
             [
              0.2222222222222222,
              "#7201a8"
             ],
             [
              0.3333333333333333,
              "#9c179e"
             ],
             [
              0.4444444444444444,
              "#bd3786"
             ],
             [
              0.5555555555555556,
              "#d8576b"
             ],
             [
              0.6666666666666666,
              "#ed7953"
             ],
             [
              0.7777777777777778,
              "#fb9f3a"
             ],
             [
              0.8888888888888888,
              "#fdca26"
             ],
             [
              1,
              "#f0f921"
             ]
            ],
            "type": "surface"
           }
          ],
          "table": [
           {
            "cells": {
             "fill": {
              "color": "#EBF0F8"
             },
             "line": {
              "color": "white"
             }
            },
            "header": {
             "fill": {
              "color": "#C8D4E3"
             },
             "line": {
              "color": "white"
             }
            },
            "type": "table"
           }
          ]
         },
         "layout": {
          "annotationdefaults": {
           "arrowcolor": "#2a3f5f",
           "arrowhead": 0,
           "arrowwidth": 1
          },
          "autotypenumbers": "strict",
          "coloraxis": {
           "colorbar": {
            "outlinewidth": 0,
            "ticks": ""
           }
          },
          "colorscale": {
           "diverging": [
            [
             0,
             "#8e0152"
            ],
            [
             0.1,
             "#c51b7d"
            ],
            [
             0.2,
             "#de77ae"
            ],
            [
             0.3,
             "#f1b6da"
            ],
            [
             0.4,
             "#fde0ef"
            ],
            [
             0.5,
             "#f7f7f7"
            ],
            [
             0.6,
             "#e6f5d0"
            ],
            [
             0.7,
             "#b8e186"
            ],
            [
             0.8,
             "#7fbc41"
            ],
            [
             0.9,
             "#4d9221"
            ],
            [
             1,
             "#276419"
            ]
           ],
           "sequential": [
            [
             0,
             "#0d0887"
            ],
            [
             0.1111111111111111,
             "#46039f"
            ],
            [
             0.2222222222222222,
             "#7201a8"
            ],
            [
             0.3333333333333333,
             "#9c179e"
            ],
            [
             0.4444444444444444,
             "#bd3786"
            ],
            [
             0.5555555555555556,
             "#d8576b"
            ],
            [
             0.6666666666666666,
             "#ed7953"
            ],
            [
             0.7777777777777778,
             "#fb9f3a"
            ],
            [
             0.8888888888888888,
             "#fdca26"
            ],
            [
             1,
             "#f0f921"
            ]
           ],
           "sequentialminus": [
            [
             0,
             "#0d0887"
            ],
            [
             0.1111111111111111,
             "#46039f"
            ],
            [
             0.2222222222222222,
             "#7201a8"
            ],
            [
             0.3333333333333333,
             "#9c179e"
            ],
            [
             0.4444444444444444,
             "#bd3786"
            ],
            [
             0.5555555555555556,
             "#d8576b"
            ],
            [
             0.6666666666666666,
             "#ed7953"
            ],
            [
             0.7777777777777778,
             "#fb9f3a"
            ],
            [
             0.8888888888888888,
             "#fdca26"
            ],
            [
             1,
             "#f0f921"
            ]
           ]
          },
          "colorway": [
           "#636efa",
           "#EF553B",
           "#00cc96",
           "#ab63fa",
           "#FFA15A",
           "#19d3f3",
           "#FF6692",
           "#B6E880",
           "#FF97FF",
           "#FECB52"
          ],
          "font": {
           "color": "#2a3f5f"
          },
          "geo": {
           "bgcolor": "white",
           "lakecolor": "white",
           "landcolor": "#E5ECF6",
           "showlakes": true,
           "showland": true,
           "subunitcolor": "white"
          },
          "hoverlabel": {
           "align": "left"
          },
          "hovermode": "closest",
          "mapbox": {
           "style": "light"
          },
          "paper_bgcolor": "white",
          "plot_bgcolor": "#E5ECF6",
          "polar": {
           "angularaxis": {
            "gridcolor": "white",
            "linecolor": "white",
            "ticks": ""
           },
           "bgcolor": "#E5ECF6",
           "radialaxis": {
            "gridcolor": "white",
            "linecolor": "white",
            "ticks": ""
           }
          },
          "scene": {
           "xaxis": {
            "backgroundcolor": "#E5ECF6",
            "gridcolor": "white",
            "gridwidth": 2,
            "linecolor": "white",
            "showbackground": true,
            "ticks": "",
            "zerolinecolor": "white"
           },
           "yaxis": {
            "backgroundcolor": "#E5ECF6",
            "gridcolor": "white",
            "gridwidth": 2,
            "linecolor": "white",
            "showbackground": true,
            "ticks": "",
            "zerolinecolor": "white"
           },
           "zaxis": {
            "backgroundcolor": "#E5ECF6",
            "gridcolor": "white",
            "gridwidth": 2,
            "linecolor": "white",
            "showbackground": true,
            "ticks": "",
            "zerolinecolor": "white"
           }
          },
          "shapedefaults": {
           "line": {
            "color": "#2a3f5f"
           }
          },
          "ternary": {
           "aaxis": {
            "gridcolor": "white",
            "linecolor": "white",
            "ticks": ""
           },
           "baxis": {
            "gridcolor": "white",
            "linecolor": "white",
            "ticks": ""
           },
           "bgcolor": "#E5ECF6",
           "caxis": {
            "gridcolor": "white",
            "linecolor": "white",
            "ticks": ""
           }
          },
          "title": {
           "x": 0.05
          },
          "xaxis": {
           "automargin": true,
           "gridcolor": "white",
           "linecolor": "white",
           "ticks": "",
           "title": {
            "standoff": 15
           },
           "zerolinecolor": "white",
           "zerolinewidth": 2
          },
          "yaxis": {
           "automargin": true,
           "gridcolor": "white",
           "linecolor": "white",
           "ticks": "",
           "title": {
            "standoff": 15
           },
           "zerolinecolor": "white",
           "zerolinewidth": 2
          }
         }
        },
        "title": {
         "text": "City-wise Sales"
        },
        "xaxis": {
         "title": {
          "text": "City"
         }
        },
        "yaxis": {
         "title": {
          "text": "Sales"
         }
        }
       }
      }
     },
     "metadata": {},
     "output_type": "display_data"
    }
   ],
   "source": [
    "import plotly.graph_objects as go\n",
    "\n",
    "\n",
    "cities = ['Pune', 'Mumbai', 'Nashik', 'Delhi']\n",
    "sales = [350, 400, 550, 300]\n",
    "\n",
    "fig = go.Figure(data=[go.Bar(x=cities, y=sales, marker_color='brown'  )])\n",
    "\n",
    "fig.update_layout(title='City-wise Sales', xaxis_title='City', yaxis_title='Sales')\n",
    "fig.show()\n"
   ]
  },
  {
   "cell_type": "markdown",
   "metadata": {
    "id": "OyHzaXdnlsM4"
   },
   "source": [
    "### 6) Create a DataFrame and add a new column based on an existing column."
   ]
  },
  {
   "cell_type": "code",
   "execution_count": 17,
   "metadata": {
    "colab": {
     "base_uri": "https://localhost:8080/"
    },
    "executionInfo": {
     "elapsed": 17,
     "status": "ok",
     "timestamp": 1760377199710,
     "user": {
      "displayName": "Darshan Kedare",
      "userId": "06595639947591335062"
     },
     "user_tz": -330
    },
    "id": "Gwp78ab3lHQY",
    "outputId": "851eaeff-e583-4f83-83ce-6f850d7c9e8b"
   },
   "outputs": [
    {
     "name": "stdout",
     "output_type": "stream",
     "text": [
      "Original DataFrame:\n",
      "      Name  Age\n",
      "0  Darshan   21\n",
      "1     Riya   22\n",
      "2    Arjun   20\n"
     ]
    }
   ],
   "source": [
    "import pandas as pd\n",
    "\n",
    "data = {\n",
    "    'Name': ['Darshan', 'Riya', 'Arjun'],\n",
    "    'Age': [21, 22, 20]\n",
    "}\n",
    "df = pd.DataFrame(data)\n",
    "print(\"Original DataFrame:\")\n",
    "print(df)\n"
   ]
  },
  {
   "cell_type": "code",
   "execution_count": 18,
   "metadata": {
    "colab": {
     "base_uri": "https://localhost:8080/"
    },
    "executionInfo": {
     "elapsed": 8,
     "status": "ok",
     "timestamp": 1760377199720,
     "user": {
      "displayName": "Darshan Kedare",
      "userId": "06595639947591335062"
     },
     "user_tz": -330
    },
    "id": "ThOp9QuwmGip",
    "outputId": "ea019bb3-717c-42a7-a273-cb2ce09cb70f"
   },
   "outputs": [
    {
     "name": "stdout",
     "output_type": "stream",
     "text": [
      "\n",
      "DataFrame after adding new column:\n",
      "      Name  Age  Age after 5 Years\n",
      "0  Darshan   21                 26\n",
      "1     Riya   22                 27\n",
      "2    Arjun   20                 25\n"
     ]
    }
   ],
   "source": [
    "df['Age after 5 Years'] = df['Age'] + 5\n",
    "\n",
    "print(\"\\nDataFrame after adding new column:\")\n",
    "print(df)\n"
   ]
  },
  {
   "cell_type": "markdown",
   "metadata": {
    "id": "3RWaaRCXmQpr"
   },
   "source": [
    "### 7) Write a program to perform element-wise multiplication of two NumPy arrays."
   ]
  },
  {
   "cell_type": "code",
   "execution_count": 19,
   "metadata": {
    "colab": {
     "base_uri": "https://localhost:8080/"
    },
    "executionInfo": {
     "elapsed": 8,
     "status": "ok",
     "timestamp": 1760377199731,
     "user": {
      "displayName": "Darshan Kedare",
      "userId": "06595639947591335062"
     },
     "user_tz": -330
    },
    "id": "RKfvirrCmKPT",
    "outputId": "34eb7e6d-461e-45b4-a9a4-452d7ca83e8e"
   },
   "outputs": [
    {
     "name": "stdout",
     "output_type": "stream",
     "text": [
      "Array A: [1 2 3 4]\n",
      "Array B: [5 6 7 8]\n",
      "Element-wise multiplication: [ 5 12 21 32]\n"
     ]
    }
   ],
   "source": [
    "import numpy as np\n",
    "\n",
    "A = np.array([1, 2, 3, 4])\n",
    "B = np.array([5, 6, 7, 8])\n",
    "\n",
    "result = A * B\n",
    "\n",
    "print(\"Array A:\", A)\n",
    "print(\"Array B:\", B)\n",
    "print(\"Element-wise multiplication:\", result)\n"
   ]
  },
  {
   "cell_type": "markdown",
   "metadata": {
    "id": "AN7FlPagmmWx"
   },
   "source": [
    "### 8)Create a line plot with multiple lines using Matplotlib."
   ]
  },
  {
   "cell_type": "code",
   "execution_count": 20,
   "metadata": {
    "colab": {
     "base_uri": "https://localhost:8080/",
     "height": 472
    },
    "executionInfo": {
     "elapsed": 136,
     "status": "ok",
     "timestamp": 1760377199868,
     "user": {
      "displayName": "Darshan Kedare",
      "userId": "06595639947591335062"
     },
     "user_tz": -330
    },
    "id": "3gsnuwdDme6T",
    "outputId": "2d23a67b-be2f-48b1-95c5-fc087d678e7e"
   },
   "outputs": [
    {
     "data": {
      "image/png": "[encoded data removed]",
      "text/plain": [
       "<Figure size 640x480 with 1 Axes>"
      ]
     },
     "metadata": {},
     "output_type": "display_data"
    }
   ],
   "source": [
    "import matplotlib.pyplot as plt\n",
    "\n",
    "months = ['Jan', 'Feb', 'Mar', 'Apr', 'May']\n",
    "sales_product1 = [200, 250, 300, 280, 350]\n",
    "sales_product2 = [150, 180, 250, 300, 320]\n",
    "\n",
    "plt.plot(months, sales_product1, marker='o', label='Product 1', color='pink')\n",
    "plt.plot(months, sales_product2, marker='s', label='Product 2', color='green')\n",
    "\n",
    "plt.title('Monthly Sales Comparison')\n",
    "plt.xlabel('Months')\n",
    "plt.ylabel('Sales')\n",
    "\n",
    "plt.legend()\n",
    "\n",
    "plt.show()\n"
   ]
  },
  {
   "cell_type": "markdown",
   "metadata": {
    "id": "43teGDjJm_bG"
   },
   "source": [
    "### 9)Generate a Pandas DataFrame and filter rows where a column value is greater than a threshold."
   ]
  },
  {
   "cell_type": "code",
   "execution_count": 21,
   "metadata": {
    "colab": {
     "base_uri": "https://localhost:8080/"
    },
    "executionInfo": {
     "elapsed": 37,
     "status": "ok",
     "timestamp": 1760377199908,
     "user": {
      "displayName": "Darshan Kedare",
      "userId": "06595639947591335062"
     },
     "user_tz": -330
    },
    "id": "nZzUqu7Hm1QH",
    "outputId": "2e76f2bd-27eb-489a-d235-61d9af6dd26c"
   },
   "outputs": [
    {
     "name": "stdout",
     "output_type": "stream",
     "text": [
      "Original DataFrame:\n",
      "      Name  Age  Score\n",
      "0  Darshan   21     85\n",
      "1     Riya   22     90\n",
      "2    Arjun   20     75\n",
      "3    Sneha   25     95\n"
     ]
    }
   ],
   "source": [
    "import pandas as pd\n",
    "\n",
    "data = {\n",
    "    'Name': ['Darshan', 'Riya', 'Arjun', 'Sneha'],\n",
    "    'Age': [21, 22, 20, 25],\n",
    "    'Score': [85, 90, 75, 95]\n",
    "}\n",
    "\n",
    "df = pd.DataFrame(data)\n",
    "\n",
    "print(\"Original DataFrame:\")\n",
    "print(df)"
   ]
  },
  {
   "cell_type": "code",
   "execution_count": 22,
   "metadata": {
    "colab": {
     "base_uri": "https://localhost:8080/"
    },
    "executionInfo": {
     "elapsed": 25,
     "status": "ok",
     "timestamp": 1760377199909,
     "user": {
      "displayName": "Darshan Kedare",
      "userId": "06595639947591335062"
     },
     "user_tz": -330
    },
    "id": "J_8PCULInNAM",
    "outputId": "7c78464c-b3a6-4895-f1e8-5c9a749a4593"
   },
   "outputs": [
    {
     "name": "stdout",
     "output_type": "stream",
     "text": [
      "\n",
      "Filtered DataFrame (Score > 80):\n",
      "      Name  Age  Score\n",
      "0  Darshan   21     85\n",
      "1     Riya   22     90\n",
      "3    Sneha   25     95\n"
     ]
    }
   ],
   "source": [
    "filtered_df = df[df['Score'] > 80]\n",
    "\n",
    "print(\"\\nFiltered DataFrame (Score > 80):\")\n",
    "print(filtered_df)\n"
   ]
  },
  {
   "cell_type": "code",
   "execution_count": 23,
   "metadata": {
    "colab": {
     "base_uri": "https://localhost:8080/"
    },
    "executionInfo": {
     "elapsed": 17,
     "status": "ok",
     "timestamp": 1760377199910,
     "user": {
      "displayName": "Darshan Kedare",
      "userId": "06595639947591335062"
     },
     "user_tz": -330
    },
    "id": "qs9jbXNLnR_j",
    "outputId": "d6839fbd-bbbf-4880-9d5b-c9a4e1a2aa02"
   },
   "outputs": [
    {
     "name": "stdout",
     "output_type": "stream",
     "text": [
      "\n",
      "Filtered DataFrame (Age > 21):\n",
      "    Name  Age  Score\n",
      "1   Riya   22     90\n",
      "3  Sneha   25     95\n"
     ]
    }
   ],
   "source": [
    "filtered_df1 = df[df[\"Age\"] > 21]\n",
    "print(\"\\nFiltered DataFrame (Age > 21):\")\n",
    "print(filtered_df1)"
   ]
  },
  {
   "cell_type": "markdown",
   "metadata": {
    "id": "0P8_etkhntR1"
   },
   "source": [
    "### 10)Create a histogram using Seaborn to visualize a distribution."
   ]
  },
  {
   "cell_type": "code",
   "execution_count": 24,
   "metadata": {
    "executionInfo": {
     "elapsed": 8,
     "status": "ok",
     "timestamp": 1760377199910,
     "user": {
      "displayName": "Darshan Kedare",
      "userId": "06595639947591335062"
     },
     "user_tz": -330
    },
    "id": "dcmH8xcSnjQ6"
   },
   "outputs": [],
   "source": [
    "import seaborn as sns\n",
    "import matplotlib.pyplot as plt\n",
    "import numpy as np\n",
    "\n",
    "data = np.random.randn(1000)"
   ]
  },
  {
   "cell_type": "code",
   "execution_count": 25,
   "metadata": {
    "colab": {
     "base_uri": "https://localhost:8080/",
     "height": 472
    },
    "executionInfo": {
     "elapsed": 629,
     "status": "ok",
     "timestamp": 1760377200534,
     "user": {
      "displayName": "Darshan Kedare",
      "userId": "06595639947591335062"
     },
     "user_tz": -330
    },
    "id": "tRTHWL6un-gA",
    "outputId": "6a4a8fb4-7420-4705-fdd4-533d041c5fae"
   },
   "outputs": [
    {
     "data": {
      "image/png": "[encoded data removed]",
      "text/plain": [
       "<Figure size 640x480 with 1 Axes>"
      ]
     },
     "metadata": {},
     "output_type": "display_data"
    }
   ],
   "source": [
    "sns.histplot(data, bins=30, kde=True, color='skyblue')\n",
    "plt.title('Histogram of Sample Data')\n",
    "plt.xlabel('Value')\n",
    "plt.ylabel('Frequency')\n",
    "plt.show()"
   ]
  },
  {
   "cell_type": "code",
   "execution_count": 26,
   "metadata": {
    "executionInfo": {
     "elapsed": 4,
     "status": "ok",
     "timestamp": 1760377200539,
     "user": {
      "displayName": "Darshan Kedare",
      "userId": "06595639947591335062"
     },
     "user_tz": -330
    },
    "id": "O7rJI2NioBsY"
   },
   "outputs": [],
   "source": [
    "import seaborn as sns\n",
    "import matplotlib.pyplot as plt\n",
    "import numpy as np\n",
    "\n",
    "data = np.random.randint(1,500,1000)"
   ]
  },
  {
   "cell_type": "code",
   "execution_count": 27,
   "metadata": {
    "colab": {
     "base_uri": "https://localhost:8080/",
     "height": 472
    },
    "executionInfo": {
     "elapsed": 29,
     "status": "ok",
     "timestamp": 1760377200571,
     "user": {
      "displayName": "Darshan Kedare",
      "userId": "06595639947591335062"
     },
     "user_tz": -330
    },
    "id": "PvO5miAvoGSm",
    "outputId": "aee67951-bdb1-46e8-a666-3638cf9803c7"
   },
   "outputs": [
    {
     "data": {
      "image/png": "[encoded data removed]",
      "text/plain": [
       "<Figure size 640x480 with 1 Axes>"
      ]
     },
     "metadata": {},
     "output_type": "display_data"
    }
   ],
   "source": [
    "sns.histplot(data, bins=30, kde=True, color='skyblue')\n",
    "plt.title('Histogram of Sample Data')\n",
    "plt.xlabel('Value')\n",
    "plt.ylabel('Frequency')\n",
    "plt.show()"
   ]
  },
  {
   "cell_type": "markdown",
   "metadata": {
    "id": "QtHADQSAoXCP"
   },
   "source": [
    "### 11)Perform matrix multiplication using NumPy."
   ]
  },
  {
   "cell_type": "code",
   "execution_count": 28,
   "metadata": {
    "executionInfo": {
     "elapsed": 25,
     "status": "ok",
     "timestamp": 1760377200574,
     "user": {
      "displayName": "Darshan Kedare",
      "userId": "06595639947591335062"
     },
     "user_tz": -330
    },
    "id": "mqallt1roIVW"
   },
   "outputs": [],
   "source": [
    "import numpy as np\n",
    "A = np.array([[1, 2, 3],\n",
    "              [4, 5, 6]])\n",
    "\n",
    "B = np.array([[7, 8],\n",
    "              [9, 10],\n",
    "              [11, 12]])"
   ]
  },
  {
   "cell_type": "code",
   "execution_count": 29,
   "metadata": {
    "colab": {
     "base_uri": "https://localhost:8080/"
    },
    "executionInfo": {
     "elapsed": 23,
     "status": "ok",
     "timestamp": 1760377200576,
     "user": {
      "displayName": "Darshan Kedare",
      "userId": "06595639947591335062"
     },
     "user_tz": -330
    },
    "id": "QUs9YvS2oil6",
    "outputId": "cce85f90-3943-490c-8ded-6fabe42fe4fa"
   },
   "outputs": [
    {
     "name": "stdout",
     "output_type": "stream",
     "text": [
      "[[ 58  64]\n",
      " [139 154]]\n"
     ]
    }
   ],
   "source": [
    "C = np.dot(A, B)\n",
    "print(C)\n"
   ]
  },
  {
   "cell_type": "code",
   "execution_count": 30,
   "metadata": {
    "colab": {
     "base_uri": "https://localhost:8080/"
    },
    "executionInfo": {
     "elapsed": 20,
     "status": "ok",
     "timestamp": 1760377200597,
     "user": {
      "displayName": "Darshan Kedare",
      "userId": "06595639947591335062"
     },
     "user_tz": -330
    },
    "id": "I8NDPTfmoqQH",
    "outputId": "88c21d12-ed53-4d44-9fa8-5a64ddae3463"
   },
   "outputs": [
    {
     "name": "stdout",
     "output_type": "stream",
     "text": [
      "[[ 58  64]\n",
      " [139 154]]\n"
     ]
    }
   ],
   "source": [
    "D = A @ B\n",
    "print(D)"
   ]
  },
  {
   "cell_type": "markdown",
   "metadata": {
    "id": "5xrzuVpZrNlA"
   },
   "source": [
    "### 12) Use Pandas to load a CSV file and display its first 5 rows."
   ]
  },
  {
   "cell_type": "code",
   "execution_count": 31,
   "metadata": {
    "colab": {
     "base_uri": "https://localhost:8080/"
    },
    "executionInfo": {
     "elapsed": 864,
     "status": "ok",
     "timestamp": 1760377436394,
     "user": {
      "displayName": "Darshan Kedare",
      "userId": "06595639947591335062"
     },
     "user_tz": -330
    },
    "id": "6YxZ6U3sovIF",
    "outputId": "d716067b-ce10-4df8-86e6-375f8f363164"
   },
   "outputs": [
    {
     "name": "stdout",
     "output_type": "stream",
     "text": [
      "   RowNumber  CustomerId   Surname  CreditScore Geography  Gender  Age  \\\n",
      "0          1    15634602  Hargrave          619    France  Female   42   \n",
      "1          2    15647311      Hill          608     Spain  Female   41   \n",
      "2          3    15619304      Onio          502    France  Female   42   \n",
      "3          4    15701354      Boni          699    France  Female   39   \n",
      "4          5    15737888  Mitchell          850     Spain  Female   43   \n",
      "\n",
      "   Tenure    Balance  NumOfProducts  HasCrCard  IsActiveMember  \\\n",
      "0       2       0.00              1          1               1   \n",
      "1       1   83807.86              1          0               1   \n",
      "2       8  159660.80              3          1               0   \n",
      "3       1       0.00              2          0               0   \n",
      "4       2  125510.82              1          1               1   \n",
      "\n",
      "   EstimatedSalary  Exited  \n",
      "0        101348.88       1  \n",
      "1        112542.58       0  \n",
      "2        113931.57       1  \n",
      "3         93826.63       0  \n",
      "4         79084.10       0  \n"
     ]
    }
   ],
   "source": [
    "import pandas as pd\n",
    "url = \"https://drive.google.com/uc?export=download&id=1-cPRc5lMee7lbGz0_4I6RfvM_xpMPSOk\"\n",
    "df = pd.read_csv(url)\n",
    "print(df.head())\n"
   ]
  },
  {
   "cell_type": "markdown",
   "metadata": {
    "id": "y-al5Xf4rHhV"
   },
   "source": [
    "### 13)  Create a 3D scatter plot using Plotly."
   ]
  },
  {
   "cell_type": "code",
   "execution_count": 32,
   "metadata": {
    "colab": {
     "base_uri": "https://localhost:8080/"
    },
    "executionInfo": {
     "elapsed": 4689,
     "status": "ok",
     "timestamp": 1760377612674,
     "user": {
      "displayName": "Darshan Kedare",
      "userId": "06595639947591335062"
     },
     "user_tz": -330
    },
    "id": "GjlN90iDqWfj",
    "outputId": "1d8364db-37c7-447c-ac94-b712f2c4173f"
   },
   "outputs": [
    {
     "name": "stdout",
     "output_type": "stream",
     "text": [
      "Requirement already satisfied: plotly in c:\\users\\darsh\\anaconda3\\lib\\site-packages (5.24.1)\n",
      "Requirement already satisfied: tenacity>=6.2.0 in c:\\users\\darsh\\anaconda3\\lib\\site-packages (from plotly) (8.2.3)\n",
      "Requirement already satisfied: packaging in c:\\users\\darsh\\anaconda3\\lib\\site-packages (from plotly) (24.1)\n",
      "Note: you may need to restart the kernel to use updated packages.\n"
     ]
    }
   ],
   "source": [
    "pip install plotly"
   ]
  },
  {
   "cell_type": "code",
   "execution_count": 33,
   "metadata": {
    "executionInfo": {
     "elapsed": 909,
     "status": "ok",
     "timestamp": 1760377613581,
     "user": {
      "displayName": "Darshan Kedare",
      "userId": "06595639947591335062"
     },
     "user_tz": -330
    },
    "id": "O6nBP58zrpWz"
   },
   "outputs": [],
   "source": [
    "import plotly.express as px\n",
    "import pandas as pd"
   ]
  },
  {
   "cell_type": "code",
   "execution_count": 34,
   "metadata": {
    "executionInfo": {
     "elapsed": 205,
     "status": "ok",
     "timestamp": 1760377683242,
     "user": {
      "displayName": "Darshan Kedare",
      "userId": "06595639947591335062"
     },
     "user_tz": -330
    },
    "id": "qa6aenZQrqBg"
   },
   "outputs": [],
   "source": [
    "data = {\n",
    "    'x': [1, 2, 3, 4, 5],\n",
    "    'y': [10, 15, 13, 17, 14],\n",
    "    'z': [5, 2, 7, 1, 6],\n",
    "    'label': ['Darshan', 'Soham', 'Chetan', 'Divya', 'Sanket']\n",
    "}\n",
    "\n",
    "df = pd.DataFrame(data)"
   ]
  },
  {
   "cell_type": "code",
   "execution_count": 35,
   "metadata": {
    "colab": {
     "base_uri": "https://localhost:8080/",
     "height": 542
    },
    "executionInfo": {
     "elapsed": 8,
     "status": "ok",
     "timestamp": 1760377683265,
     "user": {
      "displayName": "Darshan Kedare",
      "userId": "06595639947591335062"
     },
     "user_tz": -330
    },
    "id": "lEoUtnO6rsqL",
    "outputId": "d9a21a31-90d9-463a-d1f0-17bf9385559c"
   },
   "outputs": [
    {
     "data": {
      "application/vnd.plotly.v1+json": {
       "config": {
        "plotlyServerURL": "https://plot.ly"
       },
       "data": [
        {
         "hovertemplate": "label=%{text}<br>x=%{x}<br>y=%{y}<br>z=%{marker.size}<extra></extra>",
         "legendgroup": "Darshan",
         "marker": {
          "color": "#636efa",
          "size": [
           5
          ],
          "sizemode": "area",
          "sizeref": 0.0175,
          "symbol": "circle"
         },
         "mode": "markers+text",
         "name": "Darshan",
         "scene": "scene",
         "showlegend": true,
         "text": [
          "Darshan"
         ],
         "type": "scatter3d",
         "x": [
          1
         ],
         "y": [
          10
         ],
         "z": [
          5
         ]
        },
        {
         "hovertemplate": "label=%{text}<br>x=%{x}<br>y=%{y}<br>z=%{marker.size}<extra></extra>",
         "legendgroup": "Soham",
         "marker": {
          "color": "#EF553B",
          "size": [
           2
          ],
          "sizemode": "area",
          "sizeref": 0.0175,
          "symbol": "circle"
         },
         "mode": "markers+text",
         "name": "Soham",
         "scene": "scene",
         "showlegend": true,
         "text": [
          "Soham"
         ],
         "type": "scatter3d",
         "x": [
          2
         ],
         "y": [
          15
         ],
         "z": [
          2
         ]
        },
        {
         "hovertemplate": "label=%{text}<br>x=%{x}<br>y=%{y}<br>z=%{marker.size}<extra></extra>",
         "legendgroup": "Chetan",
         "marker": {
          "color": "#00cc96",
          "size": [
           7
          ],
          "sizemode": "area",
          "sizeref": 0.0175,
          "symbol": "circle"
         },
         "mode": "markers+text",
         "name": "Chetan",
         "scene": "scene",
         "showlegend": true,
         "text": [
          "Chetan"
         ],
         "type": "scatter3d",
         "x": [
          3
         ],
         "y": [
          13
         ],
         "z": [
          7
         ]
        },
        {
         "hovertemplate": "label=%{text}<br>x=%{x}<br>y=%{y}<br>z=%{marker.size}<extra></extra>",
         "legendgroup": "Divya",
         "marker": {
          "color": "#ab63fa",
          "size": [
           1
          ],
          "sizemode": "area",
          "sizeref": 0.0175,
          "symbol": "circle"
         },
         "mode": "markers+text",
         "name": "Divya",
         "scene": "scene",
         "showlegend": true,
         "text": [
          "Divya"
         ],
         "type": "scatter3d",
         "x": [
          4
         ],
         "y": [
          17
         ],
         "z": [
          1
         ]
        },
        {
         "hovertemplate": "label=%{text}<br>x=%{x}<br>y=%{y}<br>z=%{marker.size}<extra></extra>",
         "legendgroup": "Sanket",
         "marker": {
          "color": "#FFA15A",
          "size": [
           6
          ],
          "sizemode": "area",
          "sizeref": 0.0175,
          "symbol": "circle"
         },
         "mode": "markers+text",
         "name": "Sanket",
         "scene": "scene",
         "showlegend": true,
         "text": [
          "Sanket"
         ],
         "type": "scatter3d",
         "x": [
          5
         ],
         "y": [
          14
         ],
         "z": [
          6
         ]
        }
       ],
       "layout": {
        "legend": {
         "itemsizing": "constant",
         "title": {
          "text": "label"
         },
         "tracegroupgap": 0
        },
        "scene": {
         "domain": {
          "x": [
           0,
           1
          ],
          "y": [
           0,
           1
          ]
         },
         "xaxis": {
          "title": {
           "text": "x"
          }
         },
         "yaxis": {
          "title": {
           "text": "y"
          }
         },
         "zaxis": {
          "title": {
           "text": "z"
          }
         }
        },
        "template": {
         "data": {
          "bar": [
           {
            "error_x": {
             "color": "#2a3f5f"
            },
            "error_y": {
             "color": "#2a3f5f"
            },
            "marker": {
             "line": {
              "color": "#E5ECF6",
              "width": 0.5
             },
             "pattern": {
              "fillmode": "overlay",
              "size": 10,
              "solidity": 0.2
             }
            },
            "type": "bar"
           }
          ],
          "barpolar": [
           {
            "marker": {
             "line": {
              "color": "#E5ECF6",
              "width": 0.5
             },
             "pattern": {
              "fillmode": "overlay",
              "size": 10,
              "solidity": 0.2
             }
            },
            "type": "barpolar"
           }
          ],
          "carpet": [
           {
            "aaxis": {
             "endlinecolor": "#2a3f5f",
             "gridcolor": "white",
             "linecolor": "white",
             "minorgridcolor": "white",
             "startlinecolor": "#2a3f5f"
            },
            "baxis": {
             "endlinecolor": "#2a3f5f",
             "gridcolor": "white",
             "linecolor": "white",
             "minorgridcolor": "white",
             "startlinecolor": "#2a3f5f"
            },
            "type": "carpet"
           }
          ],
          "choropleth": [
           {
            "colorbar": {
             "outlinewidth": 0,
             "ticks": ""
            },
            "type": "choropleth"
           }
          ],
          "contour": [
           {
            "colorbar": {
             "outlinewidth": 0,
             "ticks": ""
            },
            "colorscale": [
             [
              0,
              "#0d0887"
             ],
             [
              0.1111111111111111,
              "#46039f"
             ],
             [
              0.2222222222222222,
              "#7201a8"
             ],
             [
              0.3333333333333333,
              "#9c179e"
             ],
             [
              0.4444444444444444,
              "#bd3786"
             ],
             [
              0.5555555555555556,
              "#d8576b"
             ],
             [
              0.6666666666666666,
              "#ed7953"
             ],
             [
              0.7777777777777778,
              "#fb9f3a"
             ],
             [
              0.8888888888888888,
              "#fdca26"
             ],
             [
              1,
              "#f0f921"
             ]
            ],
            "type": "contour"
           }
          ],
          "contourcarpet": [
           {
            "colorbar": {
             "outlinewidth": 0,
             "ticks": ""
            },
            "type": "contourcarpet"
           }
          ],
          "heatmap": [
           {
            "colorbar": {
             "outlinewidth": 0,
             "ticks": ""
            },
            "colorscale": [
             [
              0,
              "#0d0887"
             ],
             [
              0.1111111111111111,
              "#46039f"
             ],
             [
              0.2222222222222222,
              "#7201a8"
             ],
             [
              0.3333333333333333,
              "#9c179e"
             ],
             [
              0.4444444444444444,
              "#bd3786"
             ],
             [
              0.5555555555555556,
              "#d8576b"
             ],
             [
              0.6666666666666666,
              "#ed7953"
             ],
             [
              0.7777777777777778,
              "#fb9f3a"
             ],
             [
              0.8888888888888888,
              "#fdca26"
             ],
             [
              1,
              "#f0f921"
             ]
            ],
            "type": "heatmap"
           }
          ],
          "heatmapgl": [
           {
            "colorbar": {
             "outlinewidth": 0,
             "ticks": ""
            },
            "colorscale": [
             [
              0,
              "#0d0887"
             ],
             [
              0.1111111111111111,
              "#46039f"
             ],
             [
              0.2222222222222222,
              "#7201a8"
             ],
             [
              0.3333333333333333,
              "#9c179e"
             ],
             [
              0.4444444444444444,
              "#bd3786"
             ],
             [
              0.5555555555555556,
              "#d8576b"
             ],
             [
              0.6666666666666666,
              "#ed7953"
             ],
             [
              0.7777777777777778,
              "#fb9f3a"
             ],
             [
              0.8888888888888888,
              "#fdca26"
             ],
             [
              1,
              "#f0f921"
             ]
            ],
            "type": "heatmapgl"
           }
          ],
          "histogram": [
           {
            "marker": {
             "pattern": {
              "fillmode": "overlay",
              "size": 10,
              "solidity": 0.2
             }
            },
            "type": "histogram"
           }
          ],
          "histogram2d": [
           {
            "colorbar": {
             "outlinewidth": 0,
             "ticks": ""
            },
            "colorscale": [
             [
              0,
              "#0d0887"
             ],
             [
              0.1111111111111111,
              "#46039f"
             ],
             [
              0.2222222222222222,
              "#7201a8"
             ],
             [
              0.3333333333333333,
              "#9c179e"
             ],
             [
              0.4444444444444444,
              "#bd3786"
             ],
             [
              0.5555555555555556,
              "#d8576b"
             ],
             [
              0.6666666666666666,
              "#ed7953"
             ],
             [
              0.7777777777777778,
              "#fb9f3a"
             ],
             [
              0.8888888888888888,
              "#fdca26"
             ],
             [
              1,
              "#f0f921"
             ]
            ],
            "type": "histogram2d"
           }
          ],
          "histogram2dcontour": [
           {
            "colorbar": {
             "outlinewidth": 0,
             "ticks": ""
            },
            "colorscale": [
             [
              0,
              "#0d0887"
             ],
             [
              0.1111111111111111,
              "#46039f"
             ],
             [
              0.2222222222222222,
              "#7201a8"
             ],
             [
              0.3333333333333333,
              "#9c179e"
             ],
             [
              0.4444444444444444,
              "#bd3786"
             ],
             [
              0.5555555555555556,
              "#d8576b"
             ],
             [
              0.6666666666666666,
              "#ed7953"
             ],
             [
              0.7777777777777778,
              "#fb9f3a"
             ],
             [
              0.8888888888888888,
              "#fdca26"
             ],
             [
              1,
              "#f0f921"
             ]
            ],
            "type": "histogram2dcontour"
           }
          ],
          "mesh3d": [
           {
            "colorbar": {
             "outlinewidth": 0,
             "ticks": ""
            },
            "type": "mesh3d"
           }
          ],
          "parcoords": [
           {
            "line": {
             "colorbar": {
              "outlinewidth": 0,
              "ticks": ""
             }
            },
            "type": "parcoords"
           }
          ],
          "pie": [
           {
            "automargin": true,
            "type": "pie"
           }
          ],
          "scatter": [
           {
            "fillpattern": {
             "fillmode": "overlay",
             "size": 10,
             "solidity": 0.2
            },
            "type": "scatter"
           }
          ],
          "scatter3d": [
           {
            "line": {
             "colorbar": {
              "outlinewidth": 0,
              "ticks": ""
             }
            },
            "marker": {
             "colorbar": {
              "outlinewidth": 0,
              "ticks": ""
             }
            },
            "type": "scatter3d"
           }
          ],
          "scattercarpet": [
           {
            "marker": {
             "colorbar": {
              "outlinewidth": 0,
              "ticks": ""
             }
            },
            "type": "scattercarpet"
           }
          ],
          "scattergeo": [
           {
            "marker": {
             "colorbar": {
              "outlinewidth": 0,
              "ticks": ""
             }
            },
            "type": "scattergeo"
           }
          ],
          "scattergl": [
           {
            "marker": {
             "colorbar": {
              "outlinewidth": 0,
              "ticks": ""
             }
            },
            "type": "scattergl"
           }
          ],
          "scattermapbox": [
           {
            "marker": {
             "colorbar": {
              "outlinewidth": 0,
              "ticks": ""
             }
            },
            "type": "scattermapbox"
           }
          ],
          "scatterpolar": [
           {
            "marker": {
             "colorbar": {
              "outlinewidth": 0,
              "ticks": ""
             }
            },
            "type": "scatterpolar"
           }
          ],
          "scatterpolargl": [
           {
            "marker": {
             "colorbar": {
              "outlinewidth": 0,
              "ticks": ""
             }
            },
            "type": "scatterpolargl"
           }
          ],
          "scatterternary": [
           {
            "marker": {
             "colorbar": {
              "outlinewidth": 0,
              "ticks": ""
             }
            },
            "type": "scatterternary"
           }
          ],
          "surface": [
           {
            "colorbar": {
             "outlinewidth": 0,
             "ticks": ""
            },
            "colorscale": [
             [
              0,
              "#0d0887"
             ],
             [
              0.1111111111111111,
              "#46039f"
             ],
             [
              0.2222222222222222,
              "#7201a8"
             ],
             [
              0.3333333333333333,
              "#9c179e"
             ],
             [
              0.4444444444444444,
              "#bd3786"
             ],
             [
              0.5555555555555556,
              "#d8576b"
             ],
             [
              0.6666666666666666,
              "#ed7953"
             ],
             [
              0.7777777777777778,
              "#fb9f3a"
             ],
             [
              0.8888888888888888,
              "#fdca26"
             ],
             [
              1,
              "#f0f921"
             ]
            ],
            "type": "surface"
           }
          ],
          "table": [
           {
            "cells": {
             "fill": {
              "color": "#EBF0F8"
             },
             "line": {
              "color": "white"
             }
            },
            "header": {
             "fill": {
              "color": "#C8D4E3"
             },
             "line": {
              "color": "white"
             }
            },
            "type": "table"
           }
          ]
         },
         "layout": {
          "annotationdefaults": {
           "arrowcolor": "#2a3f5f",
           "arrowhead": 0,
           "arrowwidth": 1
          },
          "autotypenumbers": "strict",
          "coloraxis": {
           "colorbar": {
            "outlinewidth": 0,
            "ticks": ""
           }
          },
          "colorscale": {
           "diverging": [
            [
             0,
             "#8e0152"
            ],
            [
             0.1,
             "#c51b7d"
            ],
            [
             0.2,
             "#de77ae"
            ],
            [
             0.3,
             "#f1b6da"
            ],
            [
             0.4,
             "#fde0ef"
            ],
            [
             0.5,
             "#f7f7f7"
            ],
            [
             0.6,
             "#e6f5d0"
            ],
            [
             0.7,
             "#b8e186"
            ],
            [
             0.8,
             "#7fbc41"
            ],
            [
             0.9,
             "#4d9221"
            ],
            [
             1,
             "#276419"
            ]
           ],
           "sequential": [
            [
             0,
             "#0d0887"
            ],
            [
             0.1111111111111111,
             "#46039f"
            ],
            [
             0.2222222222222222,
             "#7201a8"
            ],
            [
             0.3333333333333333,
             "#9c179e"
            ],
            [
             0.4444444444444444,
             "#bd3786"
            ],
            [
             0.5555555555555556,
             "#d8576b"
            ],
            [
             0.6666666666666666,
             "#ed7953"
            ],
            [
             0.7777777777777778,
             "#fb9f3a"
            ],
            [
             0.8888888888888888,
             "#fdca26"
            ],
            [
             1,
             "#f0f921"
            ]
           ],
           "sequentialminus": [
            [
             0,
             "#0d0887"
            ],
            [
             0.1111111111111111,
             "#46039f"
            ],
            [
             0.2222222222222222,
             "#7201a8"
            ],
            [
             0.3333333333333333,
             "#9c179e"
            ],
            [
             0.4444444444444444,
             "#bd3786"
            ],
            [
             0.5555555555555556,
             "#d8576b"
            ],
            [
             0.6666666666666666,
             "#ed7953"
            ],
            [
             0.7777777777777778,
             "#fb9f3a"
            ],
            [
             0.8888888888888888,
             "#fdca26"
            ],
            [
             1,
             "#f0f921"
            ]
           ]
          },
          "colorway": [
           "#636efa",
           "#EF553B",
           "#00cc96",
           "#ab63fa",
           "#FFA15A",
           "#19d3f3",
           "#FF6692",
           "#B6E880",
           "#FF97FF",
           "#FECB52"
          ],
          "font": {
           "color": "#2a3f5f"
          },
          "geo": {
           "bgcolor": "white",
           "lakecolor": "white",
           "landcolor": "#E5ECF6",
           "showlakes": true,
           "showland": true,
           "subunitcolor": "white"
          },
          "hoverlabel": {
           "align": "left"
          },
          "hovermode": "closest",
          "mapbox": {
           "style": "light"
          },
          "paper_bgcolor": "white",
          "plot_bgcolor": "#E5ECF6",
          "polar": {
           "angularaxis": {
            "gridcolor": "white",
            "linecolor": "white",
            "ticks": ""
           },
           "bgcolor": "#E5ECF6",
           "radialaxis": {
            "gridcolor": "white",
            "linecolor": "white",
            "ticks": ""
           }
          },
          "scene": {
           "xaxis": {
            "backgroundcolor": "#E5ECF6",
            "gridcolor": "white",
            "gridwidth": 2,
            "linecolor": "white",
            "showbackground": true,
            "ticks": "",
            "zerolinecolor": "white"
           },
           "yaxis": {
            "backgroundcolor": "#E5ECF6",
            "gridcolor": "white",
            "gridwidth": 2,
            "linecolor": "white",
            "showbackground": true,
            "ticks": "",
            "zerolinecolor": "white"
           },
           "zaxis": {
            "backgroundcolor": "#E5ECF6",
            "gridcolor": "white",
            "gridwidth": 2,
            "linecolor": "white",
            "showbackground": true,
            "ticks": "",
            "zerolinecolor": "white"
           }
          },
          "shapedefaults": {
           "line": {
            "color": "#2a3f5f"
           }
          },
          "ternary": {
           "aaxis": {
            "gridcolor": "white",
            "linecolor": "white",
            "ticks": ""
           },
           "baxis": {
            "gridcolor": "white",
            "linecolor": "white",
            "ticks": ""
           },
           "bgcolor": "#E5ECF6",
           "caxis": {
            "gridcolor": "white",
            "linecolor": "white",
            "ticks": ""
           }
          },
          "title": {
           "x": 0.05
          },
          "xaxis": {
           "automargin": true,
           "gridcolor": "white",
           "linecolor": "white",
           "ticks": "",
           "title": {
            "standoff": 15
           },
           "zerolinecolor": "white",
           "zerolinewidth": 2
          },
          "yaxis": {
           "automargin": true,
           "gridcolor": "white",
           "linecolor": "white",
           "ticks": "",
           "title": {
            "standoff": 15
           },
           "zerolinecolor": "white",
           "zerolinewidth": 2
          }
         }
        },
        "title": {
         "text": "3D Scatter Plot Example"
        }
       }
      }
     },
     "metadata": {},
     "output_type": "display_data"
    }
   ],
   "source": [
    "fig = px.scatter_3d(df, x='x', y='y', z='z', text='label',color='label', size='z', size_max=20,\n",
    "                    title='3D Scatter Plot Example')\n",
    "fig.show()"
   ]
  },
  {
   "cell_type": "code",
   "execution_count": null,
   "metadata": {
    "id": "jZcuj9KNrwZK"
   },
   "outputs": [],
   "source": []
  }
 ],
 "metadata": {
  "colab": {
   "authorship_tag": "ABX9TyPyzmyWY1B0hg8+OYtsk9AH",
   "provenance": []
  },
  "kernelspec": {
   "display_name": "base",
   "language": "python",
   "name": "python3"
  },
  "language_info": {
   "codemirror_mode": {
    "name": "ipython",
    "version": 3
   },
   "file_extension": ".py",
   "mimetype": "text/x-python",
   "name": "python",
   "nbconvert_exporter": "python",
   "pygments_lexer": "ipython3",
   "version": "3.12.7"
  }
 },
 "nbformat": 4,
 "nbformat_minor": 0
}
