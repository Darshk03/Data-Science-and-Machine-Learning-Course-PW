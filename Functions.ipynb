{
  "nbformat": 4,
  "nbformat_minor": 0,
  "metadata": {
    "colab": {
      "provenance": []
    },
    "kernelspec": {
      "name": "python3",
      "display_name": "Python 3"
    },
    "language_info": {
      "name": "python"
    }
  },
  "cells": [
    {
      "cell_type": "markdown",
      "source": [
        "#Theory Questions:"
      ],
      "metadata": {
        "id": "RvqHO0zOBeFj"
      }
    },
    {
      "cell_type": "markdown",
      "source": [
        "## 1. What is the difference between a function and a method in Python?\n",
        "\n",
        "\n"
      ],
      "metadata": {
        "id": "LKrReG-sBrhk"
      }
    },
    {
      "cell_type": "markdown",
      "source": [
        "- Function : A block of code that performs a specific task , it is defined using def ,can exist independently, outside of any class , we call it by its name. we can use Function repeatedly.\n",
        "\n",
        "\n",
        "```\n",
        "def greet(name):\n",
        "  print(f\"Hello, {name}!\")\n",
        "greet(\"Darshan\")\n",
        "```\n",
        "\n",
        "- Method : A function that is defined inside a class. it is associated with an object of that class.We call it using the object name. It usually takes self as its first parameter to access object data.\n",
        "\n",
        "\n",
        "\n",
        "```\n",
        "class Person:\n",
        "    def greet(self, name):\n",
        "        print(f\"Hello, {name}!\")\n",
        "\n",
        "p = Person()\n",
        "p.greet(\"Darshan\")\n",
        "```\n",
        "\n"
      ],
      "metadata": {
        "id": "5pavt7jtBv4Z"
      }
    },
    {
      "cell_type": "markdown",
      "source": [
        "##2. Explain the concept of function arguments and parameters in Python ?"
      ],
      "metadata": {
        "id": "HXGjYdtiBv2B"
      }
    },
    {
      "cell_type": "markdown",
      "source": [
        "- Parameters : The names used in a function definition to accept input values , it is like a as placeholders inside the function.\n",
        "\n",
        "\n",
        "```\n",
        "def greet(name):   # 'name' is a parameter\n",
        "    print(f\"Hello, {name}!\")\n",
        "```\n",
        "\n",
        "- Arguments: The actual values we pass to the function when calling it.They replace the parameters.\n",
        "\n",
        "\n",
        "\n",
        "```\n",
        "greet(\"Darshan\")   # \"Darshan\" is the argument\n",
        "```\n",
        "\n"
      ],
      "metadata": {
        "id": "-xYd8bpGBvz8"
      }
    },
    {
      "cell_type": "markdown",
      "source": [
        "##3.What are the different ways to define and call a function in Python ?"
      ],
      "metadata": {
        "id": "E7hBeYWoBvxj"
      }
    },
    {
      "cell_type": "markdown",
      "source": [
        "#Defining a Function :\n",
        "- In Python, we define a function using the def keyword (or lambda for small anonymous functions).\n",
        "- Function with Default Parameters\n",
        "- Function with Variable-Length Arguments\n",
        "- Function with Keyword Variable-Length Arguments\n",
        "```\n",
        "def greet(name):  #simple function\n",
        "    print(f\"Hello, {name}!\")\n",
        "\n",
        "def greet(name=\"Guest\"):  # Function with Default Parameters\n",
        "    print(f\"Hello, {name}!\")\n",
        "\n",
        "def add_numbers(*args):  # Function with Variable-Length\n",
        "    print(sum(args))     #Arguments\n",
        "\n",
        "def details(**kwargs):  # Function with Keyword Variable-Length\n",
        "    print(kwargs)       #Arguments\n",
        "\n",
        "square = lambda x: x**2   #lambda function\n",
        "print(square(5))\n",
        "\n",
        "```\n",
        "#we can call a function in different ways:\n",
        "- 1)Positional Arguments\n",
        "- 2)Keyword Arguments\n",
        "- 3)Default Arguments\n",
        "- 4)Variable-Length Arguments\n",
        "- 5)Calling Lambda Functions\n",
        "\n",
        "```\n",
        "1)def greet(name, age): # Positional Arguments\n",
        "    print(f\"{name} is {age} years old.\")\n",
        "greet(\"Darshan\", 21)  # Order matters\n",
        "\n",
        "2)greet(age=21, name=\"Darshan\")  #Keyword Arguments\n",
        "\n",
        "3)def greet(name, age=18):  #Default Arguments\n",
        "    print(f\"{name} is {age} years old.\")\n",
        "greet(\"Darshan\")  # Uses default age\n",
        "\n",
        "4)def add(*nums):  #Variable-Length Arguments\n",
        "    print(sum(nums))\n",
        "add(1,2,3,4)  # Can pass any number of arguments\n",
        "\n",
        "5) square = lambda x: x**2   #Calling Lambda Functions\n",
        "print(square(5))\n",
        "```\n",
        "\n",
        "\n",
        "\n"
      ],
      "metadata": {
        "id": "zs6zSSHwBvu6"
      }
    },
    {
      "cell_type": "markdown",
      "source": [
        "## 4.What is the purpose of the `return` statement in a Python function?\n",
        "- THe purpose of return in a Python is to returns a value from a function , When a function completes its task, return sends a value back.\n",
        "- Without return, the function returns None by default , once return is executed, the function stops immediately.\n",
        "- we can assign it to a variable, use it in expressions, or pass it to other functions.\n",
        "\n",
        "\n",
        "\n",
        "```\n",
        "1)def add(a, b):    # with return\n",
        "    return a + b  # returns the sum\n",
        "\n",
        "result = add(5, 3)  # result gets the value 8\n",
        "print(result)       # Output: 8\n",
        "\n",
        "2)def add(a, b):   # without return\n",
        "    print(a + b)\n",
        "\n",
        "result = add(5, 3)  \n",
        "print(result)  # Output: None\n",
        "\n",
        "\n",
        "```\n",
        "\n"
      ],
      "metadata": {
        "id": "LSdteQE7BvsR"
      }
    },
    {
      "cell_type": "markdown",
      "source": [
        "## 5.What are iterators in Python and how do they differ from iterables?"
      ],
      "metadata": {
        "id": "vF_-lEiGBvpQ"
      }
    },
    {
      "cell_type": "markdown",
      "source": [
        "#Iterable :\n",
        "- An iterable is any Python object we can loop over (iterate through).\n",
        "- Examples: list, tuple, string, dict, set.\n",
        "- we can use it in a for loop.\n",
        "- Iterable objects have an __iter__() method.\n",
        "\n",
        "\n",
        "\n",
        "```\n",
        "my_list = [1, 2, 3]\n",
        "for i in my_list:  # my_list is iterable\n",
        "    print(i)\n",
        "```\n",
        "\n",
        "# Iterator:\n",
        "- An iterator is an object that produces the next value when you call next() on it.\n",
        "- It remembers its state between calls.\n",
        "- Iterators have __iter__() and __next__() methods.\n",
        "\n",
        "\n",
        "\n",
        "```\n",
        "my_list = [1, 2, 3]\n",
        "it = iter(my_list)  # convert iterable to iterator\n",
        "\n",
        "print(next(it))  # 1\n",
        "print(next(it))  # 2\n",
        "print(next(it))  # 3\n",
        "# next(it) now will raise StopIteration\n",
        "```\n",
        "\n"
      ],
      "metadata": {
        "id": "GUbWugJ-BvgI"
      }
    },
    {
      "cell_type": "markdown",
      "source": [
        "## 6.  Explain the concept of generators in Python and how they are defined."
      ],
      "metadata": {
        "id": "Lr8ePRfOL-nZ"
      }
    },
    {
      "cell_type": "markdown",
      "source": [
        "# Generator :\n",
        "\n",
        "- A generator is a special type of iterator in Python.\n",
        "- Instead of computing all values at once, it generates values on the fly (lazy evaluation).\n",
        "- This saves memory, especially for large datasets.\n",
        "- we can iterate through it only once.\n",
        "\n",
        "# How to Define a Generator\n",
        "- Using a Function with yield\n",
        "- Use yield instead of return.\n",
        "- Each yield produces a value and pauses the function.\n",
        "- Next time we call next(), it resumes from where it left off.\n",
        "\n",
        "\n",
        "\n",
        "```\n",
        "def my_generator(n):\n",
        "    for i in range(n):\n",
        "        yield i  # produce a value and pause\n",
        "\n",
        "gen = my_generator(5)\n",
        "\n",
        "print(next(gen))  # 0\n",
        "print(next(gen))  # 1\n",
        "print(list(gen))  # [2, 3, 4]\n",
        "\n",
        "```\n",
        "\n",
        "# Using Generator Expression\n",
        "- Similar to list comprehension but with parentheses.\n",
        "\n",
        "\n",
        "\n",
        "```\n",
        "gen_exp = (x**2 for x in range(5))\n",
        "print(next(gen_exp))  # 0\n",
        "print(list(gen_exp))  # [1, 4, 9, 16]\n",
        "\n",
        "```\n",
        "\n"
      ],
      "metadata": {
        "id": "GDNztPUHL-6X"
      }
    },
    {
      "cell_type": "markdown",
      "source": [
        " ## 7.What are the advantages of using generators over regular functions?"
      ],
      "metadata": {
        "id": "IIQ9661UNvEH"
      }
    },
    {
      "cell_type": "markdown",
      "source": [
        "- Memory-efficient → doesn’t store all values at once.\n",
        "- Lazy evaluation → generates values only when needed.\n",
        "- Can represent infinite sequences → e.g., Fibonacci numbers.\n",
        "\n",
        "\n",
        "```\n",
        "# Generator uses less memory\n",
        "gen = (x**2 for x in range(1000000))\n",
        "```\n",
        "\n"
      ],
      "metadata": {
        "id": "83mUasGbNviv"
      }
    },
    {
      "cell_type": "markdown",
      "source": [
        " ## 8.What is a lambda function in Python and when is it typically used?\n",
        " - A lambda function is a small anonymous function in Python.\n",
        " - It is defined using the keyword lambda instead of def.\n",
        " - We can take any number of arguments but can only have one expression.\n",
        " - Returns the value of that expression automatically.\n",
        "\n",
        "\n",
        "\n",
        "```\n",
        "# Regular function\n",
        "def square(x):\n",
        "    return x**2\n",
        "\n",
        "# Lambda function\n",
        "square = lambda x: x**2\n",
        "\n",
        "print(square(5))  # Output: 25\n",
        "\n",
        "```\n",
        "\n",
        "- It is typically used when a Small, one-line functions where defining a full function is unnecessary , as arguments to higher-order functions like map(), filter(), reduce(), sorted().\n",
        "\n",
        "```\n",
        "# Example with map\n",
        "numbers = [1, 2, 3, 4]\n",
        "squares = list(map(lambda x: x**2, numbers))\n",
        "print(squares)  # Output: [1, 4, 9, 16]\n",
        "\n",
        "# Example with filter\n",
        "even_numbers = list(filter(lambda x: x%2==0, numbers))\n",
        "print(even_numbers)  # Output: [2, 4]\n",
        "\n",
        "```\n",
        "\n",
        "\n",
        "\n"
      ],
      "metadata": {
        "id": "ZSKIbKWDOIpj"
      }
    },
    {
      "cell_type": "markdown",
      "source": [
        " ## 9.Explain the purpose and usage of the `map()` function in Python.\n"
      ],
      "metadata": {
        "id": "TWo5Kx6IPeyt"
      }
    },
    {
      "cell_type": "markdown",
      "source": [
        "-  map() is a built-in Python function that applies a given function to each item of an iterable (like a list, tuple, or set).\n",
        "- It returns a map object (which is an iterator), so you usually convert it to a list or tuple.\n",
        "- Applies the function to every element of the iterable.Useful for transforming data without writing a loop.\n",
        "\n",
        "\n",
        "```\n",
        "# Square each number in a list\n",
        "numbers = [1, 2, 3, 4]\n",
        "squares = map(lambda x: x**2, numbers)\n",
        "print(list(squares))  # Output: [1, 4, 9, 16]\n",
        "\n",
        "```\n",
        "\n"
      ],
      "metadata": {
        "id": "V8WT-ZuLPmP-"
      }
    },
    {
      "cell_type": "markdown",
      "source": [
        " ## 10.What is the difference between `map()`, `reduce()`, and `filter()` functions in Python?"
      ],
      "metadata": {
        "id": "uQsnQLFHQTx5"
      }
    },
    {
      "cell_type": "markdown",
      "source": [
        "# Map()\n",
        "- Apply a function to each item in an iterable and return a new iterable.\n",
        "- Returns: map object (iterator).\n",
        "\n",
        "```\n",
        "numbers = [1, 2, 3, 4]\n",
        "squares = map(lambda x: x**2, numbers)\n",
        "print(list(squares))  # [1, 4, 9, 16]\n",
        "\n",
        "```\n",
        "\n",
        "#filter()\n",
        "- Select items from an iterable that meet a condition.\n",
        "- Returns: filter object (iterator).\n",
        "\n",
        "\n",
        "```\n",
        "numbers = [1, 2, 3, 4]\n",
        "evens = filter(lambda x: x % 2 == 0, numbers)\n",
        "print(list(evens))  # [2, 4]\n",
        "\n",
        "```\n",
        "\n",
        "#reduce()\n",
        "- Apply a function cumulatively to the items of an iterable to reduce it to a single value.\n",
        "- Returns: Single value.\n",
        "\n",
        "\n",
        "```\n",
        "from functools import reduce\n",
        "\n",
        "numbers = [1, 2, 3, 4]\n",
        "sum_total = reduce(lambda x, y: x + y, numbers)\n",
        "print(sum_total)  # 10\n",
        "\n",
        "```\n",
        "\n",
        "\n"
      ],
      "metadata": {
        "id": "h1BtBU--QXnL"
      }
    },
    {
      "cell_type": "markdown",
      "source": [
        "##11. Using pen & Paper write the internal mechanism for sum operation using  reduce function on this given list:[47,11,42,13];"
      ],
      "metadata": {
        "id": "IunIvoJpRItk"
      }
    },
    {
      "cell_type": "markdown",
      "source": [
        "![WhatsApp Image 2025-09-21 at 11.02.51_65e670ab.jpg](data:image/jpeg;base64,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)"
      ],
      "metadata": {
        "id": "gVGzMCJ-wIc9"
      }
    },
    {
      "cell_type": "markdown",
      "source": [
        "#Practical Questions:"
      ],
      "metadata": {
        "id": "Jyc3jYUKxCj2"
      }
    },
    {
      "cell_type": "markdown",
      "source": [
        "## 1. Write a Python function that takes a list of numbers as input and returns the sum of all even numbers in the list"
      ],
      "metadata": {
        "id": "iT_hVeElxFhi"
      }
    },
    {
      "cell_type": "code",
      "source": [
        "def sum_even_numbers(numbers):\n",
        "    sum = 0\n",
        "    for num in numbers:\n",
        "        if num % 2 == 0:\n",
        "            sum += num\n",
        "    return sum\n",
        "\n",
        "print(sum_even_numbers([2,3,4,5,6]))"
      ],
      "metadata": {
        "colab": {
          "base_uri": "https://localhost:8080/"
        },
        "id": "9oFXN5q1xLiy",
        "outputId": "b718c56d-d8da-499f-f7cb-e9ab5be636f9"
      },
      "execution_count": 14,
      "outputs": [
        {
          "output_type": "stream",
          "name": "stdout",
          "text": [
            "12\n"
          ]
        }
      ]
    },
    {
      "cell_type": "markdown",
      "source": [
        "## 2. Create a Python function that accepts a string and returns the reverse of that string."
      ],
      "metadata": {
        "id": "YVmziN8dxFef"
      }
    },
    {
      "cell_type": "code",
      "source": [
        "def reversed_string(string1):\n",
        "  return string1[::-1]\n",
        "\n",
        "print(reversed_string(\"hello\"))"
      ],
      "metadata": {
        "colab": {
          "base_uri": "https://localhost:8080/"
        },
        "id": "ZDPK8zTkxzmE",
        "outputId": "90620a09-aeb7-437c-e7c3-3680f6be33f4"
      },
      "execution_count": 15,
      "outputs": [
        {
          "output_type": "stream",
          "name": "stdout",
          "text": [
            "olleh\n"
          ]
        }
      ]
    },
    {
      "cell_type": "markdown",
      "source": [
        "## 3.Implement a Python function that takes a list of integers and returns a new list containing the squares of each number."
      ],
      "metadata": {
        "id": "Z1_wbAllxFY0"
      }
    },
    {
      "cell_type": "code",
      "source": [
        "def square_list(list1):\n",
        "  return [i**2 for i in list1]\n",
        "\n",
        "print(square_list([2,3,4,5,6]))"
      ],
      "metadata": {
        "colab": {
          "base_uri": "https://localhost:8080/"
        },
        "id": "Ch_mPGWOyHyt",
        "outputId": "5c80c1ea-d11a-43df-e438-d4f913c05150"
      },
      "execution_count": 16,
      "outputs": [
        {
          "output_type": "stream",
          "name": "stdout",
          "text": [
            "[4, 9, 16, 25, 36]\n"
          ]
        }
      ]
    },
    {
      "cell_type": "markdown",
      "source": [
        "## 4. Write a Python function that checks if a given number is prime or not from 1 to 200"
      ],
      "metadata": {
        "id": "OZ4mGjcaxFVY"
      }
    },
    {
      "cell_type": "code",
      "source": [
        "def is_prime(num):\n",
        "    if num <= 1:\n",
        "        return False\n",
        "    for i in range(2, int(num**0.5) + 1):\n",
        "        if num % i == 0:\n",
        "            return False\n",
        "    return True\n",
        "for n in range(1, 201):\n",
        "    if is_prime(n):\n",
        "        print(f\"{n} is a Prime number\")\n",
        "    else:\n",
        "        print(f\"{n} is NOT a Prime number\")\n"
      ],
      "metadata": {
        "colab": {
          "base_uri": "https://localhost:8080/"
        },
        "collapsed": true,
        "id": "zgQQXZWPyip2",
        "outputId": "4720c118-1f34-4da4-d39b-9afff88f6a62"
      },
      "execution_count": 18,
      "outputs": [
        {
          "output_type": "stream",
          "name": "stdout",
          "text": [
            "1 is NOT a Prime number\n",
            "2 is a Prime number\n",
            "3 is a Prime number\n",
            "4 is NOT a Prime number\n",
            "5 is a Prime number\n",
            "6 is NOT a Prime number\n",
            "7 is a Prime number\n",
            "8 is NOT a Prime number\n",
            "9 is NOT a Prime number\n",
            "10 is NOT a Prime number\n",
            "11 is a Prime number\n",
            "12 is NOT a Prime number\n",
            "13 is a Prime number\n",
            "14 is NOT a Prime number\n",
            "15 is NOT a Prime number\n",
            "16 is NOT a Prime number\n",
            "17 is a Prime number\n",
            "18 is NOT a Prime number\n",
            "19 is a Prime number\n",
            "20 is NOT a Prime number\n",
            "21 is NOT a Prime number\n",
            "22 is NOT a Prime number\n",
            "23 is a Prime number\n",
            "24 is NOT a Prime number\n",
            "25 is NOT a Prime number\n",
            "26 is NOT a Prime number\n",
            "27 is NOT a Prime number\n",
            "28 is NOT a Prime number\n",
            "29 is a Prime number\n",
            "30 is NOT a Prime number\n",
            "31 is a Prime number\n",
            "32 is NOT a Prime number\n",
            "33 is NOT a Prime number\n",
            "34 is NOT a Prime number\n",
            "35 is NOT a Prime number\n",
            "36 is NOT a Prime number\n",
            "37 is a Prime number\n",
            "38 is NOT a Prime number\n",
            "39 is NOT a Prime number\n",
            "40 is NOT a Prime number\n",
            "41 is a Prime number\n",
            "42 is NOT a Prime number\n",
            "43 is a Prime number\n",
            "44 is NOT a Prime number\n",
            "45 is NOT a Prime number\n",
            "46 is NOT a Prime number\n",
            "47 is a Prime number\n",
            "48 is NOT a Prime number\n",
            "49 is NOT a Prime number\n",
            "50 is NOT a Prime number\n",
            "51 is NOT a Prime number\n",
            "52 is NOT a Prime number\n",
            "53 is a Prime number\n",
            "54 is NOT a Prime number\n",
            "55 is NOT a Prime number\n",
            "56 is NOT a Prime number\n",
            "57 is NOT a Prime number\n",
            "58 is NOT a Prime number\n",
            "59 is a Prime number\n",
            "60 is NOT a Prime number\n",
            "61 is a Prime number\n",
            "62 is NOT a Prime number\n",
            "63 is NOT a Prime number\n",
            "64 is NOT a Prime number\n",
            "65 is NOT a Prime number\n",
            "66 is NOT a Prime number\n",
            "67 is a Prime number\n",
            "68 is NOT a Prime number\n",
            "69 is NOT a Prime number\n",
            "70 is NOT a Prime number\n",
            "71 is a Prime number\n",
            "72 is NOT a Prime number\n",
            "73 is a Prime number\n",
            "74 is NOT a Prime number\n",
            "75 is NOT a Prime number\n",
            "76 is NOT a Prime number\n",
            "77 is NOT a Prime number\n",
            "78 is NOT a Prime number\n",
            "79 is a Prime number\n",
            "80 is NOT a Prime number\n",
            "81 is NOT a Prime number\n",
            "82 is NOT a Prime number\n",
            "83 is a Prime number\n",
            "84 is NOT a Prime number\n",
            "85 is NOT a Prime number\n",
            "86 is NOT a Prime number\n",
            "87 is NOT a Prime number\n",
            "88 is NOT a Prime number\n",
            "89 is a Prime number\n",
            "90 is NOT a Prime number\n",
            "91 is NOT a Prime number\n",
            "92 is NOT a Prime number\n",
            "93 is NOT a Prime number\n",
            "94 is NOT a Prime number\n",
            "95 is NOT a Prime number\n",
            "96 is NOT a Prime number\n",
            "97 is a Prime number\n",
            "98 is NOT a Prime number\n",
            "99 is NOT a Prime number\n",
            "100 is NOT a Prime number\n",
            "101 is a Prime number\n",
            "102 is NOT a Prime number\n",
            "103 is a Prime number\n",
            "104 is NOT a Prime number\n",
            "105 is NOT a Prime number\n",
            "106 is NOT a Prime number\n",
            "107 is a Prime number\n",
            "108 is NOT a Prime number\n",
            "109 is a Prime number\n",
            "110 is NOT a Prime number\n",
            "111 is NOT a Prime number\n",
            "112 is NOT a Prime number\n",
            "113 is a Prime number\n",
            "114 is NOT a Prime number\n",
            "115 is NOT a Prime number\n",
            "116 is NOT a Prime number\n",
            "117 is NOT a Prime number\n",
            "118 is NOT a Prime number\n",
            "119 is NOT a Prime number\n",
            "120 is NOT a Prime number\n",
            "121 is NOT a Prime number\n",
            "122 is NOT a Prime number\n",
            "123 is NOT a Prime number\n",
            "124 is NOT a Prime number\n",
            "125 is NOT a Prime number\n",
            "126 is NOT a Prime number\n",
            "127 is a Prime number\n",
            "128 is NOT a Prime number\n",
            "129 is NOT a Prime number\n",
            "130 is NOT a Prime number\n",
            "131 is a Prime number\n",
            "132 is NOT a Prime number\n",
            "133 is NOT a Prime number\n",
            "134 is NOT a Prime number\n",
            "135 is NOT a Prime number\n",
            "136 is NOT a Prime number\n",
            "137 is a Prime number\n",
            "138 is NOT a Prime number\n",
            "139 is a Prime number\n",
            "140 is NOT a Prime number\n",
            "141 is NOT a Prime number\n",
            "142 is NOT a Prime number\n",
            "143 is NOT a Prime number\n",
            "144 is NOT a Prime number\n",
            "145 is NOT a Prime number\n",
            "146 is NOT a Prime number\n",
            "147 is NOT a Prime number\n",
            "148 is NOT a Prime number\n",
            "149 is a Prime number\n",
            "150 is NOT a Prime number\n",
            "151 is a Prime number\n",
            "152 is NOT a Prime number\n",
            "153 is NOT a Prime number\n",
            "154 is NOT a Prime number\n",
            "155 is NOT a Prime number\n",
            "156 is NOT a Prime number\n",
            "157 is a Prime number\n",
            "158 is NOT a Prime number\n",
            "159 is NOT a Prime number\n",
            "160 is NOT a Prime number\n",
            "161 is NOT a Prime number\n",
            "162 is NOT a Prime number\n",
            "163 is a Prime number\n",
            "164 is NOT a Prime number\n",
            "165 is NOT a Prime number\n",
            "166 is NOT a Prime number\n",
            "167 is a Prime number\n",
            "168 is NOT a Prime number\n",
            "169 is NOT a Prime number\n",
            "170 is NOT a Prime number\n",
            "171 is NOT a Prime number\n",
            "172 is NOT a Prime number\n",
            "173 is a Prime number\n",
            "174 is NOT a Prime number\n",
            "175 is NOT a Prime number\n",
            "176 is NOT a Prime number\n",
            "177 is NOT a Prime number\n",
            "178 is NOT a Prime number\n",
            "179 is a Prime number\n",
            "180 is NOT a Prime number\n",
            "181 is a Prime number\n",
            "182 is NOT a Prime number\n",
            "183 is NOT a Prime number\n",
            "184 is NOT a Prime number\n",
            "185 is NOT a Prime number\n",
            "186 is NOT a Prime number\n",
            "187 is NOT a Prime number\n",
            "188 is NOT a Prime number\n",
            "189 is NOT a Prime number\n",
            "190 is NOT a Prime number\n",
            "191 is a Prime number\n",
            "192 is NOT a Prime number\n",
            "193 is a Prime number\n",
            "194 is NOT a Prime number\n",
            "195 is NOT a Prime number\n",
            "196 is NOT a Prime number\n",
            "197 is a Prime number\n",
            "198 is NOT a Prime number\n",
            "199 is a Prime number\n",
            "200 is NOT a Prime number\n"
          ]
        }
      ]
    },
    {
      "cell_type": "markdown",
      "source": [
        "##5. Create an iterator class in Python that generates the Fibonacci sequence up to a specified number of terms."
      ],
      "metadata": {
        "id": "sv5s0FaSxFR_"
      }
    },
    {
      "cell_type": "code",
      "source": [
        "def fibonacci_sequence(n):\n",
        "    a, b = 0, 1\n",
        "    for _ in range(n):\n",
        "        yield a\n",
        "        a, b = b, a + b\n",
        "\n",
        "for num in fibonacci_sequence(10):\n",
        "    print(num)"
      ],
      "metadata": {
        "colab": {
          "base_uri": "https://localhost:8080/"
        },
        "id": "AwtKWzbC046D",
        "outputId": "48eed111-f873-48eb-d863-708a920c2079"
      },
      "execution_count": 20,
      "outputs": [
        {
          "output_type": "stream",
          "name": "stdout",
          "text": [
            "0\n",
            "1\n",
            "1\n",
            "2\n",
            "3\n",
            "5\n",
            "8\n",
            "13\n",
            "21\n",
            "34\n"
          ]
        }
      ]
    },
    {
      "cell_type": "markdown",
      "source": [
        "## 6. Write a generator function in Python that yields the powers of 2 up to a given exponent."
      ],
      "metadata": {
        "id": "UixujBbCxFPK"
      }
    },
    {
      "cell_type": "code",
      "source": [
        "def num_power(n):\n",
        "  for i in range(0,n+1):\n",
        "    yield i**2\n",
        "\n",
        "list(num_power(5))\n"
      ],
      "metadata": {
        "colab": {
          "base_uri": "https://localhost:8080/"
        },
        "id": "1BF7eese1tYh",
        "outputId": "8ee9864b-f2c0-459b-ca8f-5e2d37db9be6"
      },
      "execution_count": 25,
      "outputs": [
        {
          "output_type": "execute_result",
          "data": {
            "text/plain": [
              "[0, 1, 4, 9, 16, 25]"
            ]
          },
          "metadata": {},
          "execution_count": 25
        }
      ]
    },
    {
      "cell_type": "markdown",
      "source": [
        "## 7. Implement a generator function that reads a file line by line and yields each line as a string."
      ],
      "metadata": {
        "id": "YCJO1Ia2xFIm"
      }
    },
    {
      "cell_type": "code",
      "source": [
        "#7. Implement a generator function that reads a file line by line and yields each line as a string.\n",
        "\n",
        "def"
      ],
      "metadata": {
        "id": "5MpUtQuP2gt-"
      },
      "execution_count": null,
      "outputs": []
    },
    {
      "cell_type": "markdown",
      "source": [
        "## 8. Use a lambda function in Python to sort a list of tuples based on the second element of each tuple"
      ],
      "metadata": {
        "id": "MWx3rphhxFFE"
      }
    },
    {
      "cell_type": "code",
      "source": [
        "list1 = [(1, 3), (4, 1), (2, 2), (5, 0)]\n",
        "\n",
        "sorted_data = sorted(list1, key=lambda x: x[1])\n",
        "print(sorted_data)"
      ],
      "metadata": {
        "colab": {
          "base_uri": "https://localhost:8080/"
        },
        "id": "COTSY2Wc7vtj",
        "outputId": "ced5bc7d-76b2-4196-ce55-1724b0f63d2b"
      },
      "execution_count": 28,
      "outputs": [
        {
          "output_type": "stream",
          "name": "stdout",
          "text": [
            "[(5, 0), (4, 1), (2, 2), (1, 3)]\n"
          ]
        }
      ]
    },
    {
      "cell_type": "markdown",
      "source": [
        "## 9. Write a Python program that uses `map()` to convert a list of temperatures from Celsius to Fahrenheit."
      ],
      "metadata": {
        "id": "HCALYVoPxFBL"
      }
    },
    {
      "cell_type": "code",
      "source": [
        "celsius = [0, 20, 37, 100]\n",
        "\n",
        "fahrenheit = list(map(lambda c: (c * 9/5) + 32, celsius))\n",
        "print(f\"{celsius} Celsius in Fahrenheit is {fahrenheit}\")\n"
      ],
      "metadata": {
        "colab": {
          "base_uri": "https://localhost:8080/"
        },
        "id": "DuI4nw7Q8HK-",
        "outputId": "2554f027-5007-4c93-e76c-8905dd756c6a"
      },
      "execution_count": 32,
      "outputs": [
        {
          "output_type": "stream",
          "name": "stdout",
          "text": [
            "[0, 20, 37, 100] Celsius in Fahrenheit is [32.0, 68.0, 98.6, 212.0]\n"
          ]
        }
      ]
    },
    {
      "cell_type": "markdown",
      "source": [
        "## 10. Create a Python program that uses `filter()` to remove all the vowels from a given string."
      ],
      "metadata": {
        "id": "z42Np4X_8AM6"
      }
    },
    {
      "cell_type": "code",
      "source": [
        "text = \"Darshan Kedare\"\n",
        "no_vowels = lambda ch: ch.lower() not in 'aeiou'\n",
        "\n",
        "filtered_text = ''.join(filter(no_vowels, text))\n",
        "\n",
        "print(\"Original text:\", text)\n",
        "print(\"Without vowels:\", filtered_text)\n"
      ],
      "metadata": {
        "colab": {
          "base_uri": "https://localhost:8080/"
        },
        "id": "DXmN51AO8--A",
        "outputId": "3d22be01-8057-40ee-98e5-dc1c3213fc14"
      },
      "execution_count": 33,
      "outputs": [
        {
          "output_type": "stream",
          "name": "stdout",
          "text": [
            "Original text: Darshan Kedare\n",
            "Without vowels: Drshn Kdr\n"
          ]
        }
      ]
    },
    {
      "cell_type": "markdown",
      "source": [
        "## 11) Imagine an accounting routine used in a book shop. It works on a list with sublists, which look like this:\n",
        "\n",
        "Write a Python program, which returns a list with 2-tuples. Each tuple consists of the order number and the\n",
        "product of the price per item and the quantity. The product should be increased by 10,- € if the value of the\n",
        "order is smaller than 100,00 €.\n",
        "\n",
        "Write a Python program using lambda and map."
      ],
      "metadata": {
        "id": "BwmNKWWn8AJ_"
      }
    },
    {
      "cell_type": "code",
      "source": [
        "orders = [\n",
        "    [34587, \"Learning Python, Mark Lutz\", 4, 40.95],\n",
        "    [98762, \"Programming Python, Mark Lutz\", 5, 56.80],\n",
        "    [77226, \"Head First Python, Paul Barry\", 3, 32.95],\n",
        "    [88112, \"Einführung in Python3, Bernd Klein\", 3, 24.99]\n",
        "]\n",
        "result = list(map(lambda order: (order[0],order[2] * order[3] + (10 if order[2] * order[3] < 100 else 0)), orders))\n",
        "print(result)\n"
      ],
      "metadata": {
        "colab": {
          "base_uri": "https://localhost:8080/"
        },
        "id": "lvuhtsam-D5M",
        "outputId": "d38c0b88-5787-4c32-f383-0b4d9ca85f10"
      },
      "execution_count": 34,
      "outputs": [
        {
          "output_type": "stream",
          "name": "stdout",
          "text": [
            "[(34587, 163.8), (98762, 284.0), (77226, 108.85000000000001), (88112, 84.97)]\n"
          ]
        }
      ]
    }
  ]
}